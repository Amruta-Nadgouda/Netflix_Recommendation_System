{
 "cells": [
  {
   "cell_type": "code",
   "execution_count": 68,
   "metadata": {},
   "outputs": [],
   "source": [
    "import pandas as pd\n",
    "import numpy as np\n",
    "import seaborn as sns\n",
    "import matplotlib.pyplot as plt\n",
    "import zipfile\n",
    "from collections import deque\n",
    "from scipy.sparse import coo_matrix\n",
    "from scipy.sparse import vstack"
   ]
  },
  {
   "cell_type": "code",
   "execution_count": 2,
   "metadata": {},
   "outputs": [],
   "source": [
    "'''with zipfile.ZipFile(\"netflix-prize-data.zip\",\"r\") as zip_ref:\n",
    "    zip_ref.extractall(\"data\")'''\n",
    "#Run only once to create parkingtickets folder"
   ]
  },
  {
   "cell_type": "code",
   "execution_count": 69,
   "metadata": {},
   "outputs": [
    {
     "data": {
      "text/plain": [
       "<bound method DataFrame.info of          Year                                               Name\n",
       "Id                                                              \n",
       "1      2003.0                                    Dinosaur Planet\n",
       "2      2004.0                         Isle of Man TT 2004 Review\n",
       "3      1997.0                                          Character\n",
       "4      1994.0                       Paula Abdul's Get Up & Dance\n",
       "5      2004.0                           The Rise and Fall of ECW\n",
       "6      1997.0                                               Sick\n",
       "7      1992.0                                              8 Man\n",
       "8      2004.0                         What the #$*! Do We Know!?\n",
       "9      1991.0                           Class of Nuke 'Em High 2\n",
       "10     2001.0                                            Fighter\n",
       "11     1999.0                     Full Frame: Documentary Shorts\n",
       "12     1947.0                               My Favorite Brunette\n",
       "13     2003.0  Lord of the Rings: The Return of the King: Ext...\n",
       "14     1982.0                                 Nature: Antarctica\n",
       "15     1988.0                   Neil Diamond: Greatest Hits Live\n",
       "16     1996.0                                          Screamers\n",
       "17     2005.0                                          7 Seconds\n",
       "18     1994.0                                   Immortal Beloved\n",
       "19     2000.0                              By Dawn's Early Light\n",
       "20     1972.0                                    Seeta Aur Geeta\n",
       "21     2002.0                                  Strange Relations\n",
       "22     2000.0                                       Chump Change\n",
       "23     2001.0  Clifford: Clifford Saves the Day! / Clifford's...\n",
       "24     1981.0                                My Bloody Valentine\n",
       "25     1997.0      Inspector Morse 31: Death Is Now My Neighbour\n",
       "26     2004.0                                    Never Die Alone\n",
       "27     1962.0  Sesame Street: Elmo's World: The Street We Liv...\n",
       "28     2002.0                                    Lilo and Stitch\n",
       "29     2001.0                                            Boycott\n",
       "30     2003.0                             Something's Gotta Give\n",
       "...       ...                                                ...\n",
       "17741  2004.0                          Ginger Snaps 2: Unleashed\n",
       "17742  1995.0                                Catherine the Great\n",
       "17743  2003.0                               Better Luck Tomorrow\n",
       "17744  2004.0                         NASCAR: Tony Stewart Smoke\n",
       "17745  2002.0      Russell Simmons Presents Def Poetry: Season 1\n",
       "17746  1991.0  Godzilla & Mothra: Battle for Earth / Vs. King...\n",
       "17747  1991.0                            Eric Clapton: 24 Nights\n",
       "17748  2005.0        Dog the Bounty Hunter: The Best of Season 1\n",
       "17749  1985.0                                             No End\n",
       "17750  2005.0                     The Hee Haw Collection: Vol. 4\n",
       "17751  1993.0                               Highlander: Season 2\n",
       "17752  2003.0                                       Out of Order\n",
       "17753  1997.0                                       Maslin Beach\n",
       "17754  1999.0                                       On the Ropes\n",
       "17755  2003.0                           L/R: Licensed by Royalty\n",
       "17756  1935.0                                       The 39 Steps\n",
       "17757  2002.0  Ulysses S. Grant: Warrior / President: America...\n",
       "17758  1979.0                                           Prophecy\n",
       "17759  1972.0                                  The Big Bird Cage\n",
       "17760  2004.0                                      Lightning Bug\n",
       "17761  2003.0                                             Levity\n",
       "17762  1997.0                                            Gattaca\n",
       "17763  1978.0                                          Interiors\n",
       "17764  1998.0                                Shakespeare in Love\n",
       "17765  1969.0                                 Godzilla's Revenge\n",
       "17766  2002.0  Where the Wild Things Are and Other Maurice Se...\n",
       "17767  2004.0                  Fidel Castro: American Experience\n",
       "17768  2000.0                                              Epoch\n",
       "17769  2003.0                                        The Company\n",
       "17770  2003.0                                       Alien Hunter\n",
       "\n",
       "[17770 rows x 2 columns]>"
      ]
     },
     "execution_count": 69,
     "metadata": {},
     "output_type": "execute_result"
    }
   ],
   "source": [
    "movieTitle = pd.read_csv('data/movie_titles.csv',\n",
    "                        encoding = 'ISO-8859-1',\n",
    "                        header = None,\n",
    "                        names = ['Id', 'Year', 'Name']).set_index('Id')\n",
    "movieTitle.info"
   ]
  },
  {
   "cell_type": "code",
   "execution_count": 70,
   "metadata": {},
   "outputs": [
    {
     "data": {
      "text/html": [
       "<div>\n",
       "<style scoped>\n",
       "    .dataframe tbody tr th:only-of-type {\n",
       "        vertical-align: middle;\n",
       "    }\n",
       "\n",
       "    .dataframe tbody tr th {\n",
       "        vertical-align: top;\n",
       "    }\n",
       "\n",
       "    .dataframe thead th {\n",
       "        text-align: right;\n",
       "    }\n",
       "</style>\n",
       "<table border=\"1\" class=\"dataframe\">\n",
       "  <thead>\n",
       "    <tr style=\"text-align: right;\">\n",
       "      <th></th>\n",
       "      <th>User</th>\n",
       "      <th>Rating</th>\n",
       "      <th>Date</th>\n",
       "    </tr>\n",
       "  </thead>\n",
       "  <tbody>\n",
       "    <tr>\n",
       "      <th>0</th>\n",
       "      <td>1:</td>\n",
       "      <td>NaN</td>\n",
       "      <td>NaN</td>\n",
       "    </tr>\n",
       "    <tr>\n",
       "      <th>1</th>\n",
       "      <td>1488844</td>\n",
       "      <td>3.0</td>\n",
       "      <td>2005-09-06</td>\n",
       "    </tr>\n",
       "    <tr>\n",
       "      <th>2</th>\n",
       "      <td>822109</td>\n",
       "      <td>5.0</td>\n",
       "      <td>2005-05-13</td>\n",
       "    </tr>\n",
       "    <tr>\n",
       "      <th>3</th>\n",
       "      <td>885013</td>\n",
       "      <td>4.0</td>\n",
       "      <td>2005-10-19</td>\n",
       "    </tr>\n",
       "    <tr>\n",
       "      <th>4</th>\n",
       "      <td>30878</td>\n",
       "      <td>4.0</td>\n",
       "      <td>2005-12-26</td>\n",
       "    </tr>\n",
       "    <tr>\n",
       "      <th>5</th>\n",
       "      <td>823519</td>\n",
       "      <td>3.0</td>\n",
       "      <td>2004-05-03</td>\n",
       "    </tr>\n",
       "    <tr>\n",
       "      <th>6</th>\n",
       "      <td>893988</td>\n",
       "      <td>3.0</td>\n",
       "      <td>2005-11-17</td>\n",
       "    </tr>\n",
       "    <tr>\n",
       "      <th>7</th>\n",
       "      <td>124105</td>\n",
       "      <td>4.0</td>\n",
       "      <td>2004-08-05</td>\n",
       "    </tr>\n",
       "    <tr>\n",
       "      <th>8</th>\n",
       "      <td>1248029</td>\n",
       "      <td>3.0</td>\n",
       "      <td>2004-04-22</td>\n",
       "    </tr>\n",
       "    <tr>\n",
       "      <th>9</th>\n",
       "      <td>1842128</td>\n",
       "      <td>4.0</td>\n",
       "      <td>2004-05-09</td>\n",
       "    </tr>\n",
       "    <tr>\n",
       "      <th>10</th>\n",
       "      <td>2238063</td>\n",
       "      <td>3.0</td>\n",
       "      <td>2005-05-11</td>\n",
       "    </tr>\n",
       "    <tr>\n",
       "      <th>11</th>\n",
       "      <td>1503895</td>\n",
       "      <td>4.0</td>\n",
       "      <td>2005-05-19</td>\n",
       "    </tr>\n",
       "    <tr>\n",
       "      <th>12</th>\n",
       "      <td>2207774</td>\n",
       "      <td>5.0</td>\n",
       "      <td>2005-06-06</td>\n",
       "    </tr>\n",
       "    <tr>\n",
       "      <th>13</th>\n",
       "      <td>2590061</td>\n",
       "      <td>3.0</td>\n",
       "      <td>2004-08-12</td>\n",
       "    </tr>\n",
       "    <tr>\n",
       "      <th>14</th>\n",
       "      <td>2442</td>\n",
       "      <td>3.0</td>\n",
       "      <td>2004-04-14</td>\n",
       "    </tr>\n",
       "    <tr>\n",
       "      <th>15</th>\n",
       "      <td>543865</td>\n",
       "      <td>4.0</td>\n",
       "      <td>2004-05-28</td>\n",
       "    </tr>\n",
       "    <tr>\n",
       "      <th>16</th>\n",
       "      <td>1209119</td>\n",
       "      <td>4.0</td>\n",
       "      <td>2004-03-23</td>\n",
       "    </tr>\n",
       "    <tr>\n",
       "      <th>17</th>\n",
       "      <td>804919</td>\n",
       "      <td>4.0</td>\n",
       "      <td>2004-06-10</td>\n",
       "    </tr>\n",
       "    <tr>\n",
       "      <th>18</th>\n",
       "      <td>1086807</td>\n",
       "      <td>3.0</td>\n",
       "      <td>2004-12-28</td>\n",
       "    </tr>\n",
       "    <tr>\n",
       "      <th>19</th>\n",
       "      <td>1711859</td>\n",
       "      <td>4.0</td>\n",
       "      <td>2005-05-08</td>\n",
       "    </tr>\n",
       "    <tr>\n",
       "      <th>20</th>\n",
       "      <td>372233</td>\n",
       "      <td>5.0</td>\n",
       "      <td>2005-11-23</td>\n",
       "    </tr>\n",
       "    <tr>\n",
       "      <th>21</th>\n",
       "      <td>1080361</td>\n",
       "      <td>3.0</td>\n",
       "      <td>2005-03-28</td>\n",
       "    </tr>\n",
       "    <tr>\n",
       "      <th>22</th>\n",
       "      <td>1245640</td>\n",
       "      <td>3.0</td>\n",
       "      <td>2005-12-19</td>\n",
       "    </tr>\n",
       "    <tr>\n",
       "      <th>23</th>\n",
       "      <td>558634</td>\n",
       "      <td>4.0</td>\n",
       "      <td>2004-12-14</td>\n",
       "    </tr>\n",
       "    <tr>\n",
       "      <th>24</th>\n",
       "      <td>2165002</td>\n",
       "      <td>4.0</td>\n",
       "      <td>2004-04-06</td>\n",
       "    </tr>\n",
       "    <tr>\n",
       "      <th>25</th>\n",
       "      <td>1181550</td>\n",
       "      <td>3.0</td>\n",
       "      <td>2004-02-01</td>\n",
       "    </tr>\n",
       "    <tr>\n",
       "      <th>26</th>\n",
       "      <td>1227322</td>\n",
       "      <td>4.0</td>\n",
       "      <td>2004-02-06</td>\n",
       "    </tr>\n",
       "    <tr>\n",
       "      <th>27</th>\n",
       "      <td>427928</td>\n",
       "      <td>4.0</td>\n",
       "      <td>2004-02-26</td>\n",
       "    </tr>\n",
       "    <tr>\n",
       "      <th>28</th>\n",
       "      <td>814701</td>\n",
       "      <td>5.0</td>\n",
       "      <td>2005-09-29</td>\n",
       "    </tr>\n",
       "    <tr>\n",
       "      <th>29</th>\n",
       "      <td>808731</td>\n",
       "      <td>4.0</td>\n",
       "      <td>2005-10-31</td>\n",
       "    </tr>\n",
       "    <tr>\n",
       "      <th>...</th>\n",
       "      <td>...</td>\n",
       "      <td>...</td>\n",
       "      <td>...</td>\n",
       "    </tr>\n",
       "    <tr>\n",
       "      <th>24058233</th>\n",
       "      <td>1836014</td>\n",
       "      <td>3.0</td>\n",
       "      <td>2004-05-05</td>\n",
       "    </tr>\n",
       "    <tr>\n",
       "      <th>24058234</th>\n",
       "      <td>1960927</td>\n",
       "      <td>1.0</td>\n",
       "      <td>2005-08-30</td>\n",
       "    </tr>\n",
       "    <tr>\n",
       "      <th>24058235</th>\n",
       "      <td>2385226</td>\n",
       "      <td>1.0</td>\n",
       "      <td>2004-05-17</td>\n",
       "    </tr>\n",
       "    <tr>\n",
       "      <th>24058236</th>\n",
       "      <td>1997469</td>\n",
       "      <td>2.0</td>\n",
       "      <td>2004-06-22</td>\n",
       "    </tr>\n",
       "    <tr>\n",
       "      <th>24058237</th>\n",
       "      <td>811530</td>\n",
       "      <td>4.0</td>\n",
       "      <td>2004-07-28</td>\n",
       "    </tr>\n",
       "    <tr>\n",
       "      <th>24058238</th>\n",
       "      <td>1083336</td>\n",
       "      <td>5.0</td>\n",
       "      <td>2004-12-02</td>\n",
       "    </tr>\n",
       "    <tr>\n",
       "      <th>24058239</th>\n",
       "      <td>1309223</td>\n",
       "      <td>1.0</td>\n",
       "      <td>2005-04-24</td>\n",
       "    </tr>\n",
       "    <tr>\n",
       "      <th>24058240</th>\n",
       "      <td>604335</td>\n",
       "      <td>4.0</td>\n",
       "      <td>2005-04-25</td>\n",
       "    </tr>\n",
       "    <tr>\n",
       "      <th>24058241</th>\n",
       "      <td>307404</td>\n",
       "      <td>2.0</td>\n",
       "      <td>2004-10-22</td>\n",
       "    </tr>\n",
       "    <tr>\n",
       "      <th>24058242</th>\n",
       "      <td>1334851</td>\n",
       "      <td>3.0</td>\n",
       "      <td>2005-10-25</td>\n",
       "    </tr>\n",
       "    <tr>\n",
       "      <th>24058243</th>\n",
       "      <td>1061120</td>\n",
       "      <td>3.0</td>\n",
       "      <td>2004-05-25</td>\n",
       "    </tr>\n",
       "    <tr>\n",
       "      <th>24058244</th>\n",
       "      <td>1852040</td>\n",
       "      <td>1.0</td>\n",
       "      <td>2004-05-13</td>\n",
       "    </tr>\n",
       "    <tr>\n",
       "      <th>24058245</th>\n",
       "      <td>268846</td>\n",
       "      <td>4.0</td>\n",
       "      <td>2004-04-26</td>\n",
       "    </tr>\n",
       "    <tr>\n",
       "      <th>24058246</th>\n",
       "      <td>2368103</td>\n",
       "      <td>2.0</td>\n",
       "      <td>2004-07-05</td>\n",
       "    </tr>\n",
       "    <tr>\n",
       "      <th>24058247</th>\n",
       "      <td>529787</td>\n",
       "      <td>4.0</td>\n",
       "      <td>2005-11-30</td>\n",
       "    </tr>\n",
       "    <tr>\n",
       "      <th>24058248</th>\n",
       "      <td>441248</td>\n",
       "      <td>4.0</td>\n",
       "      <td>2005-04-05</td>\n",
       "    </tr>\n",
       "    <tr>\n",
       "      <th>24058249</th>\n",
       "      <td>2092745</td>\n",
       "      <td>5.0</td>\n",
       "      <td>2005-03-15</td>\n",
       "    </tr>\n",
       "    <tr>\n",
       "      <th>24058250</th>\n",
       "      <td>555962</td>\n",
       "      <td>5.0</td>\n",
       "      <td>2004-05-05</td>\n",
       "    </tr>\n",
       "    <tr>\n",
       "      <th>24058251</th>\n",
       "      <td>303969</td>\n",
       "      <td>2.0</td>\n",
       "      <td>2004-05-23</td>\n",
       "    </tr>\n",
       "    <tr>\n",
       "      <th>24058252</th>\n",
       "      <td>654591</td>\n",
       "      <td>3.0</td>\n",
       "      <td>2004-04-26</td>\n",
       "    </tr>\n",
       "    <tr>\n",
       "      <th>24058253</th>\n",
       "      <td>272857</td>\n",
       "      <td>4.0</td>\n",
       "      <td>2005-06-22</td>\n",
       "    </tr>\n",
       "    <tr>\n",
       "      <th>24058254</th>\n",
       "      <td>185372</td>\n",
       "      <td>1.0</td>\n",
       "      <td>2004-06-07</td>\n",
       "    </tr>\n",
       "    <tr>\n",
       "      <th>24058255</th>\n",
       "      <td>2219917</td>\n",
       "      <td>3.0</td>\n",
       "      <td>2004-05-03</td>\n",
       "    </tr>\n",
       "    <tr>\n",
       "      <th>24058256</th>\n",
       "      <td>1796454</td>\n",
       "      <td>1.0</td>\n",
       "      <td>2004-07-07</td>\n",
       "    </tr>\n",
       "    <tr>\n",
       "      <th>24058257</th>\n",
       "      <td>2562830</td>\n",
       "      <td>4.0</td>\n",
       "      <td>2004-06-19</td>\n",
       "    </tr>\n",
       "    <tr>\n",
       "      <th>24058258</th>\n",
       "      <td>2591364</td>\n",
       "      <td>2.0</td>\n",
       "      <td>2005-02-16</td>\n",
       "    </tr>\n",
       "    <tr>\n",
       "      <th>24058259</th>\n",
       "      <td>1791000</td>\n",
       "      <td>2.0</td>\n",
       "      <td>2005-02-10</td>\n",
       "    </tr>\n",
       "    <tr>\n",
       "      <th>24058260</th>\n",
       "      <td>512536</td>\n",
       "      <td>5.0</td>\n",
       "      <td>2005-07-27</td>\n",
       "    </tr>\n",
       "    <tr>\n",
       "      <th>24058261</th>\n",
       "      <td>988963</td>\n",
       "      <td>3.0</td>\n",
       "      <td>2005-12-20</td>\n",
       "    </tr>\n",
       "    <tr>\n",
       "      <th>24058262</th>\n",
       "      <td>1704416</td>\n",
       "      <td>3.0</td>\n",
       "      <td>2004-06-02</td>\n",
       "    </tr>\n",
       "  </tbody>\n",
       "</table>\n",
       "<p>24058263 rows × 3 columns</p>\n",
       "</div>"
      ],
      "text/plain": [
       "             User  Rating        Date\n",
       "0              1:     NaN         NaN\n",
       "1         1488844     3.0  2005-09-06\n",
       "2          822109     5.0  2005-05-13\n",
       "3          885013     4.0  2005-10-19\n",
       "4           30878     4.0  2005-12-26\n",
       "5          823519     3.0  2004-05-03\n",
       "6          893988     3.0  2005-11-17\n",
       "7          124105     4.0  2004-08-05\n",
       "8         1248029     3.0  2004-04-22\n",
       "9         1842128     4.0  2004-05-09\n",
       "10        2238063     3.0  2005-05-11\n",
       "11        1503895     4.0  2005-05-19\n",
       "12        2207774     5.0  2005-06-06\n",
       "13        2590061     3.0  2004-08-12\n",
       "14           2442     3.0  2004-04-14\n",
       "15         543865     4.0  2004-05-28\n",
       "16        1209119     4.0  2004-03-23\n",
       "17         804919     4.0  2004-06-10\n",
       "18        1086807     3.0  2004-12-28\n",
       "19        1711859     4.0  2005-05-08\n",
       "20         372233     5.0  2005-11-23\n",
       "21        1080361     3.0  2005-03-28\n",
       "22        1245640     3.0  2005-12-19\n",
       "23         558634     4.0  2004-12-14\n",
       "24        2165002     4.0  2004-04-06\n",
       "25        1181550     3.0  2004-02-01\n",
       "26        1227322     4.0  2004-02-06\n",
       "27         427928     4.0  2004-02-26\n",
       "28         814701     5.0  2005-09-29\n",
       "29         808731     4.0  2005-10-31\n",
       "...           ...     ...         ...\n",
       "24058233  1836014     3.0  2004-05-05\n",
       "24058234  1960927     1.0  2005-08-30\n",
       "24058235  2385226     1.0  2004-05-17\n",
       "24058236  1997469     2.0  2004-06-22\n",
       "24058237   811530     4.0  2004-07-28\n",
       "24058238  1083336     5.0  2004-12-02\n",
       "24058239  1309223     1.0  2005-04-24\n",
       "24058240   604335     4.0  2005-04-25\n",
       "24058241   307404     2.0  2004-10-22\n",
       "24058242  1334851     3.0  2005-10-25\n",
       "24058243  1061120     3.0  2004-05-25\n",
       "24058244  1852040     1.0  2004-05-13\n",
       "24058245   268846     4.0  2004-04-26\n",
       "24058246  2368103     2.0  2004-07-05\n",
       "24058247   529787     4.0  2005-11-30\n",
       "24058248   441248     4.0  2005-04-05\n",
       "24058249  2092745     5.0  2005-03-15\n",
       "24058250   555962     5.0  2004-05-05\n",
       "24058251   303969     2.0  2004-05-23\n",
       "24058252   654591     3.0  2004-04-26\n",
       "24058253   272857     4.0  2005-06-22\n",
       "24058254   185372     1.0  2004-06-07\n",
       "24058255  2219917     3.0  2004-05-03\n",
       "24058256  1796454     1.0  2004-07-07\n",
       "24058257  2562830     4.0  2004-06-19\n",
       "24058258  2591364     2.0  2005-02-16\n",
       "24058259  1791000     2.0  2005-02-10\n",
       "24058260   512536     5.0  2005-07-27\n",
       "24058261   988963     3.0  2005-12-20\n",
       "24058262  1704416     3.0  2004-06-02\n",
       "\n",
       "[24058263 rows x 3 columns]"
      ]
     },
     "execution_count": 70,
     "metadata": {},
     "output_type": "execute_result"
    }
   ],
   "source": [
    "data1 = pd.read_csv('data/combined_data_1.txt', header = None,names=['User', 'Rating', 'Date'])\n",
    "data1"
   ]
  },
  {
   "cell_type": "code",
   "execution_count": 71,
   "metadata": {},
   "outputs": [
    {
     "data": {
      "text/html": [
       "<div>\n",
       "<style scoped>\n",
       "    .dataframe tbody tr th:only-of-type {\n",
       "        vertical-align: middle;\n",
       "    }\n",
       "\n",
       "    .dataframe tbody tr th {\n",
       "        vertical-align: top;\n",
       "    }\n",
       "\n",
       "    .dataframe thead th {\n",
       "        text-align: right;\n",
       "    }\n",
       "</style>\n",
       "<table border=\"1\" class=\"dataframe\">\n",
       "  <thead>\n",
       "    <tr style=\"text-align: right;\">\n",
       "      <th></th>\n",
       "      <th>User</th>\n",
       "      <th>Rating</th>\n",
       "      <th>Date</th>\n",
       "    </tr>\n",
       "  </thead>\n",
       "  <tbody>\n",
       "    <tr>\n",
       "      <th>0</th>\n",
       "      <td>4500:</td>\n",
       "      <td>NaN</td>\n",
       "      <td>NaN</td>\n",
       "    </tr>\n",
       "    <tr>\n",
       "      <th>1</th>\n",
       "      <td>2532865</td>\n",
       "      <td>4.0</td>\n",
       "      <td>2005-07-26</td>\n",
       "    </tr>\n",
       "    <tr>\n",
       "      <th>2</th>\n",
       "      <td>573364</td>\n",
       "      <td>3.0</td>\n",
       "      <td>2005-06-20</td>\n",
       "    </tr>\n",
       "    <tr>\n",
       "      <th>3</th>\n",
       "      <td>1696725</td>\n",
       "      <td>3.0</td>\n",
       "      <td>2004-02-27</td>\n",
       "    </tr>\n",
       "    <tr>\n",
       "      <th>4</th>\n",
       "      <td>1253431</td>\n",
       "      <td>3.0</td>\n",
       "      <td>2004-03-31</td>\n",
       "    </tr>\n",
       "    <tr>\n",
       "      <th>5</th>\n",
       "      <td>1265574</td>\n",
       "      <td>2.0</td>\n",
       "      <td>2003-09-01</td>\n",
       "    </tr>\n",
       "    <tr>\n",
       "      <th>6</th>\n",
       "      <td>1049643</td>\n",
       "      <td>1.0</td>\n",
       "      <td>2003-11-15</td>\n",
       "    </tr>\n",
       "    <tr>\n",
       "      <th>7</th>\n",
       "      <td>1601348</td>\n",
       "      <td>4.0</td>\n",
       "      <td>2005-04-05</td>\n",
       "    </tr>\n",
       "    <tr>\n",
       "      <th>8</th>\n",
       "      <td>1495289</td>\n",
       "      <td>5.0</td>\n",
       "      <td>2005-07-09</td>\n",
       "    </tr>\n",
       "    <tr>\n",
       "      <th>9</th>\n",
       "      <td>1254903</td>\n",
       "      <td>3.0</td>\n",
       "      <td>2003-09-02</td>\n",
       "    </tr>\n",
       "    <tr>\n",
       "      <th>10</th>\n",
       "      <td>2604070</td>\n",
       "      <td>3.0</td>\n",
       "      <td>2005-05-15</td>\n",
       "    </tr>\n",
       "    <tr>\n",
       "      <th>11</th>\n",
       "      <td>1006473</td>\n",
       "      <td>5.0</td>\n",
       "      <td>2005-05-23</td>\n",
       "    </tr>\n",
       "    <tr>\n",
       "      <th>12</th>\n",
       "      <td>1989892</td>\n",
       "      <td>3.0</td>\n",
       "      <td>2004-04-06</td>\n",
       "    </tr>\n",
       "    <tr>\n",
       "      <th>13</th>\n",
       "      <td>1517471</td>\n",
       "      <td>4.0</td>\n",
       "      <td>2003-12-24</td>\n",
       "    </tr>\n",
       "    <tr>\n",
       "      <th>14</th>\n",
       "      <td>1478381</td>\n",
       "      <td>4.0</td>\n",
       "      <td>2005-05-21</td>\n",
       "    </tr>\n",
       "    <tr>\n",
       "      <th>15</th>\n",
       "      <td>923084</td>\n",
       "      <td>2.0</td>\n",
       "      <td>2004-11-15</td>\n",
       "    </tr>\n",
       "    <tr>\n",
       "      <th>16</th>\n",
       "      <td>2446292</td>\n",
       "      <td>4.0</td>\n",
       "      <td>2005-10-06</td>\n",
       "    </tr>\n",
       "    <tr>\n",
       "      <th>17</th>\n",
       "      <td>2554745</td>\n",
       "      <td>3.0</td>\n",
       "      <td>2003-05-07</td>\n",
       "    </tr>\n",
       "    <tr>\n",
       "      <th>18</th>\n",
       "      <td>1133125</td>\n",
       "      <td>5.0</td>\n",
       "      <td>2004-08-10</td>\n",
       "    </tr>\n",
       "    <tr>\n",
       "      <th>19</th>\n",
       "      <td>349528</td>\n",
       "      <td>4.0</td>\n",
       "      <td>2003-08-11</td>\n",
       "    </tr>\n",
       "    <tr>\n",
       "      <th>20</th>\n",
       "      <td>1614895</td>\n",
       "      <td>5.0</td>\n",
       "      <td>2004-08-29</td>\n",
       "    </tr>\n",
       "    <tr>\n",
       "      <th>21</th>\n",
       "      <td>424958</td>\n",
       "      <td>4.0</td>\n",
       "      <td>2005-08-02</td>\n",
       "    </tr>\n",
       "    <tr>\n",
       "      <th>22</th>\n",
       "      <td>1390877</td>\n",
       "      <td>3.0</td>\n",
       "      <td>2003-10-07</td>\n",
       "    </tr>\n",
       "    <tr>\n",
       "      <th>23</th>\n",
       "      <td>2327422</td>\n",
       "      <td>4.0</td>\n",
       "      <td>2004-08-19</td>\n",
       "    </tr>\n",
       "    <tr>\n",
       "      <th>24</th>\n",
       "      <td>18103</td>\n",
       "      <td>3.0</td>\n",
       "      <td>2005-07-24</td>\n",
       "    </tr>\n",
       "    <tr>\n",
       "      <th>25</th>\n",
       "      <td>591075</td>\n",
       "      <td>4.0</td>\n",
       "      <td>2004-03-12</td>\n",
       "    </tr>\n",
       "    <tr>\n",
       "      <th>26</th>\n",
       "      <td>1589677</td>\n",
       "      <td>3.0</td>\n",
       "      <td>2003-07-17</td>\n",
       "    </tr>\n",
       "    <tr>\n",
       "      <th>27</th>\n",
       "      <td>973538</td>\n",
       "      <td>2.0</td>\n",
       "      <td>2004-11-06</td>\n",
       "    </tr>\n",
       "    <tr>\n",
       "      <th>28</th>\n",
       "      <td>1107636</td>\n",
       "      <td>3.0</td>\n",
       "      <td>2004-04-17</td>\n",
       "    </tr>\n",
       "    <tr>\n",
       "      <th>29</th>\n",
       "      <td>1279272</td>\n",
       "      <td>2.0</td>\n",
       "      <td>2005-08-08</td>\n",
       "    </tr>\n",
       "    <tr>\n",
       "      <th>...</th>\n",
       "      <td>...</td>\n",
       "      <td>...</td>\n",
       "      <td>...</td>\n",
       "    </tr>\n",
       "    <tr>\n",
       "      <th>26982272</th>\n",
       "      <td>250756</td>\n",
       "      <td>3.0</td>\n",
       "      <td>2004-07-18</td>\n",
       "    </tr>\n",
       "    <tr>\n",
       "      <th>26982273</th>\n",
       "      <td>1546585</td>\n",
       "      <td>3.0</td>\n",
       "      <td>2005-06-04</td>\n",
       "    </tr>\n",
       "    <tr>\n",
       "      <th>26982274</th>\n",
       "      <td>24059</td>\n",
       "      <td>3.0</td>\n",
       "      <td>2005-06-09</td>\n",
       "    </tr>\n",
       "    <tr>\n",
       "      <th>26982275</th>\n",
       "      <td>112790</td>\n",
       "      <td>4.0</td>\n",
       "      <td>2002-11-08</td>\n",
       "    </tr>\n",
       "    <tr>\n",
       "      <th>26982276</th>\n",
       "      <td>562957</td>\n",
       "      <td>2.0</td>\n",
       "      <td>2004-03-31</td>\n",
       "    </tr>\n",
       "    <tr>\n",
       "      <th>26982277</th>\n",
       "      <td>1738753</td>\n",
       "      <td>3.0</td>\n",
       "      <td>2004-04-29</td>\n",
       "    </tr>\n",
       "    <tr>\n",
       "      <th>26982278</th>\n",
       "      <td>269231</td>\n",
       "      <td>2.0</td>\n",
       "      <td>2003-09-19</td>\n",
       "    </tr>\n",
       "    <tr>\n",
       "      <th>26982279</th>\n",
       "      <td>616917</td>\n",
       "      <td>4.0</td>\n",
       "      <td>2004-06-05</td>\n",
       "    </tr>\n",
       "    <tr>\n",
       "      <th>26982280</th>\n",
       "      <td>227141</td>\n",
       "      <td>3.0</td>\n",
       "      <td>2005-05-07</td>\n",
       "    </tr>\n",
       "    <tr>\n",
       "      <th>26982281</th>\n",
       "      <td>933124</td>\n",
       "      <td>4.0</td>\n",
       "      <td>2005-05-09</td>\n",
       "    </tr>\n",
       "    <tr>\n",
       "      <th>26982282</th>\n",
       "      <td>1592126</td>\n",
       "      <td>3.0</td>\n",
       "      <td>2005-10-07</td>\n",
       "    </tr>\n",
       "    <tr>\n",
       "      <th>26982283</th>\n",
       "      <td>1213178</td>\n",
       "      <td>4.0</td>\n",
       "      <td>2005-11-09</td>\n",
       "    </tr>\n",
       "    <tr>\n",
       "      <th>26982284</th>\n",
       "      <td>696856</td>\n",
       "      <td>3.0</td>\n",
       "      <td>2003-04-29</td>\n",
       "    </tr>\n",
       "    <tr>\n",
       "      <th>26982285</th>\n",
       "      <td>2648853</td>\n",
       "      <td>3.0</td>\n",
       "      <td>2002-11-08</td>\n",
       "    </tr>\n",
       "    <tr>\n",
       "      <th>26982286</th>\n",
       "      <td>2110090</td>\n",
       "      <td>3.0</td>\n",
       "      <td>2004-09-08</td>\n",
       "    </tr>\n",
       "    <tr>\n",
       "      <th>26982287</th>\n",
       "      <td>788957</td>\n",
       "      <td>4.0</td>\n",
       "      <td>2004-01-21</td>\n",
       "    </tr>\n",
       "    <tr>\n",
       "      <th>26982288</th>\n",
       "      <td>1141848</td>\n",
       "      <td>4.0</td>\n",
       "      <td>2004-01-19</td>\n",
       "    </tr>\n",
       "    <tr>\n",
       "      <th>26982289</th>\n",
       "      <td>2450817</td>\n",
       "      <td>3.0</td>\n",
       "      <td>2004-08-05</td>\n",
       "    </tr>\n",
       "    <tr>\n",
       "      <th>26982290</th>\n",
       "      <td>459564</td>\n",
       "      <td>4.0</td>\n",
       "      <td>2004-04-16</td>\n",
       "    </tr>\n",
       "    <tr>\n",
       "      <th>26982291</th>\n",
       "      <td>1116868</td>\n",
       "      <td>4.0</td>\n",
       "      <td>2004-10-27</td>\n",
       "    </tr>\n",
       "    <tr>\n",
       "      <th>26982292</th>\n",
       "      <td>2643057</td>\n",
       "      <td>3.0</td>\n",
       "      <td>2005-01-06</td>\n",
       "    </tr>\n",
       "    <tr>\n",
       "      <th>26982293</th>\n",
       "      <td>262367</td>\n",
       "      <td>3.0</td>\n",
       "      <td>2003-05-29</td>\n",
       "    </tr>\n",
       "    <tr>\n",
       "      <th>26982294</th>\n",
       "      <td>1921572</td>\n",
       "      <td>2.0</td>\n",
       "      <td>2002-09-22</td>\n",
       "    </tr>\n",
       "    <tr>\n",
       "      <th>26982295</th>\n",
       "      <td>2570936</td>\n",
       "      <td>4.0</td>\n",
       "      <td>2002-12-20</td>\n",
       "    </tr>\n",
       "    <tr>\n",
       "      <th>26982296</th>\n",
       "      <td>501054</td>\n",
       "      <td>3.0</td>\n",
       "      <td>2003-06-03</td>\n",
       "    </tr>\n",
       "    <tr>\n",
       "      <th>26982297</th>\n",
       "      <td>2420260</td>\n",
       "      <td>1.0</td>\n",
       "      <td>2003-12-01</td>\n",
       "    </tr>\n",
       "    <tr>\n",
       "      <th>26982298</th>\n",
       "      <td>761176</td>\n",
       "      <td>3.0</td>\n",
       "      <td>2004-06-06</td>\n",
       "    </tr>\n",
       "    <tr>\n",
       "      <th>26982299</th>\n",
       "      <td>459277</td>\n",
       "      <td>3.0</td>\n",
       "      <td>2005-02-25</td>\n",
       "    </tr>\n",
       "    <tr>\n",
       "      <th>26982300</th>\n",
       "      <td>2407365</td>\n",
       "      <td>4.0</td>\n",
       "      <td>2005-04-29</td>\n",
       "    </tr>\n",
       "    <tr>\n",
       "      <th>26982301</th>\n",
       "      <td>627867</td>\n",
       "      <td>3.0</td>\n",
       "      <td>2005-05-02</td>\n",
       "    </tr>\n",
       "  </tbody>\n",
       "</table>\n",
       "<p>26982302 rows × 3 columns</p>\n",
       "</div>"
      ],
      "text/plain": [
       "             User  Rating        Date\n",
       "0           4500:     NaN         NaN\n",
       "1         2532865     4.0  2005-07-26\n",
       "2          573364     3.0  2005-06-20\n",
       "3         1696725     3.0  2004-02-27\n",
       "4         1253431     3.0  2004-03-31\n",
       "5         1265574     2.0  2003-09-01\n",
       "6         1049643     1.0  2003-11-15\n",
       "7         1601348     4.0  2005-04-05\n",
       "8         1495289     5.0  2005-07-09\n",
       "9         1254903     3.0  2003-09-02\n",
       "10        2604070     3.0  2005-05-15\n",
       "11        1006473     5.0  2005-05-23\n",
       "12        1989892     3.0  2004-04-06\n",
       "13        1517471     4.0  2003-12-24\n",
       "14        1478381     4.0  2005-05-21\n",
       "15         923084     2.0  2004-11-15\n",
       "16        2446292     4.0  2005-10-06\n",
       "17        2554745     3.0  2003-05-07\n",
       "18        1133125     5.0  2004-08-10\n",
       "19         349528     4.0  2003-08-11\n",
       "20        1614895     5.0  2004-08-29\n",
       "21         424958     4.0  2005-08-02\n",
       "22        1390877     3.0  2003-10-07\n",
       "23        2327422     4.0  2004-08-19\n",
       "24          18103     3.0  2005-07-24\n",
       "25         591075     4.0  2004-03-12\n",
       "26        1589677     3.0  2003-07-17\n",
       "27         973538     2.0  2004-11-06\n",
       "28        1107636     3.0  2004-04-17\n",
       "29        1279272     2.0  2005-08-08\n",
       "...           ...     ...         ...\n",
       "26982272   250756     3.0  2004-07-18\n",
       "26982273  1546585     3.0  2005-06-04\n",
       "26982274    24059     3.0  2005-06-09\n",
       "26982275   112790     4.0  2002-11-08\n",
       "26982276   562957     2.0  2004-03-31\n",
       "26982277  1738753     3.0  2004-04-29\n",
       "26982278   269231     2.0  2003-09-19\n",
       "26982279   616917     4.0  2004-06-05\n",
       "26982280   227141     3.0  2005-05-07\n",
       "26982281   933124     4.0  2005-05-09\n",
       "26982282  1592126     3.0  2005-10-07\n",
       "26982283  1213178     4.0  2005-11-09\n",
       "26982284   696856     3.0  2003-04-29\n",
       "26982285  2648853     3.0  2002-11-08\n",
       "26982286  2110090     3.0  2004-09-08\n",
       "26982287   788957     4.0  2004-01-21\n",
       "26982288  1141848     4.0  2004-01-19\n",
       "26982289  2450817     3.0  2004-08-05\n",
       "26982290   459564     4.0  2004-04-16\n",
       "26982291  1116868     4.0  2004-10-27\n",
       "26982292  2643057     3.0  2005-01-06\n",
       "26982293   262367     3.0  2003-05-29\n",
       "26982294  1921572     2.0  2002-09-22\n",
       "26982295  2570936     4.0  2002-12-20\n",
       "26982296   501054     3.0  2003-06-03\n",
       "26982297  2420260     1.0  2003-12-01\n",
       "26982298   761176     3.0  2004-06-06\n",
       "26982299   459277     3.0  2005-02-25\n",
       "26982300  2407365     4.0  2005-04-29\n",
       "26982301   627867     3.0  2005-05-02\n",
       "\n",
       "[26982302 rows x 3 columns]"
      ]
     },
     "execution_count": 71,
     "metadata": {},
     "output_type": "execute_result"
    }
   ],
   "source": [
    "data2 = pd.read_csv('data/combined_data_2.txt', header = None,names=['User', 'Rating', 'Date'], usecols=[0, 1, 2])\n",
    "data2"
   ]
  },
  {
   "cell_type": "code",
   "execution_count": 72,
   "metadata": {},
   "outputs": [
    {
     "data": {
      "text/html": [
       "<div>\n",
       "<style scoped>\n",
       "    .dataframe tbody tr th:only-of-type {\n",
       "        vertical-align: middle;\n",
       "    }\n",
       "\n",
       "    .dataframe tbody tr th {\n",
       "        vertical-align: top;\n",
       "    }\n",
       "\n",
       "    .dataframe thead th {\n",
       "        text-align: right;\n",
       "    }\n",
       "</style>\n",
       "<table border=\"1\" class=\"dataframe\">\n",
       "  <thead>\n",
       "    <tr style=\"text-align: right;\">\n",
       "      <th></th>\n",
       "      <th>User</th>\n",
       "      <th>Rating</th>\n",
       "      <th>Date</th>\n",
       "    </tr>\n",
       "  </thead>\n",
       "  <tbody>\n",
       "    <tr>\n",
       "      <th>0</th>\n",
       "      <td>1:</td>\n",
       "      <td>NaN</td>\n",
       "      <td>NaN</td>\n",
       "    </tr>\n",
       "    <tr>\n",
       "      <th>1</th>\n",
       "      <td>1488844</td>\n",
       "      <td>3.0</td>\n",
       "      <td>2005-09-06</td>\n",
       "    </tr>\n",
       "    <tr>\n",
       "      <th>2</th>\n",
       "      <td>822109</td>\n",
       "      <td>5.0</td>\n",
       "      <td>2005-05-13</td>\n",
       "    </tr>\n",
       "    <tr>\n",
       "      <th>3</th>\n",
       "      <td>885013</td>\n",
       "      <td>4.0</td>\n",
       "      <td>2005-10-19</td>\n",
       "    </tr>\n",
       "    <tr>\n",
       "      <th>4</th>\n",
       "      <td>30878</td>\n",
       "      <td>4.0</td>\n",
       "      <td>2005-12-26</td>\n",
       "    </tr>\n",
       "  </tbody>\n",
       "</table>\n",
       "</div>"
      ],
      "text/plain": [
       "      User  Rating        Date\n",
       "0       1:     NaN         NaN\n",
       "1  1488844     3.0  2005-09-06\n",
       "2   822109     5.0  2005-05-13\n",
       "3   885013     4.0  2005-10-19\n",
       "4    30878     4.0  2005-12-26"
      ]
     },
     "execution_count": 72,
     "metadata": {},
     "output_type": "execute_result"
    }
   ],
   "source": [
    "data = data1\n",
    "data = data1.append(data2)\n",
    "data.head()"
   ]
  },
  {
   "cell_type": "code",
   "execution_count": 73,
   "metadata": {},
   "outputs": [
    {
     "data": {
      "text/plain": [
       "(51040565, 3)"
      ]
     },
     "execution_count": 73,
     "metadata": {},
     "output_type": "execute_result"
    }
   ],
   "source": [
    "data.shape"
   ]
  },
  {
   "cell_type": "code",
   "execution_count": 74,
   "metadata": {},
   "outputs": [
    {
     "data": {
      "text/html": [
       "<div>\n",
       "<style scoped>\n",
       "    .dataframe tbody tr th:only-of-type {\n",
       "        vertical-align: middle;\n",
       "    }\n",
       "\n",
       "    .dataframe tbody tr th {\n",
       "        vertical-align: top;\n",
       "    }\n",
       "\n",
       "    .dataframe thead th {\n",
       "        text-align: right;\n",
       "    }\n",
       "</style>\n",
       "<table border=\"1\" class=\"dataframe\">\n",
       "  <thead>\n",
       "    <tr style=\"text-align: right;\">\n",
       "      <th></th>\n",
       "      <th>User</th>\n",
       "      <th>Rating</th>\n",
       "      <th>Date</th>\n",
       "    </tr>\n",
       "  </thead>\n",
       "  <tbody>\n",
       "    <tr>\n",
       "      <th>0</th>\n",
       "      <td>9211:</td>\n",
       "      <td>NaN</td>\n",
       "      <td>NaN</td>\n",
       "    </tr>\n",
       "    <tr>\n",
       "      <th>1</th>\n",
       "      <td>1277134</td>\n",
       "      <td>1.0</td>\n",
       "      <td>2003-12-02</td>\n",
       "    </tr>\n",
       "    <tr>\n",
       "      <th>2</th>\n",
       "      <td>2435457</td>\n",
       "      <td>2.0</td>\n",
       "      <td>2005-06-01</td>\n",
       "    </tr>\n",
       "    <tr>\n",
       "      <th>3</th>\n",
       "      <td>2338545</td>\n",
       "      <td>3.0</td>\n",
       "      <td>2001-02-17</td>\n",
       "    </tr>\n",
       "    <tr>\n",
       "      <th>4</th>\n",
       "      <td>2218269</td>\n",
       "      <td>1.0</td>\n",
       "      <td>2002-12-27</td>\n",
       "    </tr>\n",
       "    <tr>\n",
       "      <th>5</th>\n",
       "      <td>441153</td>\n",
       "      <td>4.0</td>\n",
       "      <td>2002-10-11</td>\n",
       "    </tr>\n",
       "    <tr>\n",
       "      <th>6</th>\n",
       "      <td>1921624</td>\n",
       "      <td>2.0</td>\n",
       "      <td>2005-08-31</td>\n",
       "    </tr>\n",
       "    <tr>\n",
       "      <th>7</th>\n",
       "      <td>2096652</td>\n",
       "      <td>3.0</td>\n",
       "      <td>2004-05-31</td>\n",
       "    </tr>\n",
       "    <tr>\n",
       "      <th>8</th>\n",
       "      <td>818736</td>\n",
       "      <td>2.0</td>\n",
       "      <td>2004-02-17</td>\n",
       "    </tr>\n",
       "    <tr>\n",
       "      <th>9</th>\n",
       "      <td>284560</td>\n",
       "      <td>3.0</td>\n",
       "      <td>2003-07-27</td>\n",
       "    </tr>\n",
       "    <tr>\n",
       "      <th>10</th>\n",
       "      <td>1211224</td>\n",
       "      <td>5.0</td>\n",
       "      <td>2004-05-08</td>\n",
       "    </tr>\n",
       "    <tr>\n",
       "      <th>11</th>\n",
       "      <td>1984086</td>\n",
       "      <td>1.0</td>\n",
       "      <td>2004-09-16</td>\n",
       "    </tr>\n",
       "    <tr>\n",
       "      <th>12</th>\n",
       "      <td>1389539</td>\n",
       "      <td>3.0</td>\n",
       "      <td>2005-06-07</td>\n",
       "    </tr>\n",
       "    <tr>\n",
       "      <th>13</th>\n",
       "      <td>454575</td>\n",
       "      <td>2.0</td>\n",
       "      <td>2004-10-23</td>\n",
       "    </tr>\n",
       "    <tr>\n",
       "      <th>14</th>\n",
       "      <td>149028</td>\n",
       "      <td>3.0</td>\n",
       "      <td>2003-06-19</td>\n",
       "    </tr>\n",
       "    <tr>\n",
       "      <th>15</th>\n",
       "      <td>1105843</td>\n",
       "      <td>2.0</td>\n",
       "      <td>2005-04-07</td>\n",
       "    </tr>\n",
       "    <tr>\n",
       "      <th>16</th>\n",
       "      <td>353813</td>\n",
       "      <td>2.0</td>\n",
       "      <td>2004-08-05</td>\n",
       "    </tr>\n",
       "    <tr>\n",
       "      <th>17</th>\n",
       "      <td>903779</td>\n",
       "      <td>3.0</td>\n",
       "      <td>2001-05-21</td>\n",
       "    </tr>\n",
       "    <tr>\n",
       "      <th>18</th>\n",
       "      <td>639194</td>\n",
       "      <td>2.0</td>\n",
       "      <td>2003-10-19</td>\n",
       "    </tr>\n",
       "    <tr>\n",
       "      <th>19</th>\n",
       "      <td>308031</td>\n",
       "      <td>4.0</td>\n",
       "      <td>2000-09-07</td>\n",
       "    </tr>\n",
       "    <tr>\n",
       "      <th>20</th>\n",
       "      <td>1794933</td>\n",
       "      <td>1.0</td>\n",
       "      <td>2003-02-14</td>\n",
       "    </tr>\n",
       "    <tr>\n",
       "      <th>21</th>\n",
       "      <td>625085</td>\n",
       "      <td>3.0</td>\n",
       "      <td>2004-05-21</td>\n",
       "    </tr>\n",
       "    <tr>\n",
       "      <th>22</th>\n",
       "      <td>893673</td>\n",
       "      <td>2.0</td>\n",
       "      <td>2000-12-04</td>\n",
       "    </tr>\n",
       "    <tr>\n",
       "      <th>23</th>\n",
       "      <td>1704675</td>\n",
       "      <td>2.0</td>\n",
       "      <td>2001-04-10</td>\n",
       "    </tr>\n",
       "    <tr>\n",
       "      <th>24</th>\n",
       "      <td>2116614</td>\n",
       "      <td>3.0</td>\n",
       "      <td>2002-07-17</td>\n",
       "    </tr>\n",
       "    <tr>\n",
       "      <th>25</th>\n",
       "      <td>371300</td>\n",
       "      <td>2.0</td>\n",
       "      <td>2004-08-10</td>\n",
       "    </tr>\n",
       "    <tr>\n",
       "      <th>26</th>\n",
       "      <td>1172345</td>\n",
       "      <td>1.0</td>\n",
       "      <td>2005-04-23</td>\n",
       "    </tr>\n",
       "    <tr>\n",
       "      <th>27</th>\n",
       "      <td>823026</td>\n",
       "      <td>2.0</td>\n",
       "      <td>2004-01-08</td>\n",
       "    </tr>\n",
       "    <tr>\n",
       "      <th>28</th>\n",
       "      <td>2241971</td>\n",
       "      <td>2.0</td>\n",
       "      <td>2002-04-19</td>\n",
       "    </tr>\n",
       "    <tr>\n",
       "      <th>29</th>\n",
       "      <td>1173009</td>\n",
       "      <td>2.0</td>\n",
       "      <td>2004-02-15</td>\n",
       "    </tr>\n",
       "    <tr>\n",
       "      <th>...</th>\n",
       "      <td>...</td>\n",
       "      <td>...</td>\n",
       "      <td>...</td>\n",
       "    </tr>\n",
       "    <tr>\n",
       "      <th>22605756</th>\n",
       "      <td>84566</td>\n",
       "      <td>4.0</td>\n",
       "      <td>2003-12-23</td>\n",
       "    </tr>\n",
       "    <tr>\n",
       "      <th>22605757</th>\n",
       "      <td>1133763</td>\n",
       "      <td>3.0</td>\n",
       "      <td>2005-07-27</td>\n",
       "    </tr>\n",
       "    <tr>\n",
       "      <th>22605758</th>\n",
       "      <td>1654854</td>\n",
       "      <td>5.0</td>\n",
       "      <td>2003-08-09</td>\n",
       "    </tr>\n",
       "    <tr>\n",
       "      <th>22605759</th>\n",
       "      <td>2056022</td>\n",
       "      <td>2.0</td>\n",
       "      <td>2005-06-01</td>\n",
       "    </tr>\n",
       "    <tr>\n",
       "      <th>22605760</th>\n",
       "      <td>79380</td>\n",
       "      <td>1.0</td>\n",
       "      <td>2005-10-11</td>\n",
       "    </tr>\n",
       "    <tr>\n",
       "      <th>22605761</th>\n",
       "      <td>1722054</td>\n",
       "      <td>5.0</td>\n",
       "      <td>2003-08-26</td>\n",
       "    </tr>\n",
       "    <tr>\n",
       "      <th>22605762</th>\n",
       "      <td>2256870</td>\n",
       "      <td>1.0</td>\n",
       "      <td>2005-09-14</td>\n",
       "    </tr>\n",
       "    <tr>\n",
       "      <th>22605763</th>\n",
       "      <td>2494244</td>\n",
       "      <td>2.0</td>\n",
       "      <td>2003-03-19</td>\n",
       "    </tr>\n",
       "    <tr>\n",
       "      <th>22605764</th>\n",
       "      <td>397290</td>\n",
       "      <td>4.0</td>\n",
       "      <td>2002-11-23</td>\n",
       "    </tr>\n",
       "    <tr>\n",
       "      <th>22605765</th>\n",
       "      <td>515183</td>\n",
       "      <td>2.0</td>\n",
       "      <td>2004-09-07</td>\n",
       "    </tr>\n",
       "    <tr>\n",
       "      <th>22605766</th>\n",
       "      <td>1806515</td>\n",
       "      <td>3.0</td>\n",
       "      <td>2005-11-13</td>\n",
       "    </tr>\n",
       "    <tr>\n",
       "      <th>22605767</th>\n",
       "      <td>2118461</td>\n",
       "      <td>3.0</td>\n",
       "      <td>2005-12-20</td>\n",
       "    </tr>\n",
       "    <tr>\n",
       "      <th>22605768</th>\n",
       "      <td>120295</td>\n",
       "      <td>2.0</td>\n",
       "      <td>2005-07-13</td>\n",
       "    </tr>\n",
       "    <tr>\n",
       "      <th>22605769</th>\n",
       "      <td>387418</td>\n",
       "      <td>3.0</td>\n",
       "      <td>2003-08-14</td>\n",
       "    </tr>\n",
       "    <tr>\n",
       "      <th>22605770</th>\n",
       "      <td>2341353</td>\n",
       "      <td>4.0</td>\n",
       "      <td>2002-11-02</td>\n",
       "    </tr>\n",
       "    <tr>\n",
       "      <th>22605771</th>\n",
       "      <td>2487127</td>\n",
       "      <td>1.0</td>\n",
       "      <td>2004-09-19</td>\n",
       "    </tr>\n",
       "    <tr>\n",
       "      <th>22605772</th>\n",
       "      <td>893014</td>\n",
       "      <td>3.0</td>\n",
       "      <td>2005-06-18</td>\n",
       "    </tr>\n",
       "    <tr>\n",
       "      <th>22605773</th>\n",
       "      <td>1461435</td>\n",
       "      <td>1.0</td>\n",
       "      <td>2003-02-12</td>\n",
       "    </tr>\n",
       "    <tr>\n",
       "      <th>22605774</th>\n",
       "      <td>249378</td>\n",
       "      <td>2.0</td>\n",
       "      <td>2003-11-18</td>\n",
       "    </tr>\n",
       "    <tr>\n",
       "      <th>22605775</th>\n",
       "      <td>2380866</td>\n",
       "      <td>3.0</td>\n",
       "      <td>2004-02-02</td>\n",
       "    </tr>\n",
       "    <tr>\n",
       "      <th>22605776</th>\n",
       "      <td>1639792</td>\n",
       "      <td>1.0</td>\n",
       "      <td>2002-10-15</td>\n",
       "    </tr>\n",
       "    <tr>\n",
       "      <th>22605777</th>\n",
       "      <td>1515355</td>\n",
       "      <td>4.0</td>\n",
       "      <td>2003-03-07</td>\n",
       "    </tr>\n",
       "    <tr>\n",
       "      <th>22605778</th>\n",
       "      <td>1565041</td>\n",
       "      <td>3.0</td>\n",
       "      <td>2004-01-04</td>\n",
       "    </tr>\n",
       "    <tr>\n",
       "      <th>22605779</th>\n",
       "      <td>151344</td>\n",
       "      <td>3.0</td>\n",
       "      <td>2004-01-26</td>\n",
       "    </tr>\n",
       "    <tr>\n",
       "      <th>22605780</th>\n",
       "      <td>2460347</td>\n",
       "      <td>1.0</td>\n",
       "      <td>2005-12-19</td>\n",
       "    </tr>\n",
       "    <tr>\n",
       "      <th>22605781</th>\n",
       "      <td>2339129</td>\n",
       "      <td>4.0</td>\n",
       "      <td>2002-10-07</td>\n",
       "    </tr>\n",
       "    <tr>\n",
       "      <th>22605782</th>\n",
       "      <td>59005</td>\n",
       "      <td>4.0</td>\n",
       "      <td>2005-01-21</td>\n",
       "    </tr>\n",
       "    <tr>\n",
       "      <th>22605783</th>\n",
       "      <td>1789683</td>\n",
       "      <td>5.0</td>\n",
       "      <td>2005-05-25</td>\n",
       "    </tr>\n",
       "    <tr>\n",
       "      <th>22605784</th>\n",
       "      <td>1878798</td>\n",
       "      <td>1.0</td>\n",
       "      <td>2003-02-17</td>\n",
       "    </tr>\n",
       "    <tr>\n",
       "      <th>22605785</th>\n",
       "      <td>2634967</td>\n",
       "      <td>1.0</td>\n",
       "      <td>2005-01-10</td>\n",
       "    </tr>\n",
       "  </tbody>\n",
       "</table>\n",
       "<p>22605786 rows × 3 columns</p>\n",
       "</div>"
      ],
      "text/plain": [
       "             User  Rating        Date\n",
       "0           9211:     NaN         NaN\n",
       "1         1277134     1.0  2003-12-02\n",
       "2         2435457     2.0  2005-06-01\n",
       "3         2338545     3.0  2001-02-17\n",
       "4         2218269     1.0  2002-12-27\n",
       "5          441153     4.0  2002-10-11\n",
       "6         1921624     2.0  2005-08-31\n",
       "7         2096652     3.0  2004-05-31\n",
       "8          818736     2.0  2004-02-17\n",
       "9          284560     3.0  2003-07-27\n",
       "10        1211224     5.0  2004-05-08\n",
       "11        1984086     1.0  2004-09-16\n",
       "12        1389539     3.0  2005-06-07\n",
       "13         454575     2.0  2004-10-23\n",
       "14         149028     3.0  2003-06-19\n",
       "15        1105843     2.0  2005-04-07\n",
       "16         353813     2.0  2004-08-05\n",
       "17         903779     3.0  2001-05-21\n",
       "18         639194     2.0  2003-10-19\n",
       "19         308031     4.0  2000-09-07\n",
       "20        1794933     1.0  2003-02-14\n",
       "21         625085     3.0  2004-05-21\n",
       "22         893673     2.0  2000-12-04\n",
       "23        1704675     2.0  2001-04-10\n",
       "24        2116614     3.0  2002-07-17\n",
       "25         371300     2.0  2004-08-10\n",
       "26        1172345     1.0  2005-04-23\n",
       "27         823026     2.0  2004-01-08\n",
       "28        2241971     2.0  2002-04-19\n",
       "29        1173009     2.0  2004-02-15\n",
       "...           ...     ...         ...\n",
       "22605756    84566     4.0  2003-12-23\n",
       "22605757  1133763     3.0  2005-07-27\n",
       "22605758  1654854     5.0  2003-08-09\n",
       "22605759  2056022     2.0  2005-06-01\n",
       "22605760    79380     1.0  2005-10-11\n",
       "22605761  1722054     5.0  2003-08-26\n",
       "22605762  2256870     1.0  2005-09-14\n",
       "22605763  2494244     2.0  2003-03-19\n",
       "22605764   397290     4.0  2002-11-23\n",
       "22605765   515183     2.0  2004-09-07\n",
       "22605766  1806515     3.0  2005-11-13\n",
       "22605767  2118461     3.0  2005-12-20\n",
       "22605768   120295     2.0  2005-07-13\n",
       "22605769   387418     3.0  2003-08-14\n",
       "22605770  2341353     4.0  2002-11-02\n",
       "22605771  2487127     1.0  2004-09-19\n",
       "22605772   893014     3.0  2005-06-18\n",
       "22605773  1461435     1.0  2003-02-12\n",
       "22605774   249378     2.0  2003-11-18\n",
       "22605775  2380866     3.0  2004-02-02\n",
       "22605776  1639792     1.0  2002-10-15\n",
       "22605777  1515355     4.0  2003-03-07\n",
       "22605778  1565041     3.0  2004-01-04\n",
       "22605779   151344     3.0  2004-01-26\n",
       "22605780  2460347     1.0  2005-12-19\n",
       "22605781  2339129     4.0  2002-10-07\n",
       "22605782    59005     4.0  2005-01-21\n",
       "22605783  1789683     5.0  2005-05-25\n",
       "22605784  1878798     1.0  2003-02-17\n",
       "22605785  2634967     1.0  2005-01-10\n",
       "\n",
       "[22605786 rows x 3 columns]"
      ]
     },
     "execution_count": 74,
     "metadata": {},
     "output_type": "execute_result"
    }
   ],
   "source": [
    "data3 = pd.read_csv('data/combined_data_3.txt', header = None, names=['User', 'Rating', 'Date'])\n",
    "data3"
   ]
  },
  {
   "cell_type": "code",
   "execution_count": 75,
   "metadata": {},
   "outputs": [
    {
     "data": {
      "text/plain": [
       "(73646351, 3)"
      ]
     },
     "execution_count": 75,
     "metadata": {},
     "output_type": "execute_result"
    }
   ],
   "source": [
    "data = data.append(data3)\n",
    "data.shape"
   ]
  },
  {
   "cell_type": "code",
   "execution_count": 76,
   "metadata": {},
   "outputs": [
    {
     "data": {
      "text/html": [
       "<div>\n",
       "<style scoped>\n",
       "    .dataframe tbody tr th:only-of-type {\n",
       "        vertical-align: middle;\n",
       "    }\n",
       "\n",
       "    .dataframe tbody tr th {\n",
       "        vertical-align: top;\n",
       "    }\n",
       "\n",
       "    .dataframe thead th {\n",
       "        text-align: right;\n",
       "    }\n",
       "</style>\n",
       "<table border=\"1\" class=\"dataframe\">\n",
       "  <thead>\n",
       "    <tr style=\"text-align: right;\">\n",
       "      <th></th>\n",
       "      <th>User</th>\n",
       "      <th>Rating</th>\n",
       "      <th>Date</th>\n",
       "    </tr>\n",
       "  </thead>\n",
       "  <tbody>\n",
       "    <tr>\n",
       "      <th>0</th>\n",
       "      <td>13368:</td>\n",
       "      <td>NaN</td>\n",
       "      <td>NaN</td>\n",
       "    </tr>\n",
       "    <tr>\n",
       "      <th>1</th>\n",
       "      <td>2385003</td>\n",
       "      <td>4.0</td>\n",
       "      <td>2004-07-08</td>\n",
       "    </tr>\n",
       "    <tr>\n",
       "      <th>2</th>\n",
       "      <td>659432</td>\n",
       "      <td>3.0</td>\n",
       "      <td>2005-03-16</td>\n",
       "    </tr>\n",
       "    <tr>\n",
       "      <th>3</th>\n",
       "      <td>751812</td>\n",
       "      <td>2.0</td>\n",
       "      <td>2002-12-16</td>\n",
       "    </tr>\n",
       "    <tr>\n",
       "      <th>4</th>\n",
       "      <td>2625420</td>\n",
       "      <td>2.0</td>\n",
       "      <td>2004-05-25</td>\n",
       "    </tr>\n",
       "    <tr>\n",
       "      <th>5</th>\n",
       "      <td>1650301</td>\n",
       "      <td>1.0</td>\n",
       "      <td>2005-08-30</td>\n",
       "    </tr>\n",
       "    <tr>\n",
       "      <th>6</th>\n",
       "      <td>2269227</td>\n",
       "      <td>4.0</td>\n",
       "      <td>2005-10-27</td>\n",
       "    </tr>\n",
       "    <tr>\n",
       "      <th>7</th>\n",
       "      <td>2220672</td>\n",
       "      <td>4.0</td>\n",
       "      <td>2002-08-19</td>\n",
       "    </tr>\n",
       "    <tr>\n",
       "      <th>8</th>\n",
       "      <td>2500511</td>\n",
       "      <td>4.0</td>\n",
       "      <td>2003-08-11</td>\n",
       "    </tr>\n",
       "    <tr>\n",
       "      <th>9</th>\n",
       "      <td>1452058</td>\n",
       "      <td>2.0</td>\n",
       "      <td>2005-01-29</td>\n",
       "    </tr>\n",
       "    <tr>\n",
       "      <th>10</th>\n",
       "      <td>1624891</td>\n",
       "      <td>3.0</td>\n",
       "      <td>2002-07-27</td>\n",
       "    </tr>\n",
       "    <tr>\n",
       "      <th>11</th>\n",
       "      <td>970031</td>\n",
       "      <td>3.0</td>\n",
       "      <td>2004-04-14</td>\n",
       "    </tr>\n",
       "    <tr>\n",
       "      <th>12</th>\n",
       "      <td>345673</td>\n",
       "      <td>4.0</td>\n",
       "      <td>2005-04-07</td>\n",
       "    </tr>\n",
       "    <tr>\n",
       "      <th>13</th>\n",
       "      <td>1426869</td>\n",
       "      <td>5.0</td>\n",
       "      <td>2005-04-21</td>\n",
       "    </tr>\n",
       "    <tr>\n",
       "      <th>14</th>\n",
       "      <td>1037088</td>\n",
       "      <td>2.0</td>\n",
       "      <td>2005-09-14</td>\n",
       "    </tr>\n",
       "    <tr>\n",
       "      <th>15</th>\n",
       "      <td>2079559</td>\n",
       "      <td>5.0</td>\n",
       "      <td>2005-10-08</td>\n",
       "    </tr>\n",
       "    <tr>\n",
       "      <th>16</th>\n",
       "      <td>2175560</td>\n",
       "      <td>5.0</td>\n",
       "      <td>2005-01-12</td>\n",
       "    </tr>\n",
       "    <tr>\n",
       "      <th>17</th>\n",
       "      <td>946805</td>\n",
       "      <td>4.0</td>\n",
       "      <td>2005-02-09</td>\n",
       "    </tr>\n",
       "    <tr>\n",
       "      <th>18</th>\n",
       "      <td>767843</td>\n",
       "      <td>1.0</td>\n",
       "      <td>2005-05-04</td>\n",
       "    </tr>\n",
       "    <tr>\n",
       "      <th>19</th>\n",
       "      <td>464031</td>\n",
       "      <td>3.0</td>\n",
       "      <td>2001-02-08</td>\n",
       "    </tr>\n",
       "    <tr>\n",
       "      <th>20</th>\n",
       "      <td>2473764</td>\n",
       "      <td>4.0</td>\n",
       "      <td>2005-09-26</td>\n",
       "    </tr>\n",
       "    <tr>\n",
       "      <th>21</th>\n",
       "      <td>2339119</td>\n",
       "      <td>3.0</td>\n",
       "      <td>2005-11-27</td>\n",
       "    </tr>\n",
       "    <tr>\n",
       "      <th>22</th>\n",
       "      <td>162348</td>\n",
       "      <td>3.0</td>\n",
       "      <td>2004-06-15</td>\n",
       "    </tr>\n",
       "    <tr>\n",
       "      <th>23</th>\n",
       "      <td>2622206</td>\n",
       "      <td>4.0</td>\n",
       "      <td>2005-10-09</td>\n",
       "    </tr>\n",
       "    <tr>\n",
       "      <th>24</th>\n",
       "      <td>1558606</td>\n",
       "      <td>3.0</td>\n",
       "      <td>2004-06-21</td>\n",
       "    </tr>\n",
       "    <tr>\n",
       "      <th>25</th>\n",
       "      <td>945258</td>\n",
       "      <td>3.0</td>\n",
       "      <td>2005-05-03</td>\n",
       "    </tr>\n",
       "    <tr>\n",
       "      <th>26</th>\n",
       "      <td>1315220</td>\n",
       "      <td>5.0</td>\n",
       "      <td>2002-05-15</td>\n",
       "    </tr>\n",
       "    <tr>\n",
       "      <th>27</th>\n",
       "      <td>1860412</td>\n",
       "      <td>3.0</td>\n",
       "      <td>2003-07-29</td>\n",
       "    </tr>\n",
       "    <tr>\n",
       "      <th>28</th>\n",
       "      <td>1338852</td>\n",
       "      <td>3.0</td>\n",
       "      <td>2003-07-14</td>\n",
       "    </tr>\n",
       "    <tr>\n",
       "      <th>29</th>\n",
       "      <td>1469354</td>\n",
       "      <td>2.0</td>\n",
       "      <td>2003-12-19</td>\n",
       "    </tr>\n",
       "    <tr>\n",
       "      <th>...</th>\n",
       "      <td>...</td>\n",
       "      <td>...</td>\n",
       "      <td>...</td>\n",
       "    </tr>\n",
       "    <tr>\n",
       "      <th>26851896</th>\n",
       "      <td>1882093</td>\n",
       "      <td>3.0</td>\n",
       "      <td>2004-09-24</td>\n",
       "    </tr>\n",
       "    <tr>\n",
       "      <th>26851897</th>\n",
       "      <td>789449</td>\n",
       "      <td>2.0</td>\n",
       "      <td>2005-03-14</td>\n",
       "    </tr>\n",
       "    <tr>\n",
       "      <th>26851898</th>\n",
       "      <td>737905</td>\n",
       "      <td>3.0</td>\n",
       "      <td>2005-10-12</td>\n",
       "    </tr>\n",
       "    <tr>\n",
       "      <th>26851899</th>\n",
       "      <td>834423</td>\n",
       "      <td>3.0</td>\n",
       "      <td>2004-06-21</td>\n",
       "    </tr>\n",
       "    <tr>\n",
       "      <th>26851900</th>\n",
       "      <td>892826</td>\n",
       "      <td>2.0</td>\n",
       "      <td>2004-06-07</td>\n",
       "    </tr>\n",
       "    <tr>\n",
       "      <th>26851901</th>\n",
       "      <td>2142868</td>\n",
       "      <td>4.0</td>\n",
       "      <td>2004-04-28</td>\n",
       "    </tr>\n",
       "    <tr>\n",
       "      <th>26851902</th>\n",
       "      <td>953604</td>\n",
       "      <td>3.0</td>\n",
       "      <td>2004-08-31</td>\n",
       "    </tr>\n",
       "    <tr>\n",
       "      <th>26851903</th>\n",
       "      <td>2331946</td>\n",
       "      <td>1.0</td>\n",
       "      <td>2004-07-07</td>\n",
       "    </tr>\n",
       "    <tr>\n",
       "      <th>26851904</th>\n",
       "      <td>1205647</td>\n",
       "      <td>3.0</td>\n",
       "      <td>2004-10-16</td>\n",
       "    </tr>\n",
       "    <tr>\n",
       "      <th>26851905</th>\n",
       "      <td>357707</td>\n",
       "      <td>3.0</td>\n",
       "      <td>2004-10-18</td>\n",
       "    </tr>\n",
       "    <tr>\n",
       "      <th>26851906</th>\n",
       "      <td>1933317</td>\n",
       "      <td>3.0</td>\n",
       "      <td>2005-12-04</td>\n",
       "    </tr>\n",
       "    <tr>\n",
       "      <th>26851907</th>\n",
       "      <td>982006</td>\n",
       "      <td>3.0</td>\n",
       "      <td>2005-07-05</td>\n",
       "    </tr>\n",
       "    <tr>\n",
       "      <th>26851908</th>\n",
       "      <td>111084</td>\n",
       "      <td>2.0</td>\n",
       "      <td>2003-11-24</td>\n",
       "    </tr>\n",
       "    <tr>\n",
       "      <th>26851909</th>\n",
       "      <td>635735</td>\n",
       "      <td>4.0</td>\n",
       "      <td>2004-12-01</td>\n",
       "    </tr>\n",
       "    <tr>\n",
       "      <th>26851910</th>\n",
       "      <td>2167041</td>\n",
       "      <td>4.0</td>\n",
       "      <td>2005-02-01</td>\n",
       "    </tr>\n",
       "    <tr>\n",
       "      <th>26851911</th>\n",
       "      <td>925414</td>\n",
       "      <td>4.0</td>\n",
       "      <td>2005-02-08</td>\n",
       "    </tr>\n",
       "    <tr>\n",
       "      <th>26851912</th>\n",
       "      <td>1983962</td>\n",
       "      <td>2.0</td>\n",
       "      <td>2005-02-23</td>\n",
       "    </tr>\n",
       "    <tr>\n",
       "      <th>26851913</th>\n",
       "      <td>897629</td>\n",
       "      <td>3.0</td>\n",
       "      <td>2005-04-13</td>\n",
       "    </tr>\n",
       "    <tr>\n",
       "      <th>26851914</th>\n",
       "      <td>1274035</td>\n",
       "      <td>4.0</td>\n",
       "      <td>2005-06-10</td>\n",
       "    </tr>\n",
       "    <tr>\n",
       "      <th>26851915</th>\n",
       "      <td>2641559</td>\n",
       "      <td>3.0</td>\n",
       "      <td>2005-06-27</td>\n",
       "    </tr>\n",
       "    <tr>\n",
       "      <th>26851916</th>\n",
       "      <td>834323</td>\n",
       "      <td>2.0</td>\n",
       "      <td>2005-10-04</td>\n",
       "    </tr>\n",
       "    <tr>\n",
       "      <th>26851917</th>\n",
       "      <td>516110</td>\n",
       "      <td>5.0</td>\n",
       "      <td>2004-08-26</td>\n",
       "    </tr>\n",
       "    <tr>\n",
       "      <th>26851918</th>\n",
       "      <td>365996</td>\n",
       "      <td>3.0</td>\n",
       "      <td>2003-11-10</td>\n",
       "    </tr>\n",
       "    <tr>\n",
       "      <th>26851919</th>\n",
       "      <td>986348</td>\n",
       "      <td>4.0</td>\n",
       "      <td>2004-08-12</td>\n",
       "    </tr>\n",
       "    <tr>\n",
       "      <th>26851920</th>\n",
       "      <td>311124</td>\n",
       "      <td>3.0</td>\n",
       "      <td>2005-09-29</td>\n",
       "    </tr>\n",
       "    <tr>\n",
       "      <th>26851921</th>\n",
       "      <td>1790158</td>\n",
       "      <td>4.0</td>\n",
       "      <td>2005-11-01</td>\n",
       "    </tr>\n",
       "    <tr>\n",
       "      <th>26851922</th>\n",
       "      <td>1608708</td>\n",
       "      <td>3.0</td>\n",
       "      <td>2005-07-19</td>\n",
       "    </tr>\n",
       "    <tr>\n",
       "      <th>26851923</th>\n",
       "      <td>234275</td>\n",
       "      <td>1.0</td>\n",
       "      <td>2004-08-07</td>\n",
       "    </tr>\n",
       "    <tr>\n",
       "      <th>26851924</th>\n",
       "      <td>255278</td>\n",
       "      <td>4.0</td>\n",
       "      <td>2004-05-28</td>\n",
       "    </tr>\n",
       "    <tr>\n",
       "      <th>26851925</th>\n",
       "      <td>453585</td>\n",
       "      <td>2.0</td>\n",
       "      <td>2005-03-10</td>\n",
       "    </tr>\n",
       "  </tbody>\n",
       "</table>\n",
       "<p>26851926 rows × 3 columns</p>\n",
       "</div>"
      ],
      "text/plain": [
       "             User  Rating        Date\n",
       "0          13368:     NaN         NaN\n",
       "1         2385003     4.0  2004-07-08\n",
       "2          659432     3.0  2005-03-16\n",
       "3          751812     2.0  2002-12-16\n",
       "4         2625420     2.0  2004-05-25\n",
       "5         1650301     1.0  2005-08-30\n",
       "6         2269227     4.0  2005-10-27\n",
       "7         2220672     4.0  2002-08-19\n",
       "8         2500511     4.0  2003-08-11\n",
       "9         1452058     2.0  2005-01-29\n",
       "10        1624891     3.0  2002-07-27\n",
       "11         970031     3.0  2004-04-14\n",
       "12         345673     4.0  2005-04-07\n",
       "13        1426869     5.0  2005-04-21\n",
       "14        1037088     2.0  2005-09-14\n",
       "15        2079559     5.0  2005-10-08\n",
       "16        2175560     5.0  2005-01-12\n",
       "17         946805     4.0  2005-02-09\n",
       "18         767843     1.0  2005-05-04\n",
       "19         464031     3.0  2001-02-08\n",
       "20        2473764     4.0  2005-09-26\n",
       "21        2339119     3.0  2005-11-27\n",
       "22         162348     3.0  2004-06-15\n",
       "23        2622206     4.0  2005-10-09\n",
       "24        1558606     3.0  2004-06-21\n",
       "25         945258     3.0  2005-05-03\n",
       "26        1315220     5.0  2002-05-15\n",
       "27        1860412     3.0  2003-07-29\n",
       "28        1338852     3.0  2003-07-14\n",
       "29        1469354     2.0  2003-12-19\n",
       "...           ...     ...         ...\n",
       "26851896  1882093     3.0  2004-09-24\n",
       "26851897   789449     2.0  2005-03-14\n",
       "26851898   737905     3.0  2005-10-12\n",
       "26851899   834423     3.0  2004-06-21\n",
       "26851900   892826     2.0  2004-06-07\n",
       "26851901  2142868     4.0  2004-04-28\n",
       "26851902   953604     3.0  2004-08-31\n",
       "26851903  2331946     1.0  2004-07-07\n",
       "26851904  1205647     3.0  2004-10-16\n",
       "26851905   357707     3.0  2004-10-18\n",
       "26851906  1933317     3.0  2005-12-04\n",
       "26851907   982006     3.0  2005-07-05\n",
       "26851908   111084     2.0  2003-11-24\n",
       "26851909   635735     4.0  2004-12-01\n",
       "26851910  2167041     4.0  2005-02-01\n",
       "26851911   925414     4.0  2005-02-08\n",
       "26851912  1983962     2.0  2005-02-23\n",
       "26851913   897629     3.0  2005-04-13\n",
       "26851914  1274035     4.0  2005-06-10\n",
       "26851915  2641559     3.0  2005-06-27\n",
       "26851916   834323     2.0  2005-10-04\n",
       "26851917   516110     5.0  2004-08-26\n",
       "26851918   365996     3.0  2003-11-10\n",
       "26851919   986348     4.0  2004-08-12\n",
       "26851920   311124     3.0  2005-09-29\n",
       "26851921  1790158     4.0  2005-11-01\n",
       "26851922  1608708     3.0  2005-07-19\n",
       "26851923   234275     1.0  2004-08-07\n",
       "26851924   255278     4.0  2004-05-28\n",
       "26851925   453585     2.0  2005-03-10\n",
       "\n",
       "[26851926 rows x 3 columns]"
      ]
     },
     "execution_count": 76,
     "metadata": {},
     "output_type": "execute_result"
    }
   ],
   "source": [
    "data4 = pd.read_csv('data/combined_data_4.txt', header = None, names=['User', 'Rating', 'Date'])\n",
    "data4"
   ]
  },
  {
   "cell_type": "code",
   "execution_count": 77,
   "metadata": {},
   "outputs": [
    {
     "data": {
      "text/plain": [
       "(100498277, 3)"
      ]
     },
     "execution_count": 77,
     "metadata": {},
     "output_type": "execute_result"
    }
   ],
   "source": [
    "data = data.append(data4)\n",
    "data.shape"
   ]
  },
  {
   "cell_type": "code",
   "execution_count": 78,
   "metadata": {},
   "outputs": [
    {
     "data": {
      "text/html": [
       "<div>\n",
       "<style scoped>\n",
       "    .dataframe tbody tr th:only-of-type {\n",
       "        vertical-align: middle;\n",
       "    }\n",
       "\n",
       "    .dataframe tbody tr th {\n",
       "        vertical-align: top;\n",
       "    }\n",
       "\n",
       "    .dataframe thead th {\n",
       "        text-align: right;\n",
       "    }\n",
       "</style>\n",
       "<table border=\"1\" class=\"dataframe\">\n",
       "  <thead>\n",
       "    <tr style=\"text-align: right;\">\n",
       "      <th></th>\n",
       "      <th>index</th>\n",
       "      <th>User</th>\n",
       "    </tr>\n",
       "  </thead>\n",
       "  <tbody>\n",
       "    <tr>\n",
       "      <th>0</th>\n",
       "      <td>0</td>\n",
       "      <td>1:</td>\n",
       "    </tr>\n",
       "    <tr>\n",
       "      <th>1</th>\n",
       "      <td>548</td>\n",
       "      <td>2:</td>\n",
       "    </tr>\n",
       "    <tr>\n",
       "      <th>2</th>\n",
       "      <td>694</td>\n",
       "      <td>3:</td>\n",
       "    </tr>\n",
       "    <tr>\n",
       "      <th>3</th>\n",
       "      <td>2707</td>\n",
       "      <td>4:</td>\n",
       "    </tr>\n",
       "    <tr>\n",
       "      <th>4</th>\n",
       "      <td>2850</td>\n",
       "      <td>5:</td>\n",
       "    </tr>\n",
       "    <tr>\n",
       "      <th>5</th>\n",
       "      <td>3991</td>\n",
       "      <td>6:</td>\n",
       "    </tr>\n",
       "    <tr>\n",
       "      <th>6</th>\n",
       "      <td>5011</td>\n",
       "      <td>7:</td>\n",
       "    </tr>\n",
       "    <tr>\n",
       "      <th>7</th>\n",
       "      <td>5105</td>\n",
       "      <td>8:</td>\n",
       "    </tr>\n",
       "    <tr>\n",
       "      <th>8</th>\n",
       "      <td>20016</td>\n",
       "      <td>9:</td>\n",
       "    </tr>\n",
       "    <tr>\n",
       "      <th>9</th>\n",
       "      <td>20112</td>\n",
       "      <td>10:</td>\n",
       "    </tr>\n",
       "    <tr>\n",
       "      <th>10</th>\n",
       "      <td>20362</td>\n",
       "      <td>11:</td>\n",
       "    </tr>\n",
       "    <tr>\n",
       "      <th>11</th>\n",
       "      <td>20561</td>\n",
       "      <td>12:</td>\n",
       "    </tr>\n",
       "    <tr>\n",
       "      <th>12</th>\n",
       "      <td>21108</td>\n",
       "      <td>13:</td>\n",
       "    </tr>\n",
       "    <tr>\n",
       "      <th>13</th>\n",
       "      <td>21234</td>\n",
       "      <td>14:</td>\n",
       "    </tr>\n",
       "    <tr>\n",
       "      <th>14</th>\n",
       "      <td>21353</td>\n",
       "      <td>15:</td>\n",
       "    </tr>\n",
       "    <tr>\n",
       "      <th>15</th>\n",
       "      <td>21644</td>\n",
       "      <td>16:</td>\n",
       "    </tr>\n",
       "    <tr>\n",
       "      <th>16</th>\n",
       "      <td>24344</td>\n",
       "      <td>17:</td>\n",
       "    </tr>\n",
       "    <tr>\n",
       "      <th>17</th>\n",
       "      <td>31453</td>\n",
       "      <td>18:</td>\n",
       "    </tr>\n",
       "    <tr>\n",
       "      <th>18</th>\n",
       "      <td>42176</td>\n",
       "      <td>19:</td>\n",
       "    </tr>\n",
       "    <tr>\n",
       "      <th>19</th>\n",
       "      <td>42716</td>\n",
       "      <td>20:</td>\n",
       "    </tr>\n",
       "    <tr>\n",
       "      <th>20</th>\n",
       "      <td>42833</td>\n",
       "      <td>21:</td>\n",
       "    </tr>\n",
       "    <tr>\n",
       "      <th>21</th>\n",
       "      <td>43052</td>\n",
       "      <td>22:</td>\n",
       "    </tr>\n",
       "    <tr>\n",
       "      <th>22</th>\n",
       "      <td>43256</td>\n",
       "      <td>23:</td>\n",
       "    </tr>\n",
       "    <tr>\n",
       "      <th>23</th>\n",
       "      <td>43872</td>\n",
       "      <td>24:</td>\n",
       "    </tr>\n",
       "    <tr>\n",
       "      <th>24</th>\n",
       "      <td>45206</td>\n",
       "      <td>25:</td>\n",
       "    </tr>\n",
       "    <tr>\n",
       "      <th>25</th>\n",
       "      <td>46414</td>\n",
       "      <td>26:</td>\n",
       "    </tr>\n",
       "    <tr>\n",
       "      <th>26</th>\n",
       "      <td>52276</td>\n",
       "      <td>27:</td>\n",
       "    </tr>\n",
       "    <tr>\n",
       "      <th>27</th>\n",
       "      <td>52550</td>\n",
       "      <td>28:</td>\n",
       "    </tr>\n",
       "    <tr>\n",
       "      <th>28</th>\n",
       "      <td>92303</td>\n",
       "      <td>29:</td>\n",
       "    </tr>\n",
       "    <tr>\n",
       "      <th>29</th>\n",
       "      <td>92827</td>\n",
       "      <td>30:</td>\n",
       "    </tr>\n",
       "    <tr>\n",
       "      <th>...</th>\n",
       "      <td>...</td>\n",
       "      <td>...</td>\n",
       "    </tr>\n",
       "    <tr>\n",
       "      <th>17740</th>\n",
       "      <td>26707978</td>\n",
       "      <td>17741:</td>\n",
       "    </tr>\n",
       "    <tr>\n",
       "      <th>17741</th>\n",
       "      <td>26710503</td>\n",
       "      <td>17742:</td>\n",
       "    </tr>\n",
       "    <tr>\n",
       "      <th>17742</th>\n",
       "      <td>26711303</td>\n",
       "      <td>17743:</td>\n",
       "    </tr>\n",
       "    <tr>\n",
       "      <th>17743</th>\n",
       "      <td>26717755</td>\n",
       "      <td>17744:</td>\n",
       "    </tr>\n",
       "    <tr>\n",
       "      <th>17744</th>\n",
       "      <td>26717971</td>\n",
       "      <td>17745:</td>\n",
       "    </tr>\n",
       "    <tr>\n",
       "      <th>17745</th>\n",
       "      <td>26718585</td>\n",
       "      <td>17746:</td>\n",
       "    </tr>\n",
       "    <tr>\n",
       "      <th>17746</th>\n",
       "      <td>26719560</td>\n",
       "      <td>17747:</td>\n",
       "    </tr>\n",
       "    <tr>\n",
       "      <th>17747</th>\n",
       "      <td>26720438</td>\n",
       "      <td>17748:</td>\n",
       "    </tr>\n",
       "    <tr>\n",
       "      <th>17748</th>\n",
       "      <td>26720894</td>\n",
       "      <td>17749:</td>\n",
       "    </tr>\n",
       "    <tr>\n",
       "      <th>17749</th>\n",
       "      <td>26721076</td>\n",
       "      <td>17750:</td>\n",
       "    </tr>\n",
       "    <tr>\n",
       "      <th>17750</th>\n",
       "      <td>26721165</td>\n",
       "      <td>17751:</td>\n",
       "    </tr>\n",
       "    <tr>\n",
       "      <th>17751</th>\n",
       "      <td>26723641</td>\n",
       "      <td>17752:</td>\n",
       "    </tr>\n",
       "    <tr>\n",
       "      <th>17752</th>\n",
       "      <td>26724351</td>\n",
       "      <td>17753:</td>\n",
       "    </tr>\n",
       "    <tr>\n",
       "      <th>17753</th>\n",
       "      <td>26724519</td>\n",
       "      <td>17754:</td>\n",
       "    </tr>\n",
       "    <tr>\n",
       "      <th>17754</th>\n",
       "      <td>26724912</td>\n",
       "      <td>17755:</td>\n",
       "    </tr>\n",
       "    <tr>\n",
       "      <th>17755</th>\n",
       "      <td>26725052</td>\n",
       "      <td>17756:</td>\n",
       "    </tr>\n",
       "    <tr>\n",
       "      <th>17756</th>\n",
       "      <td>26733788</td>\n",
       "      <td>17757:</td>\n",
       "    </tr>\n",
       "    <tr>\n",
       "      <th>17757</th>\n",
       "      <td>26734309</td>\n",
       "      <td>17758:</td>\n",
       "    </tr>\n",
       "    <tr>\n",
       "      <th>17758</th>\n",
       "      <td>26737684</td>\n",
       "      <td>17759:</td>\n",
       "    </tr>\n",
       "    <tr>\n",
       "      <th>17759</th>\n",
       "      <td>26737983</td>\n",
       "      <td>17760:</td>\n",
       "    </tr>\n",
       "    <tr>\n",
       "      <th>17760</th>\n",
       "      <td>26738427</td>\n",
       "      <td>17761:</td>\n",
       "    </tr>\n",
       "    <tr>\n",
       "      <th>17761</th>\n",
       "      <td>26742739</td>\n",
       "      <td>17762:</td>\n",
       "    </tr>\n",
       "    <tr>\n",
       "      <th>17762</th>\n",
       "      <td>26774850</td>\n",
       "      <td>17763:</td>\n",
       "    </tr>\n",
       "    <tr>\n",
       "      <th>17763</th>\n",
       "      <td>26776808</td>\n",
       "      <td>17764:</td>\n",
       "    </tr>\n",
       "    <tr>\n",
       "      <th>17764</th>\n",
       "      <td>26841766</td>\n",
       "      <td>17765:</td>\n",
       "    </tr>\n",
       "    <tr>\n",
       "      <th>17765</th>\n",
       "      <td>26842080</td>\n",
       "      <td>17766:</td>\n",
       "    </tr>\n",
       "    <tr>\n",
       "      <th>17766</th>\n",
       "      <td>26842686</td>\n",
       "      <td>17767:</td>\n",
       "    </tr>\n",
       "    <tr>\n",
       "      <th>17767</th>\n",
       "      <td>26842891</td>\n",
       "      <td>17768:</td>\n",
       "    </tr>\n",
       "    <tr>\n",
       "      <th>17768</th>\n",
       "      <td>26844254</td>\n",
       "      <td>17769:</td>\n",
       "    </tr>\n",
       "    <tr>\n",
       "      <th>17769</th>\n",
       "      <td>26851004</td>\n",
       "      <td>17770:</td>\n",
       "    </tr>\n",
       "  </tbody>\n",
       "</table>\n",
       "<p>17770 rows × 2 columns</p>\n",
       "</div>"
      ],
      "text/plain": [
       "          index    User\n",
       "0             0      1:\n",
       "1           548      2:\n",
       "2           694      3:\n",
       "3          2707      4:\n",
       "4          2850      5:\n",
       "5          3991      6:\n",
       "6          5011      7:\n",
       "7          5105      8:\n",
       "8         20016      9:\n",
       "9         20112     10:\n",
       "10        20362     11:\n",
       "11        20561     12:\n",
       "12        21108     13:\n",
       "13        21234     14:\n",
       "14        21353     15:\n",
       "15        21644     16:\n",
       "16        24344     17:\n",
       "17        31453     18:\n",
       "18        42176     19:\n",
       "19        42716     20:\n",
       "20        42833     21:\n",
       "21        43052     22:\n",
       "22        43256     23:\n",
       "23        43872     24:\n",
       "24        45206     25:\n",
       "25        46414     26:\n",
       "26        52276     27:\n",
       "27        52550     28:\n",
       "28        92303     29:\n",
       "29        92827     30:\n",
       "...         ...     ...\n",
       "17740  26707978  17741:\n",
       "17741  26710503  17742:\n",
       "17742  26711303  17743:\n",
       "17743  26717755  17744:\n",
       "17744  26717971  17745:\n",
       "17745  26718585  17746:\n",
       "17746  26719560  17747:\n",
       "17747  26720438  17748:\n",
       "17748  26720894  17749:\n",
       "17749  26721076  17750:\n",
       "17750  26721165  17751:\n",
       "17751  26723641  17752:\n",
       "17752  26724351  17753:\n",
       "17753  26724519  17754:\n",
       "17754  26724912  17755:\n",
       "17755  26725052  17756:\n",
       "17756  26733788  17757:\n",
       "17757  26734309  17758:\n",
       "17758  26737684  17759:\n",
       "17759  26737983  17760:\n",
       "17760  26738427  17761:\n",
       "17761  26742739  17762:\n",
       "17762  26774850  17763:\n",
       "17763  26776808  17764:\n",
       "17764  26841766  17765:\n",
       "17765  26842080  17766:\n",
       "17766  26842686  17767:\n",
       "17767  26842891  17768:\n",
       "17768  26844254  17769:\n",
       "17769  26851004  17770:\n",
       "\n",
       "[17770 rows x 2 columns]"
      ]
     },
     "execution_count": 78,
     "metadata": {},
     "output_type": "execute_result"
    }
   ],
   "source": [
    "#Find empty/Nan rows to slice for each movie\n",
    "tmpMovie = data[data['Rating'].isna()]['User'].reset_index()\n",
    "tmpMovie"
   ]
  },
  {
   "cell_type": "code",
   "execution_count": 79,
   "metadata": {},
   "outputs": [],
   "source": [
    "movieIndices = [[index, int(movie[:-1])] for index, movie in tmpMovie.values]"
   ]
  },
  {
   "cell_type": "code",
   "execution_count": 80,
   "metadata": {},
   "outputs": [
    {
     "data": {
      "text/plain": [
       "17770"
      ]
     },
     "execution_count": 80,
     "metadata": {},
     "output_type": "execute_result"
    }
   ],
   "source": [
    "len(movieIndices)"
   ]
  },
  {
   "cell_type": "code",
   "execution_count": 81,
   "metadata": {},
   "outputs": [
    {
     "data": {
      "text/plain": [
       "17770"
      ]
     },
     "execution_count": 81,
     "metadata": {},
     "output_type": "execute_result"
    }
   ],
   "source": [
    "#Get the start and end points of movie indices\n",
    "shiftedMovieIndices = deque(movieIndices)\n",
    "shiftedMovieIndices.rotate(-1)\n",
    "len(shiftedMovieIndices)"
   ]
  },
  {
   "cell_type": "code",
   "execution_count": 82,
   "metadata": {},
   "outputs": [
    {
     "data": {
      "text/plain": [
       "(401957572, 4)"
      ]
     },
     "execution_count": 82,
     "metadata": {},
     "output_type": "execute_result"
    }
   ],
   "source": [
    "userData = []\n",
    "\n",
    "for [dfID_1, movieID], [dfID_2, nextMovieID] in zip(movieIndices, shiftedMovieIndices):\n",
    "    #Check if it is the last movie in the file\n",
    "    if dfID_1 < dfID_2:\n",
    "        tmpDF = data.iloc[dfID_1+1:dfID_2-1].copy()\n",
    "    else:\n",
    "        tmpDF = data.iloc[dfID_1 + 1 : ].copy()\n",
    "        \n",
    "    #Create movie column\n",
    "    tmpDF['Movie'] = movieID\n",
    "    \n",
    "    userData.append(tmpDF)\n",
    "\n",
    "#concatenate all dataframes\n",
    "totalDF = pd.concat(userData)\n",
    "totalDF.shape\n"
   ]
  },
  {
   "cell_type": "code",
   "execution_count": 83,
   "metadata": {},
   "outputs": [
    {
     "data": {
      "text/html": [
       "<div>\n",
       "<style scoped>\n",
       "    .dataframe tbody tr th:only-of-type {\n",
       "        vertical-align: middle;\n",
       "    }\n",
       "\n",
       "    .dataframe tbody tr th {\n",
       "        vertical-align: top;\n",
       "    }\n",
       "\n",
       "    .dataframe thead th {\n",
       "        text-align: right;\n",
       "    }\n",
       "</style>\n",
       "<table border=\"1\" class=\"dataframe\">\n",
       "  <thead>\n",
       "    <tr style=\"text-align: right;\">\n",
       "      <th></th>\n",
       "      <th>User</th>\n",
       "      <th>Rating</th>\n",
       "      <th>Date</th>\n",
       "      <th>Movie</th>\n",
       "    </tr>\n",
       "  </thead>\n",
       "  <tbody>\n",
       "    <tr>\n",
       "      <th>1011796</th>\n",
       "      <td>761594</td>\n",
       "      <td>3.0</td>\n",
       "      <td>2005-06-24</td>\n",
       "      <td>13512</td>\n",
       "    </tr>\n",
       "    <tr>\n",
       "      <th>10828997</th>\n",
       "      <td>625128</td>\n",
       "      <td>4.0</td>\n",
       "      <td>2005-08-24</td>\n",
       "      <td>9210</td>\n",
       "    </tr>\n",
       "    <tr>\n",
       "      <th>13041500</th>\n",
       "      <td>383451</td>\n",
       "      <td>4.0</td>\n",
       "      <td>2004-12-29</td>\n",
       "      <td>6596</td>\n",
       "    </tr>\n",
       "    <tr>\n",
       "      <th>5696782</th>\n",
       "      <td>452114</td>\n",
       "      <td>5.0</td>\n",
       "      <td>2005-09-11</td>\n",
       "      <td>13367</td>\n",
       "    </tr>\n",
       "    <tr>\n",
       "      <th>22754124</th>\n",
       "      <td>2490858</td>\n",
       "      <td>5.0</td>\n",
       "      <td>2005-04-06</td>\n",
       "      <td>13367</td>\n",
       "    </tr>\n",
       "  </tbody>\n",
       "</table>\n",
       "</div>"
      ],
      "text/plain": [
       "             User  Rating        Date  Movie\n",
       "1011796    761594     3.0  2005-06-24  13512\n",
       "10828997   625128     4.0  2005-08-24   9210\n",
       "13041500   383451     4.0  2004-12-29   6596\n",
       "5696782    452114     5.0  2005-09-11  13367\n",
       "22754124  2490858     5.0  2005-04-06  13367"
      ]
     },
     "execution_count": 83,
     "metadata": {},
     "output_type": "execute_result"
    }
   ],
   "source": [
    "totalDF.sample(5)"
   ]
  },
  {
   "cell_type": "code",
   "execution_count": 84,
   "metadata": {},
   "outputs": [],
   "source": [
    "del userData,data,data1,data2,data3,data4,"
   ]
  },
  {
   "cell_type": "code",
   "execution_count": 85,
   "metadata": {},
   "outputs": [],
   "source": [
    "del tmpMovie, tmpDF, shiftedMovieIndices, movieIndices, dfID_1,dfID_2,movieID, nextMovieID"
   ]
  },
  {
   "cell_type": "code",
   "execution_count": 96,
   "metadata": {},
   "outputs": [
    {
     "data": {
      "text/plain": [
       "2005-01-19    2950065\n",
       "2005-04-06    1359145\n",
       "2005-06-01     955794\n",
       "2005-06-27     944671\n",
       "2005-05-31     936178\n",
       "2005-08-22     899288\n",
       "2005-06-06     889849\n",
       "2005-09-26     889584\n",
       "2005-01-25     884528\n",
       "2005-07-11     881628\n",
       "2005-06-07     880297\n",
       "2005-01-10     878563\n",
       "2005-07-05     875650\n",
       "2005-06-13     874743\n",
       "2005-06-20     873834\n",
       "2005-09-20     873416\n",
       "2005-09-19     872897\n",
       "2005-01-24     869517\n",
       "2005-06-14     868401\n",
       "2005-08-15     867379\n",
       "2005-10-24     864690\n",
       "2005-07-12     861996\n",
       "2005-06-28     857539\n",
       "2005-07-18     850126\n",
       "2005-01-31     850005\n",
       "2005-01-20     846362\n",
       "2005-02-01     839458\n",
       "2005-08-23     838756\n",
       "2005-07-25     837269\n",
       "2005-06-02     836842\n",
       "               ...   \n",
       "2000-01-31       4492\n",
       "2000-10-21       3916\n",
       "2000-06-17       3812\n",
       "2000-01-22       3776\n",
       "2000-05-28       3052\n",
       "2000-10-22       2932\n",
       "1999-12-30       2815\n",
       "1999-12-31       1724\n",
       "2000-10-24       1228\n",
       "1999-12-24        764\n",
       "1999-12-21        508\n",
       "1999-12-17        484\n",
       "1999-12-27        328\n",
       "1999-12-09        320\n",
       "1999-12-16        284\n",
       "1999-12-29        188\n",
       "1999-12-18        184\n",
       "1999-12-28        148\n",
       "1999-12-22        116\n",
       "1999-12-08        116\n",
       "1999-11-11        112\n",
       "1999-12-11        112\n",
       "1999-12-12        104\n",
       "1999-12-25         88\n",
       "1999-12-10         84\n",
       "1999-12-26         80\n",
       "1999-12-14         60\n",
       "1999-12-06         48\n",
       "1999-12-20         24\n",
       "1999-12-15         20\n",
       "Name: Date, Length: 2182, dtype: int64"
      ]
     },
     "execution_count": 96,
     "metadata": {},
     "output_type": "execute_result"
    }
   ],
   "source": [
    "#When were the movies rated\n",
    "ratedCount = totalDF['Date'].value_counts()\n",
    "ratedCount"
   ]
  },
  {
   "cell_type": "code",
   "execution_count": 97,
   "metadata": {},
   "outputs": [
    {
     "data": {
      "text/plain": [
       "1999-11-11       112\n",
       "1999-12-06        48\n",
       "1999-12-08       116\n",
       "1999-12-09       320\n",
       "1999-12-10        84\n",
       "1999-12-11       112\n",
       "1999-12-12       104\n",
       "1999-12-14        60\n",
       "1999-12-15        20\n",
       "1999-12-16       284\n",
       "1999-12-17       484\n",
       "1999-12-18       184\n",
       "1999-12-20        24\n",
       "1999-12-21       508\n",
       "1999-12-22       116\n",
       "1999-12-24       764\n",
       "1999-12-25        88\n",
       "1999-12-26        80\n",
       "1999-12-27       328\n",
       "1999-12-28       148\n",
       "1999-12-29       188\n",
       "1999-12-30      2815\n",
       "1999-12-31      1724\n",
       "2000-01-05      5860\n",
       "2000-01-06     20844\n",
       "2000-01-07     15255\n",
       "2000-01-08     17163\n",
       "2000-01-09     15859\n",
       "2000-01-10     14060\n",
       "2000-01-11     10708\n",
       "               ...  \n",
       "2005-12-02    360309\n",
       "2005-12-03    280316\n",
       "2005-12-04    303739\n",
       "2005-12-05    453126\n",
       "2005-12-06    457382\n",
       "2005-12-07    382050\n",
       "2005-12-08    330532\n",
       "2005-12-09    313666\n",
       "2005-12-10    245010\n",
       "2005-12-11    264772\n",
       "2005-12-12    397494\n",
       "2005-12-13    352273\n",
       "2005-12-14    350540\n",
       "2005-12-15    283367\n",
       "2005-12-16    274886\n",
       "2005-12-17    230331\n",
       "2005-12-18    266524\n",
       "2005-12-19    387598\n",
       "2005-12-20    349316\n",
       "2005-12-21    315747\n",
       "2005-12-22    277421\n",
       "2005-12-23    238170\n",
       "2005-12-24    126443\n",
       "2005-12-25    120114\n",
       "2005-12-26    240338\n",
       "2005-12-27    351151\n",
       "2005-12-28    394617\n",
       "2005-12-29    389223\n",
       "2005-12-30    310330\n",
       "2005-12-31    182632\n",
       "Name: Date, Length: 2182, dtype: int64"
      ]
     },
     "execution_count": 97,
     "metadata": {},
     "output_type": "execute_result"
    }
   ],
   "source": [
    "ratedCount.index = pd.to_datetime(ratedCount.index)\n",
    "ratedCount.sort_index(inplace=True)\n",
    "ratedCount"
   ]
  },
  {
   "cell_type": "markdown",
   "metadata": {},
   "source": [
    "#pd.options.plotting.backend = \"plotly\"\n",
    "ratedCount = pd.DataFrame(ratedCount)\n",
    "ratedCount\n"
   ]
  },
  {
   "cell_type": "code",
   "execution_count": 103,
   "metadata": {},
   "outputs": [
    {
     "data": {
      "text/plain": [
       "DatetimeIndex(['1999-11-11', '1999-12-06', '1999-12-08', '1999-12-09',\n",
       "               '1999-12-10', '1999-12-11', '1999-12-12', '1999-12-14',\n",
       "               '1999-12-15', '1999-12-16',\n",
       "               ...\n",
       "               '2005-12-22', '2005-12-23', '2005-12-24', '2005-12-25',\n",
       "               '2005-12-26', '2005-12-27', '2005-12-28', '2005-12-29',\n",
       "               '2005-12-30', '2005-12-31'],\n",
       "              dtype='datetime64[ns]', length=2182, freq=None)"
      ]
     },
     "execution_count": 103,
     "metadata": {},
     "output_type": "execute_result"
    }
   ],
   "source": [
    "x = ratedCount.index\n",
    "x"
   ]
  },
  {
   "cell_type": "code",
   "execution_count": 106,
   "metadata": {},
   "outputs": [
    {
     "data": {
      "text/plain": [
       "array([[   112],\n",
       "       [    48],\n",
       "       [   116],\n",
       "       ...,\n",
       "       [389223],\n",
       "       [310330],\n",
       "       [182632]])"
      ]
     },
     "execution_count": 106,
     "metadata": {},
     "output_type": "execute_result"
    }
   ],
   "source": [
    "y = ratedCount.values\n",
    "y"
   ]
  },
  {
   "cell_type": "code",
   "execution_count": 107,
   "metadata": {},
   "outputs": [],
   "source": [
    "from plotly.offline import init_notebook_mode, plot, iplot\n",
    "import plotly.graph_objs as go"
   ]
  },
  {
   "cell_type": "code",
   "execution_count": 108,
   "metadata": {},
   "outputs": [
    {
     "data": {
      "text/html": [
       "        <script type=\"text/javascript\">\n",
       "        window.PlotlyConfig = {MathJaxConfig: 'local'};\n",
       "        if (window.MathJax) {MathJax.Hub.Config({SVG: {font: \"STIX-Web\"}});}\n",
       "        if (typeof require !== 'undefined') {\n",
       "        require.undef(\"plotly\");\n",
       "        requirejs.config({\n",
       "            paths: {\n",
       "                'plotly': ['https://cdn.plot.ly/plotly-latest.min']\n",
       "            }\n",
       "        });\n",
       "        require(['plotly'], function(Plotly) {\n",
       "            window._Plotly = Plotly;\n",
       "        });\n",
       "        }\n",
       "        </script>\n",
       "        "
      ]
     },
     "metadata": {},
     "output_type": "display_data"
    }
   ],
   "source": [
    "init_notebook_mode(connected=True)"
   ]
  },
  {
   "cell_type": "code",
   "execution_count": 109,
   "metadata": {},
   "outputs": [
    {
     "data": {
      "application/vnd.plotly.v1+json": {
       "config": {
        "linkText": "Export to plot.ly",
        "plotlyServerURL": "https://plot.ly",
        "showLink": false
       },
       "data": [
        {
         "marker": {
          "color": "#db0000"
         },
         "type": "scatter",
         "x": [
          "1999-11-11T00:00:00",
          "1999-12-06T00:00:00",
          "1999-12-08T00:00:00",
          "1999-12-09T00:00:00",
          "1999-12-10T00:00:00",
          "1999-12-11T00:00:00",
          "1999-12-12T00:00:00",
          "1999-12-14T00:00:00",
          "1999-12-15T00:00:00",
          "1999-12-16T00:00:00",
          "1999-12-17T00:00:00",
          "1999-12-18T00:00:00",
          "1999-12-20T00:00:00",
          "1999-12-21T00:00:00",
          "1999-12-22T00:00:00",
          "1999-12-24T00:00:00",
          "1999-12-25T00:00:00",
          "1999-12-26T00:00:00",
          "1999-12-27T00:00:00",
          "1999-12-28T00:00:00",
          "1999-12-29T00:00:00",
          "1999-12-30T00:00:00",
          "1999-12-31T00:00:00",
          "2000-01-05T00:00:00",
          "2000-01-06T00:00:00",
          "2000-01-07T00:00:00",
          "2000-01-08T00:00:00",
          "2000-01-09T00:00:00",
          "2000-01-10T00:00:00",
          "2000-01-11T00:00:00",
          "2000-01-12T00:00:00",
          "2000-01-13T00:00:00",
          "2000-01-14T00:00:00",
          "2000-01-15T00:00:00",
          "2000-01-16T00:00:00",
          "2000-01-17T00:00:00",
          "2000-01-18T00:00:00",
          "2000-01-19T00:00:00",
          "2000-01-20T00:00:00",
          "2000-01-21T00:00:00",
          "2000-01-22T00:00:00",
          "2000-01-23T00:00:00",
          "2000-01-24T00:00:00",
          "2000-01-25T00:00:00",
          "2000-01-26T00:00:00",
          "2000-01-27T00:00:00",
          "2000-01-28T00:00:00",
          "2000-01-29T00:00:00",
          "2000-01-30T00:00:00",
          "2000-01-31T00:00:00",
          "2000-02-01T00:00:00",
          "2000-02-02T00:00:00",
          "2000-02-03T00:00:00",
          "2000-02-04T00:00:00",
          "2000-02-05T00:00:00",
          "2000-02-06T00:00:00",
          "2000-02-07T00:00:00",
          "2000-02-08T00:00:00",
          "2000-02-09T00:00:00",
          "2000-02-10T00:00:00",
          "2000-02-11T00:00:00",
          "2000-02-12T00:00:00",
          "2000-02-13T00:00:00",
          "2000-02-14T00:00:00",
          "2000-02-15T00:00:00",
          "2000-02-16T00:00:00",
          "2000-02-17T00:00:00",
          "2000-02-18T00:00:00",
          "2000-02-19T00:00:00",
          "2000-02-20T00:00:00",
          "2000-02-21T00:00:00",
          "2000-02-22T00:00:00",
          "2000-02-23T00:00:00",
          "2000-02-24T00:00:00",
          "2000-02-25T00:00:00",
          "2000-02-26T00:00:00",
          "2000-02-27T00:00:00",
          "2000-02-28T00:00:00",
          "2000-02-29T00:00:00",
          "2000-03-01T00:00:00",
          "2000-03-02T00:00:00",
          "2000-03-03T00:00:00",
          "2000-03-04T00:00:00",
          "2000-03-05T00:00:00",
          "2000-03-06T00:00:00",
          "2000-03-07T00:00:00",
          "2000-03-08T00:00:00",
          "2000-03-09T00:00:00",
          "2000-03-10T00:00:00",
          "2000-03-11T00:00:00",
          "2000-03-12T00:00:00",
          "2000-03-13T00:00:00",
          "2000-03-14T00:00:00",
          "2000-03-15T00:00:00",
          "2000-03-16T00:00:00",
          "2000-03-17T00:00:00",
          "2000-03-18T00:00:00",
          "2000-03-19T00:00:00",
          "2000-03-20T00:00:00",
          "2000-03-21T00:00:00",
          "2000-03-22T00:00:00",
          "2000-03-23T00:00:00",
          "2000-03-24T00:00:00",
          "2000-03-25T00:00:00",
          "2000-03-26T00:00:00",
          "2000-03-27T00:00:00",
          "2000-03-28T00:00:00",
          "2000-03-29T00:00:00",
          "2000-03-30T00:00:00",
          "2000-03-31T00:00:00",
          "2000-04-01T00:00:00",
          "2000-04-02T00:00:00",
          "2000-04-03T00:00:00",
          "2000-04-04T00:00:00",
          "2000-04-05T00:00:00",
          "2000-04-06T00:00:00",
          "2000-04-07T00:00:00",
          "2000-04-08T00:00:00",
          "2000-04-09T00:00:00",
          "2000-04-10T00:00:00",
          "2000-04-11T00:00:00",
          "2000-04-12T00:00:00",
          "2000-04-13T00:00:00",
          "2000-04-14T00:00:00",
          "2000-04-15T00:00:00",
          "2000-04-16T00:00:00",
          "2000-04-17T00:00:00",
          "2000-04-18T00:00:00",
          "2000-04-19T00:00:00",
          "2000-04-20T00:00:00",
          "2000-04-21T00:00:00",
          "2000-04-22T00:00:00",
          "2000-04-23T00:00:00",
          "2000-04-24T00:00:00",
          "2000-04-25T00:00:00",
          "2000-04-26T00:00:00",
          "2000-04-27T00:00:00",
          "2000-04-28T00:00:00",
          "2000-04-29T00:00:00",
          "2000-04-30T00:00:00",
          "2000-05-01T00:00:00",
          "2000-05-02T00:00:00",
          "2000-05-03T00:00:00",
          "2000-05-04T00:00:00",
          "2000-05-05T00:00:00",
          "2000-05-06T00:00:00",
          "2000-05-07T00:00:00",
          "2000-05-08T00:00:00",
          "2000-05-09T00:00:00",
          "2000-05-10T00:00:00",
          "2000-05-11T00:00:00",
          "2000-05-12T00:00:00",
          "2000-05-13T00:00:00",
          "2000-05-14T00:00:00",
          "2000-05-15T00:00:00",
          "2000-05-16T00:00:00",
          "2000-05-17T00:00:00",
          "2000-05-18T00:00:00",
          "2000-05-19T00:00:00",
          "2000-05-20T00:00:00",
          "2000-05-21T00:00:00",
          "2000-05-22T00:00:00",
          "2000-05-23T00:00:00",
          "2000-05-24T00:00:00",
          "2000-05-25T00:00:00",
          "2000-05-26T00:00:00",
          "2000-05-27T00:00:00",
          "2000-05-28T00:00:00",
          "2000-05-29T00:00:00",
          "2000-05-30T00:00:00",
          "2000-05-31T00:00:00",
          "2000-06-01T00:00:00",
          "2000-06-02T00:00:00",
          "2000-06-03T00:00:00",
          "2000-06-04T00:00:00",
          "2000-06-05T00:00:00",
          "2000-06-06T00:00:00",
          "2000-06-07T00:00:00",
          "2000-06-08T00:00:00",
          "2000-06-09T00:00:00",
          "2000-06-10T00:00:00",
          "2000-06-11T00:00:00",
          "2000-06-12T00:00:00",
          "2000-06-13T00:00:00",
          "2000-06-14T00:00:00",
          "2000-06-15T00:00:00",
          "2000-06-16T00:00:00",
          "2000-06-17T00:00:00",
          "2000-06-18T00:00:00",
          "2000-06-19T00:00:00",
          "2000-06-20T00:00:00",
          "2000-06-21T00:00:00",
          "2000-06-22T00:00:00",
          "2000-06-23T00:00:00",
          "2000-06-24T00:00:00",
          "2000-06-25T00:00:00",
          "2000-06-26T00:00:00",
          "2000-06-27T00:00:00",
          "2000-06-28T00:00:00",
          "2000-06-29T00:00:00",
          "2000-06-30T00:00:00",
          "2000-07-01T00:00:00",
          "2000-07-02T00:00:00",
          "2000-07-03T00:00:00",
          "2000-07-04T00:00:00",
          "2000-07-05T00:00:00",
          "2000-07-06T00:00:00",
          "2000-07-07T00:00:00",
          "2000-07-08T00:00:00",
          "2000-07-09T00:00:00",
          "2000-07-10T00:00:00",
          "2000-07-11T00:00:00",
          "2000-07-12T00:00:00",
          "2000-07-13T00:00:00",
          "2000-07-14T00:00:00",
          "2000-07-15T00:00:00",
          "2000-07-16T00:00:00",
          "2000-07-17T00:00:00",
          "2000-07-18T00:00:00",
          "2000-07-19T00:00:00",
          "2000-07-20T00:00:00",
          "2000-07-21T00:00:00",
          "2000-07-22T00:00:00",
          "2000-07-23T00:00:00",
          "2000-07-24T00:00:00",
          "2000-07-25T00:00:00",
          "2000-07-26T00:00:00",
          "2000-07-27T00:00:00",
          "2000-07-28T00:00:00",
          "2000-07-29T00:00:00",
          "2000-07-30T00:00:00",
          "2000-07-31T00:00:00",
          "2000-08-01T00:00:00",
          "2000-08-02T00:00:00",
          "2000-08-03T00:00:00",
          "2000-08-04T00:00:00",
          "2000-08-05T00:00:00",
          "2000-08-06T00:00:00",
          "2000-08-07T00:00:00",
          "2000-08-08T00:00:00",
          "2000-08-09T00:00:00",
          "2000-08-10T00:00:00",
          "2000-08-11T00:00:00",
          "2000-08-12T00:00:00",
          "2000-08-13T00:00:00",
          "2000-08-14T00:00:00",
          "2000-08-15T00:00:00",
          "2000-08-16T00:00:00",
          "2000-08-17T00:00:00",
          "2000-08-18T00:00:00",
          "2000-08-19T00:00:00",
          "2000-08-20T00:00:00",
          "2000-08-21T00:00:00",
          "2000-08-22T00:00:00",
          "2000-08-23T00:00:00",
          "2000-08-24T00:00:00",
          "2000-08-25T00:00:00",
          "2000-08-26T00:00:00",
          "2000-08-27T00:00:00",
          "2000-08-28T00:00:00",
          "2000-08-29T00:00:00",
          "2000-08-30T00:00:00",
          "2000-08-31T00:00:00",
          "2000-09-01T00:00:00",
          "2000-09-02T00:00:00",
          "2000-09-03T00:00:00",
          "2000-09-04T00:00:00",
          "2000-09-05T00:00:00",
          "2000-09-06T00:00:00",
          "2000-09-07T00:00:00",
          "2000-09-08T00:00:00",
          "2000-09-09T00:00:00",
          "2000-09-10T00:00:00",
          "2000-09-11T00:00:00",
          "2000-09-12T00:00:00",
          "2000-09-13T00:00:00",
          "2000-09-14T00:00:00",
          "2000-09-15T00:00:00",
          "2000-09-16T00:00:00",
          "2000-09-17T00:00:00",
          "2000-09-18T00:00:00",
          "2000-09-19T00:00:00",
          "2000-09-20T00:00:00",
          "2000-09-21T00:00:00",
          "2000-09-22T00:00:00",
          "2000-09-23T00:00:00",
          "2000-09-24T00:00:00",
          "2000-09-25T00:00:00",
          "2000-09-26T00:00:00",
          "2000-09-27T00:00:00",
          "2000-09-28T00:00:00",
          "2000-09-29T00:00:00",
          "2000-09-30T00:00:00",
          "2000-10-01T00:00:00",
          "2000-10-02T00:00:00",
          "2000-10-03T00:00:00",
          "2000-10-04T00:00:00",
          "2000-10-05T00:00:00",
          "2000-10-06T00:00:00",
          "2000-10-07T00:00:00",
          "2000-10-08T00:00:00",
          "2000-10-09T00:00:00",
          "2000-10-10T00:00:00",
          "2000-10-11T00:00:00",
          "2000-10-12T00:00:00",
          "2000-10-13T00:00:00",
          "2000-10-14T00:00:00",
          "2000-10-15T00:00:00",
          "2000-10-16T00:00:00",
          "2000-10-17T00:00:00",
          "2000-10-18T00:00:00",
          "2000-10-19T00:00:00",
          "2000-10-20T00:00:00",
          "2000-10-21T00:00:00",
          "2000-10-22T00:00:00",
          "2000-10-23T00:00:00",
          "2000-10-24T00:00:00",
          "2000-10-26T00:00:00",
          "2000-10-27T00:00:00",
          "2000-10-28T00:00:00",
          "2000-10-29T00:00:00",
          "2000-10-30T00:00:00",
          "2000-10-31T00:00:00",
          "2000-11-01T00:00:00",
          "2000-11-02T00:00:00",
          "2000-11-03T00:00:00",
          "2000-11-04T00:00:00",
          "2000-11-05T00:00:00",
          "2000-11-06T00:00:00",
          "2000-11-07T00:00:00",
          "2000-11-08T00:00:00",
          "2000-11-09T00:00:00",
          "2000-11-10T00:00:00",
          "2000-11-11T00:00:00",
          "2000-11-12T00:00:00",
          "2000-11-13T00:00:00",
          "2000-11-14T00:00:00",
          "2000-11-15T00:00:00",
          "2000-11-16T00:00:00",
          "2000-11-17T00:00:00",
          "2000-11-18T00:00:00",
          "2000-11-19T00:00:00",
          "2000-11-20T00:00:00",
          "2000-11-21T00:00:00",
          "2000-11-22T00:00:00",
          "2000-11-23T00:00:00",
          "2000-11-24T00:00:00",
          "2000-11-25T00:00:00",
          "2000-11-26T00:00:00",
          "2000-11-27T00:00:00",
          "2000-11-28T00:00:00",
          "2000-11-29T00:00:00",
          "2000-11-30T00:00:00",
          "2000-12-01T00:00:00",
          "2000-12-02T00:00:00",
          "2000-12-03T00:00:00",
          "2000-12-04T00:00:00",
          "2000-12-05T00:00:00",
          "2000-12-06T00:00:00",
          "2000-12-07T00:00:00",
          "2000-12-08T00:00:00",
          "2000-12-09T00:00:00",
          "2000-12-10T00:00:00",
          "2000-12-11T00:00:00",
          "2000-12-12T00:00:00",
          "2000-12-13T00:00:00",
          "2000-12-14T00:00:00",
          "2000-12-15T00:00:00",
          "2000-12-16T00:00:00",
          "2000-12-17T00:00:00",
          "2000-12-18T00:00:00",
          "2000-12-19T00:00:00",
          "2000-12-20T00:00:00",
          "2000-12-21T00:00:00",
          "2000-12-22T00:00:00",
          "2000-12-23T00:00:00",
          "2000-12-24T00:00:00",
          "2000-12-25T00:00:00",
          "2000-12-26T00:00:00",
          "2000-12-27T00:00:00",
          "2000-12-28T00:00:00",
          "2000-12-29T00:00:00",
          "2000-12-30T00:00:00",
          "2000-12-31T00:00:00",
          "2001-01-01T00:00:00",
          "2001-01-02T00:00:00",
          "2001-01-03T00:00:00",
          "2001-01-04T00:00:00",
          "2001-01-05T00:00:00",
          "2001-01-06T00:00:00",
          "2001-01-07T00:00:00",
          "2001-01-08T00:00:00",
          "2001-01-09T00:00:00",
          "2001-01-10T00:00:00",
          "2001-01-11T00:00:00",
          "2001-01-12T00:00:00",
          "2001-01-13T00:00:00",
          "2001-01-14T00:00:00",
          "2001-01-15T00:00:00",
          "2001-01-16T00:00:00",
          "2001-01-17T00:00:00",
          "2001-01-18T00:00:00",
          "2001-01-19T00:00:00",
          "2001-01-20T00:00:00",
          "2001-01-21T00:00:00",
          "2001-01-22T00:00:00",
          "2001-01-23T00:00:00",
          "2001-01-24T00:00:00",
          "2001-01-25T00:00:00",
          "2001-01-26T00:00:00",
          "2001-01-27T00:00:00",
          "2001-01-28T00:00:00",
          "2001-01-29T00:00:00",
          "2001-01-30T00:00:00",
          "2001-02-01T00:00:00",
          "2001-02-02T00:00:00",
          "2001-02-03T00:00:00",
          "2001-02-04T00:00:00",
          "2001-02-05T00:00:00",
          "2001-02-06T00:00:00",
          "2001-02-07T00:00:00",
          "2001-02-08T00:00:00",
          "2001-02-09T00:00:00",
          "2001-02-10T00:00:00",
          "2001-02-11T00:00:00",
          "2001-02-12T00:00:00",
          "2001-02-13T00:00:00",
          "2001-02-14T00:00:00",
          "2001-02-15T00:00:00",
          "2001-02-16T00:00:00",
          "2001-02-17T00:00:00",
          "2001-02-18T00:00:00",
          "2001-02-19T00:00:00",
          "2001-02-20T00:00:00",
          "2001-02-21T00:00:00",
          "2001-02-22T00:00:00",
          "2001-02-23T00:00:00",
          "2001-02-24T00:00:00",
          "2001-02-25T00:00:00",
          "2001-02-26T00:00:00",
          "2001-02-27T00:00:00",
          "2001-02-28T00:00:00",
          "2001-03-01T00:00:00",
          "2001-03-02T00:00:00",
          "2001-03-03T00:00:00",
          "2001-03-04T00:00:00",
          "2001-03-05T00:00:00",
          "2001-03-06T00:00:00",
          "2001-03-07T00:00:00",
          "2001-03-08T00:00:00",
          "2001-03-09T00:00:00",
          "2001-03-10T00:00:00",
          "2001-03-11T00:00:00",
          "2001-03-12T00:00:00",
          "2001-03-13T00:00:00",
          "2001-03-14T00:00:00",
          "2001-03-15T00:00:00",
          "2001-03-16T00:00:00",
          "2001-03-17T00:00:00",
          "2001-03-18T00:00:00",
          "2001-03-19T00:00:00",
          "2001-03-20T00:00:00",
          "2001-03-21T00:00:00",
          "2001-03-22T00:00:00",
          "2001-03-23T00:00:00",
          "2001-03-24T00:00:00",
          "2001-03-25T00:00:00",
          "2001-03-26T00:00:00",
          "2001-03-27T00:00:00",
          "2001-03-28T00:00:00",
          "2001-03-29T00:00:00",
          "2001-03-30T00:00:00",
          "2001-03-31T00:00:00",
          "2001-04-01T00:00:00",
          "2001-04-02T00:00:00",
          "2001-04-03T00:00:00",
          "2001-04-04T00:00:00",
          "2001-04-05T00:00:00",
          "2001-04-06T00:00:00",
          "2001-04-07T00:00:00",
          "2001-04-08T00:00:00",
          "2001-04-09T00:00:00",
          "2001-04-10T00:00:00",
          "2001-04-11T00:00:00",
          "2001-04-12T00:00:00",
          "2001-04-13T00:00:00",
          "2001-04-14T00:00:00",
          "2001-04-15T00:00:00",
          "2001-04-16T00:00:00",
          "2001-04-17T00:00:00",
          "2001-04-18T00:00:00",
          "2001-04-19T00:00:00",
          "2001-04-20T00:00:00",
          "2001-04-21T00:00:00",
          "2001-04-22T00:00:00",
          "2001-04-23T00:00:00",
          "2001-04-24T00:00:00",
          "2001-04-25T00:00:00",
          "2001-04-26T00:00:00",
          "2001-04-27T00:00:00",
          "2001-04-28T00:00:00",
          "2001-04-29T00:00:00",
          "2001-04-30T00:00:00",
          "2001-05-01T00:00:00",
          "2001-05-02T00:00:00",
          "2001-05-03T00:00:00",
          "2001-05-04T00:00:00",
          "2001-05-05T00:00:00",
          "2001-05-06T00:00:00",
          "2001-05-07T00:00:00",
          "2001-05-08T00:00:00",
          "2001-05-09T00:00:00",
          "2001-05-10T00:00:00",
          "2001-05-11T00:00:00",
          "2001-05-12T00:00:00",
          "2001-05-13T00:00:00",
          "2001-05-14T00:00:00",
          "2001-05-15T00:00:00",
          "2001-05-16T00:00:00",
          "2001-05-17T00:00:00",
          "2001-05-18T00:00:00",
          "2001-05-19T00:00:00",
          "2001-05-20T00:00:00",
          "2001-05-21T00:00:00",
          "2001-05-22T00:00:00",
          "2001-05-23T00:00:00",
          "2001-05-24T00:00:00",
          "2001-05-25T00:00:00",
          "2001-05-26T00:00:00",
          "2001-05-27T00:00:00",
          "2001-05-28T00:00:00",
          "2001-05-29T00:00:00",
          "2001-05-30T00:00:00",
          "2001-05-31T00:00:00",
          "2001-06-01T00:00:00",
          "2001-06-02T00:00:00",
          "2001-06-03T00:00:00",
          "2001-06-04T00:00:00",
          "2001-06-05T00:00:00",
          "2001-06-06T00:00:00",
          "2001-06-07T00:00:00",
          "2001-06-08T00:00:00",
          "2001-06-09T00:00:00",
          "2001-06-10T00:00:00",
          "2001-06-11T00:00:00",
          "2001-06-12T00:00:00",
          "2001-06-13T00:00:00",
          "2001-06-14T00:00:00",
          "2001-06-15T00:00:00",
          "2001-06-16T00:00:00",
          "2001-06-17T00:00:00",
          "2001-06-18T00:00:00",
          "2001-06-19T00:00:00",
          "2001-06-20T00:00:00",
          "2001-06-21T00:00:00",
          "2001-06-22T00:00:00",
          "2001-06-23T00:00:00",
          "2001-06-24T00:00:00",
          "2001-06-25T00:00:00",
          "2001-06-26T00:00:00",
          "2001-06-27T00:00:00",
          "2001-06-28T00:00:00",
          "2001-06-29T00:00:00",
          "2001-06-30T00:00:00",
          "2001-07-01T00:00:00",
          "2001-07-02T00:00:00",
          "2001-07-03T00:00:00",
          "2001-07-04T00:00:00",
          "2001-07-05T00:00:00",
          "2001-07-06T00:00:00",
          "2001-07-07T00:00:00",
          "2001-07-08T00:00:00",
          "2001-07-09T00:00:00",
          "2001-07-10T00:00:00",
          "2001-07-11T00:00:00",
          "2001-07-12T00:00:00",
          "2001-07-13T00:00:00",
          "2001-07-14T00:00:00",
          "2001-07-15T00:00:00",
          "2001-07-16T00:00:00",
          "2001-07-17T00:00:00",
          "2001-07-18T00:00:00",
          "2001-07-19T00:00:00",
          "2001-07-20T00:00:00",
          "2001-07-21T00:00:00",
          "2001-07-22T00:00:00",
          "2001-07-23T00:00:00",
          "2001-07-24T00:00:00",
          "2001-07-25T00:00:00",
          "2001-07-26T00:00:00",
          "2001-07-27T00:00:00",
          "2001-07-28T00:00:00",
          "2001-07-29T00:00:00",
          "2001-07-30T00:00:00",
          "2001-07-31T00:00:00",
          "2001-08-01T00:00:00",
          "2001-08-02T00:00:00",
          "2001-08-03T00:00:00",
          "2001-08-04T00:00:00",
          "2001-08-05T00:00:00",
          "2001-08-06T00:00:00",
          "2001-08-07T00:00:00",
          "2001-08-08T00:00:00",
          "2001-08-09T00:00:00",
          "2001-08-10T00:00:00",
          "2001-08-11T00:00:00",
          "2001-08-12T00:00:00",
          "2001-08-13T00:00:00",
          "2001-08-14T00:00:00",
          "2001-08-15T00:00:00",
          "2001-08-16T00:00:00",
          "2001-08-17T00:00:00",
          "2001-08-18T00:00:00",
          "2001-08-19T00:00:00",
          "2001-08-20T00:00:00",
          "2001-08-21T00:00:00",
          "2001-08-22T00:00:00",
          "2001-08-23T00:00:00",
          "2001-08-24T00:00:00",
          "2001-08-25T00:00:00",
          "2001-08-26T00:00:00",
          "2001-08-27T00:00:00",
          "2001-08-28T00:00:00",
          "2001-08-29T00:00:00",
          "2001-08-30T00:00:00",
          "2001-08-31T00:00:00",
          "2001-09-01T00:00:00",
          "2001-09-02T00:00:00",
          "2001-09-03T00:00:00",
          "2001-09-04T00:00:00",
          "2001-09-05T00:00:00",
          "2001-09-06T00:00:00",
          "2001-09-07T00:00:00",
          "2001-09-08T00:00:00",
          "2001-09-09T00:00:00",
          "2001-09-10T00:00:00",
          "2001-09-11T00:00:00",
          "2001-09-12T00:00:00",
          "2001-09-13T00:00:00",
          "2001-09-14T00:00:00",
          "2001-09-15T00:00:00",
          "2001-09-16T00:00:00",
          "2001-09-17T00:00:00",
          "2001-09-18T00:00:00",
          "2001-09-19T00:00:00",
          "2001-09-20T00:00:00",
          "2001-09-21T00:00:00",
          "2001-09-22T00:00:00",
          "2001-09-23T00:00:00",
          "2001-09-24T00:00:00",
          "2001-09-25T00:00:00",
          "2001-09-26T00:00:00",
          "2001-09-27T00:00:00",
          "2001-09-28T00:00:00",
          "2001-09-29T00:00:00",
          "2001-09-30T00:00:00",
          "2001-10-01T00:00:00",
          "2001-10-02T00:00:00",
          "2001-10-03T00:00:00",
          "2001-10-04T00:00:00",
          "2001-10-05T00:00:00",
          "2001-10-06T00:00:00",
          "2001-10-07T00:00:00",
          "2001-10-08T00:00:00",
          "2001-10-09T00:00:00",
          "2001-10-10T00:00:00",
          "2001-10-11T00:00:00",
          "2001-10-12T00:00:00",
          "2001-10-13T00:00:00",
          "2001-10-14T00:00:00",
          "2001-10-15T00:00:00",
          "2001-10-16T00:00:00",
          "2001-10-17T00:00:00",
          "2001-10-18T00:00:00",
          "2001-10-19T00:00:00",
          "2001-10-20T00:00:00",
          "2001-10-21T00:00:00",
          "2001-10-22T00:00:00",
          "2001-10-23T00:00:00",
          "2001-10-24T00:00:00",
          "2001-10-25T00:00:00",
          "2001-10-26T00:00:00",
          "2001-10-27T00:00:00",
          "2001-10-28T00:00:00",
          "2001-10-29T00:00:00",
          "2001-10-30T00:00:00",
          "2001-10-31T00:00:00",
          "2001-11-01T00:00:00",
          "2001-11-02T00:00:00",
          "2001-11-03T00:00:00",
          "2001-11-04T00:00:00",
          "2001-11-05T00:00:00",
          "2001-11-06T00:00:00",
          "2001-11-07T00:00:00",
          "2001-11-08T00:00:00",
          "2001-11-09T00:00:00",
          "2001-11-10T00:00:00",
          "2001-11-11T00:00:00",
          "2001-11-12T00:00:00",
          "2001-11-13T00:00:00",
          "2001-11-14T00:00:00",
          "2001-11-15T00:00:00",
          "2001-11-16T00:00:00",
          "2001-11-17T00:00:00",
          "2001-11-18T00:00:00",
          "2001-11-19T00:00:00",
          "2001-11-20T00:00:00",
          "2001-11-21T00:00:00",
          "2001-11-22T00:00:00",
          "2001-11-23T00:00:00",
          "2001-11-24T00:00:00",
          "2001-11-25T00:00:00",
          "2001-11-26T00:00:00",
          "2001-11-27T00:00:00",
          "2001-11-28T00:00:00",
          "2001-11-29T00:00:00",
          "2001-11-30T00:00:00",
          "2001-12-01T00:00:00",
          "2001-12-02T00:00:00",
          "2001-12-03T00:00:00",
          "2001-12-04T00:00:00",
          "2001-12-05T00:00:00",
          "2001-12-06T00:00:00",
          "2001-12-07T00:00:00",
          "2001-12-08T00:00:00",
          "2001-12-09T00:00:00",
          "2001-12-10T00:00:00",
          "2001-12-11T00:00:00",
          "2001-12-12T00:00:00",
          "2001-12-13T00:00:00",
          "2001-12-14T00:00:00",
          "2001-12-15T00:00:00",
          "2001-12-16T00:00:00",
          "2001-12-17T00:00:00",
          "2001-12-18T00:00:00",
          "2001-12-19T00:00:00",
          "2001-12-20T00:00:00",
          "2001-12-21T00:00:00",
          "2001-12-22T00:00:00",
          "2001-12-23T00:00:00",
          "2001-12-24T00:00:00",
          "2001-12-25T00:00:00",
          "2001-12-26T00:00:00",
          "2001-12-27T00:00:00",
          "2001-12-28T00:00:00",
          "2001-12-29T00:00:00",
          "2001-12-30T00:00:00",
          "2001-12-31T00:00:00",
          "2002-01-01T00:00:00",
          "2002-01-02T00:00:00",
          "2002-01-03T00:00:00",
          "2002-01-04T00:00:00",
          "2002-01-05T00:00:00",
          "2002-01-06T00:00:00",
          "2002-01-07T00:00:00",
          "2002-01-08T00:00:00",
          "2002-01-09T00:00:00",
          "2002-01-10T00:00:00",
          "2002-01-11T00:00:00",
          "2002-01-12T00:00:00",
          "2002-01-13T00:00:00",
          "2002-01-14T00:00:00",
          "2002-01-15T00:00:00",
          "2002-01-16T00:00:00",
          "2002-01-17T00:00:00",
          "2002-01-18T00:00:00",
          "2002-01-19T00:00:00",
          "2002-01-20T00:00:00",
          "2002-01-21T00:00:00",
          "2002-01-22T00:00:00",
          "2002-01-23T00:00:00",
          "2002-01-24T00:00:00",
          "2002-01-25T00:00:00",
          "2002-01-26T00:00:00",
          "2002-01-27T00:00:00",
          "2002-01-28T00:00:00",
          "2002-01-29T00:00:00",
          "2002-01-30T00:00:00",
          "2002-01-31T00:00:00",
          "2002-02-01T00:00:00",
          "2002-02-02T00:00:00",
          "2002-02-03T00:00:00",
          "2002-02-04T00:00:00",
          "2002-02-05T00:00:00",
          "2002-02-06T00:00:00",
          "2002-02-07T00:00:00",
          "2002-02-08T00:00:00",
          "2002-02-09T00:00:00",
          "2002-02-10T00:00:00",
          "2002-02-11T00:00:00",
          "2002-02-12T00:00:00",
          "2002-02-13T00:00:00",
          "2002-02-14T00:00:00",
          "2002-02-15T00:00:00",
          "2002-02-16T00:00:00",
          "2002-02-17T00:00:00",
          "2002-02-18T00:00:00",
          "2002-02-19T00:00:00",
          "2002-02-20T00:00:00",
          "2002-02-21T00:00:00",
          "2002-02-22T00:00:00",
          "2002-02-23T00:00:00",
          "2002-02-24T00:00:00",
          "2002-02-25T00:00:00",
          "2002-02-26T00:00:00",
          "2002-02-27T00:00:00",
          "2002-02-28T00:00:00",
          "2002-03-01T00:00:00",
          "2002-03-02T00:00:00",
          "2002-03-03T00:00:00",
          "2002-03-04T00:00:00",
          "2002-03-05T00:00:00",
          "2002-03-06T00:00:00",
          "2002-03-07T00:00:00",
          "2002-03-08T00:00:00",
          "2002-03-09T00:00:00",
          "2002-03-10T00:00:00",
          "2002-03-11T00:00:00",
          "2002-03-12T00:00:00",
          "2002-03-13T00:00:00",
          "2002-03-14T00:00:00",
          "2002-03-15T00:00:00",
          "2002-03-16T00:00:00",
          "2002-03-17T00:00:00",
          "2002-03-18T00:00:00",
          "2002-03-19T00:00:00",
          "2002-03-20T00:00:00",
          "2002-03-21T00:00:00",
          "2002-03-22T00:00:00",
          "2002-03-23T00:00:00",
          "2002-03-24T00:00:00",
          "2002-03-25T00:00:00",
          "2002-03-26T00:00:00",
          "2002-03-27T00:00:00",
          "2002-03-28T00:00:00",
          "2002-03-29T00:00:00",
          "2002-03-30T00:00:00",
          "2002-03-31T00:00:00",
          "2002-04-01T00:00:00",
          "2002-04-02T00:00:00",
          "2002-04-03T00:00:00",
          "2002-04-04T00:00:00",
          "2002-04-05T00:00:00",
          "2002-04-06T00:00:00",
          "2002-04-07T00:00:00",
          "2002-04-08T00:00:00",
          "2002-04-09T00:00:00",
          "2002-04-10T00:00:00",
          "2002-04-11T00:00:00",
          "2002-04-12T00:00:00",
          "2002-04-13T00:00:00",
          "2002-04-14T00:00:00",
          "2002-04-15T00:00:00",
          "2002-04-16T00:00:00",
          "2002-04-17T00:00:00",
          "2002-04-18T00:00:00",
          "2002-04-19T00:00:00",
          "2002-04-20T00:00:00",
          "2002-04-21T00:00:00",
          "2002-04-22T00:00:00",
          "2002-04-23T00:00:00",
          "2002-04-24T00:00:00",
          "2002-04-25T00:00:00",
          "2002-04-26T00:00:00",
          "2002-04-27T00:00:00",
          "2002-04-28T00:00:00",
          "2002-04-29T00:00:00",
          "2002-04-30T00:00:00",
          "2002-05-01T00:00:00",
          "2002-05-02T00:00:00",
          "2002-05-03T00:00:00",
          "2002-05-04T00:00:00",
          "2002-05-05T00:00:00",
          "2002-05-06T00:00:00",
          "2002-05-07T00:00:00",
          "2002-05-08T00:00:00",
          "2002-05-09T00:00:00",
          "2002-05-10T00:00:00",
          "2002-05-11T00:00:00",
          "2002-05-12T00:00:00",
          "2002-05-13T00:00:00",
          "2002-05-14T00:00:00",
          "2002-05-15T00:00:00",
          "2002-05-16T00:00:00",
          "2002-05-17T00:00:00",
          "2002-05-18T00:00:00",
          "2002-05-19T00:00:00",
          "2002-05-20T00:00:00",
          "2002-05-21T00:00:00",
          "2002-05-22T00:00:00",
          "2002-05-23T00:00:00",
          "2002-05-24T00:00:00",
          "2002-05-25T00:00:00",
          "2002-05-26T00:00:00",
          "2002-05-27T00:00:00",
          "2002-05-28T00:00:00",
          "2002-05-29T00:00:00",
          "2002-05-30T00:00:00",
          "2002-05-31T00:00:00",
          "2002-06-01T00:00:00",
          "2002-06-02T00:00:00",
          "2002-06-03T00:00:00",
          "2002-06-04T00:00:00",
          "2002-06-05T00:00:00",
          "2002-06-06T00:00:00",
          "2002-06-07T00:00:00",
          "2002-06-08T00:00:00",
          "2002-06-09T00:00:00",
          "2002-06-10T00:00:00",
          "2002-06-11T00:00:00",
          "2002-06-12T00:00:00",
          "2002-06-13T00:00:00",
          "2002-06-14T00:00:00",
          "2002-06-15T00:00:00",
          "2002-06-16T00:00:00",
          "2002-06-17T00:00:00",
          "2002-06-18T00:00:00",
          "2002-06-19T00:00:00",
          "2002-06-20T00:00:00",
          "2002-06-21T00:00:00",
          "2002-06-22T00:00:00",
          "2002-06-23T00:00:00",
          "2002-06-24T00:00:00",
          "2002-06-25T00:00:00",
          "2002-06-26T00:00:00",
          "2002-06-27T00:00:00",
          "2002-06-28T00:00:00",
          "2002-06-29T00:00:00",
          "2002-06-30T00:00:00",
          "2002-07-01T00:00:00",
          "2002-07-02T00:00:00",
          "2002-07-03T00:00:00",
          "2002-07-04T00:00:00",
          "2002-07-05T00:00:00",
          "2002-07-06T00:00:00",
          "2002-07-07T00:00:00",
          "2002-07-08T00:00:00",
          "2002-07-09T00:00:00",
          "2002-07-10T00:00:00",
          "2002-07-11T00:00:00",
          "2002-07-12T00:00:00",
          "2002-07-13T00:00:00",
          "2002-07-14T00:00:00",
          "2002-07-15T00:00:00",
          "2002-07-16T00:00:00",
          "2002-07-17T00:00:00",
          "2002-07-18T00:00:00",
          "2002-07-19T00:00:00",
          "2002-07-20T00:00:00",
          "2002-07-21T00:00:00",
          "2002-07-22T00:00:00",
          "2002-07-23T00:00:00",
          "2002-07-24T00:00:00",
          "2002-07-25T00:00:00",
          "2002-07-26T00:00:00",
          "2002-07-27T00:00:00",
          "2002-07-28T00:00:00",
          "2002-07-29T00:00:00",
          "2002-07-30T00:00:00",
          "2002-07-31T00:00:00",
          "2002-08-01T00:00:00",
          "2002-08-02T00:00:00",
          "2002-08-03T00:00:00",
          "2002-08-04T00:00:00",
          "2002-08-05T00:00:00",
          "2002-08-06T00:00:00",
          "2002-08-07T00:00:00",
          "2002-08-08T00:00:00",
          "2002-08-09T00:00:00",
          "2002-08-10T00:00:00",
          "2002-08-11T00:00:00",
          "2002-08-12T00:00:00",
          "2002-08-13T00:00:00",
          "2002-08-14T00:00:00",
          "2002-08-15T00:00:00",
          "2002-08-16T00:00:00",
          "2002-08-17T00:00:00",
          "2002-08-18T00:00:00",
          "2002-08-19T00:00:00",
          "2002-08-20T00:00:00",
          "2002-08-21T00:00:00",
          "2002-08-22T00:00:00",
          "2002-08-23T00:00:00",
          "2002-08-24T00:00:00",
          "2002-08-25T00:00:00",
          "2002-08-26T00:00:00",
          "2002-08-27T00:00:00",
          "2002-08-28T00:00:00",
          "2002-08-29T00:00:00",
          "2002-08-30T00:00:00",
          "2002-08-31T00:00:00",
          "2002-09-01T00:00:00",
          "2002-09-02T00:00:00",
          "2002-09-03T00:00:00",
          "2002-09-04T00:00:00",
          "2002-09-05T00:00:00",
          "2002-09-06T00:00:00",
          "2002-09-07T00:00:00",
          "2002-09-08T00:00:00",
          "2002-09-09T00:00:00",
          "2002-09-10T00:00:00",
          "2002-09-11T00:00:00",
          "2002-09-12T00:00:00",
          "2002-09-13T00:00:00",
          "2002-09-14T00:00:00",
          "2002-09-15T00:00:00",
          "2002-09-16T00:00:00",
          "2002-09-17T00:00:00",
          "2002-09-18T00:00:00",
          "2002-09-19T00:00:00",
          "2002-09-20T00:00:00",
          "2002-09-21T00:00:00",
          "2002-09-22T00:00:00",
          "2002-09-23T00:00:00",
          "2002-09-24T00:00:00",
          "2002-09-25T00:00:00",
          "2002-09-26T00:00:00",
          "2002-09-27T00:00:00",
          "2002-09-28T00:00:00",
          "2002-09-29T00:00:00",
          "2002-09-30T00:00:00",
          "2002-10-01T00:00:00",
          "2002-10-02T00:00:00",
          "2002-10-03T00:00:00",
          "2002-10-04T00:00:00",
          "2002-10-05T00:00:00",
          "2002-10-06T00:00:00",
          "2002-10-07T00:00:00",
          "2002-10-08T00:00:00",
          "2002-10-09T00:00:00",
          "2002-10-10T00:00:00",
          "2002-10-11T00:00:00",
          "2002-10-12T00:00:00",
          "2002-10-13T00:00:00",
          "2002-10-14T00:00:00",
          "2002-10-15T00:00:00",
          "2002-10-16T00:00:00",
          "2002-10-17T00:00:00",
          "2002-10-18T00:00:00",
          "2002-10-19T00:00:00",
          "2002-10-20T00:00:00",
          "2002-10-21T00:00:00",
          "2002-10-22T00:00:00",
          "2002-10-23T00:00:00",
          "2002-10-24T00:00:00",
          "2002-10-25T00:00:00",
          "2002-10-26T00:00:00",
          "2002-10-27T00:00:00",
          "2002-10-28T00:00:00",
          "2002-10-29T00:00:00",
          "2002-10-30T00:00:00",
          "2002-10-31T00:00:00",
          "2002-11-01T00:00:00",
          "2002-11-02T00:00:00",
          "2002-11-03T00:00:00",
          "2002-11-04T00:00:00",
          "2002-11-05T00:00:00",
          "2002-11-06T00:00:00",
          "2002-11-07T00:00:00",
          "2002-11-08T00:00:00",
          "2002-11-09T00:00:00",
          "2002-11-10T00:00:00",
          "2002-11-11T00:00:00",
          "2002-11-12T00:00:00",
          "2002-11-13T00:00:00",
          "2002-11-14T00:00:00",
          "2002-11-15T00:00:00",
          "2002-11-16T00:00:00",
          "2002-11-17T00:00:00",
          "2002-11-18T00:00:00",
          "2002-11-19T00:00:00",
          "2002-11-20T00:00:00",
          "2002-11-21T00:00:00",
          "2002-11-22T00:00:00",
          "2002-11-23T00:00:00",
          "2002-11-24T00:00:00",
          "2002-11-25T00:00:00",
          "2002-11-26T00:00:00",
          "2002-11-27T00:00:00",
          "2002-11-28T00:00:00",
          "2002-11-29T00:00:00",
          "2002-11-30T00:00:00",
          "2002-12-01T00:00:00",
          "2002-12-02T00:00:00",
          "2002-12-03T00:00:00",
          "2002-12-04T00:00:00",
          "2002-12-05T00:00:00",
          "2002-12-06T00:00:00",
          "2002-12-07T00:00:00",
          "2002-12-08T00:00:00",
          "2002-12-09T00:00:00",
          "2002-12-10T00:00:00",
          "2002-12-11T00:00:00",
          "2002-12-14T00:00:00",
          "2002-12-15T00:00:00",
          "2002-12-16T00:00:00",
          "2002-12-17T00:00:00",
          "2002-12-18T00:00:00",
          "2002-12-19T00:00:00",
          "2002-12-20T00:00:00",
          "2002-12-21T00:00:00",
          "2002-12-22T00:00:00",
          "2002-12-23T00:00:00",
          "2002-12-24T00:00:00",
          "2002-12-25T00:00:00",
          "2002-12-26T00:00:00",
          "2002-12-27T00:00:00",
          "2002-12-28T00:00:00",
          "2002-12-29T00:00:00",
          "2002-12-30T00:00:00",
          "2002-12-31T00:00:00",
          "2003-01-01T00:00:00",
          "2003-01-02T00:00:00",
          "2003-01-03T00:00:00",
          "2003-01-04T00:00:00",
          "2003-01-05T00:00:00",
          "2003-01-06T00:00:00",
          "2003-01-07T00:00:00",
          "2003-01-08T00:00:00",
          "2003-01-09T00:00:00",
          "2003-01-10T00:00:00",
          "2003-01-11T00:00:00",
          "2003-01-12T00:00:00",
          "2003-01-13T00:00:00",
          "2003-01-14T00:00:00",
          "2003-01-15T00:00:00",
          "2003-01-16T00:00:00",
          "2003-01-17T00:00:00",
          "2003-01-18T00:00:00",
          "2003-01-19T00:00:00",
          "2003-01-20T00:00:00",
          "2003-01-21T00:00:00",
          "2003-01-22T00:00:00",
          "2003-01-23T00:00:00",
          "2003-01-24T00:00:00",
          "2003-01-25T00:00:00",
          "2003-01-26T00:00:00",
          "2003-01-27T00:00:00",
          "2003-02-11T00:00:00",
          "2003-02-12T00:00:00",
          "2003-02-13T00:00:00",
          "2003-02-14T00:00:00",
          "2003-02-15T00:00:00",
          "2003-02-16T00:00:00",
          "2003-02-17T00:00:00",
          "2003-02-18T00:00:00",
          "2003-02-20T00:00:00",
          "2003-02-21T00:00:00",
          "2003-02-23T00:00:00",
          "2003-02-24T00:00:00",
          "2003-02-26T00:00:00",
          "2003-02-27T00:00:00",
          "2003-02-28T00:00:00",
          "2003-03-03T00:00:00",
          "2003-03-04T00:00:00",
          "2003-03-05T00:00:00",
          "2003-03-06T00:00:00",
          "2003-03-07T00:00:00",
          "2003-03-08T00:00:00",
          "2003-03-09T00:00:00",
          "2003-03-10T00:00:00",
          "2003-03-11T00:00:00",
          "2003-03-12T00:00:00",
          "2003-03-13T00:00:00",
          "2003-03-14T00:00:00",
          "2003-03-15T00:00:00",
          "2003-03-16T00:00:00",
          "2003-03-17T00:00:00",
          "2003-03-18T00:00:00",
          "2003-03-19T00:00:00",
          "2003-03-20T00:00:00",
          "2003-03-21T00:00:00",
          "2003-03-22T00:00:00",
          "2003-03-23T00:00:00",
          "2003-03-24T00:00:00",
          "2003-03-25T00:00:00",
          "2003-03-26T00:00:00",
          "2003-03-27T00:00:00",
          "2003-03-28T00:00:00",
          "2003-03-29T00:00:00",
          "2003-03-30T00:00:00",
          "2003-03-31T00:00:00",
          "2003-04-01T00:00:00",
          "2003-04-02T00:00:00",
          "2003-04-03T00:00:00",
          "2003-04-04T00:00:00",
          "2003-04-05T00:00:00",
          "2003-04-06T00:00:00",
          "2003-04-07T00:00:00",
          "2003-04-08T00:00:00",
          "2003-04-09T00:00:00",
          "2003-04-10T00:00:00",
          "2003-04-11T00:00:00",
          "2003-04-12T00:00:00",
          "2003-04-13T00:00:00",
          "2003-04-14T00:00:00",
          "2003-04-15T00:00:00",
          "2003-04-16T00:00:00",
          "2003-04-17T00:00:00",
          "2003-04-18T00:00:00",
          "2003-04-19T00:00:00",
          "2003-04-20T00:00:00",
          "2003-04-21T00:00:00",
          "2003-04-22T00:00:00",
          "2003-04-23T00:00:00",
          "2003-04-24T00:00:00",
          "2003-04-25T00:00:00",
          "2003-04-26T00:00:00",
          "2003-04-27T00:00:00",
          "2003-04-28T00:00:00",
          "2003-04-29T00:00:00",
          "2003-04-30T00:00:00",
          "2003-05-01T00:00:00",
          "2003-05-02T00:00:00",
          "2003-05-03T00:00:00",
          "2003-05-04T00:00:00",
          "2003-05-05T00:00:00",
          "2003-05-06T00:00:00",
          "2003-05-07T00:00:00",
          "2003-05-08T00:00:00",
          "2003-05-09T00:00:00",
          "2003-05-10T00:00:00",
          "2003-05-11T00:00:00",
          "2003-05-12T00:00:00",
          "2003-05-13T00:00:00",
          "2003-05-14T00:00:00",
          "2003-05-15T00:00:00",
          "2003-05-16T00:00:00",
          "2003-05-17T00:00:00",
          "2003-05-18T00:00:00",
          "2003-05-19T00:00:00",
          "2003-05-20T00:00:00",
          "2003-05-21T00:00:00",
          "2003-05-22T00:00:00",
          "2003-05-23T00:00:00",
          "2003-05-24T00:00:00",
          "2003-05-25T00:00:00",
          "2003-05-26T00:00:00",
          "2003-05-27T00:00:00",
          "2003-05-28T00:00:00",
          "2003-05-29T00:00:00",
          "2003-05-30T00:00:00",
          "2003-05-31T00:00:00",
          "2003-06-01T00:00:00",
          "2003-06-02T00:00:00",
          "2003-06-03T00:00:00",
          "2003-06-04T00:00:00",
          "2003-06-05T00:00:00",
          "2003-06-06T00:00:00",
          "2003-06-07T00:00:00",
          "2003-06-08T00:00:00",
          "2003-06-09T00:00:00",
          "2003-06-10T00:00:00",
          "2003-06-11T00:00:00",
          "2003-06-12T00:00:00",
          "2003-06-13T00:00:00",
          "2003-06-14T00:00:00",
          "2003-06-15T00:00:00",
          "2003-06-16T00:00:00",
          "2003-06-17T00:00:00",
          "2003-06-18T00:00:00",
          "2003-06-19T00:00:00",
          "2003-06-20T00:00:00",
          "2003-06-21T00:00:00",
          "2003-06-22T00:00:00",
          "2003-06-23T00:00:00",
          "2003-06-24T00:00:00",
          "2003-06-25T00:00:00",
          "2003-06-26T00:00:00",
          "2003-06-27T00:00:00",
          "2003-06-28T00:00:00",
          "2003-06-29T00:00:00",
          "2003-06-30T00:00:00",
          "2003-07-01T00:00:00",
          "2003-07-02T00:00:00",
          "2003-07-03T00:00:00",
          "2003-07-04T00:00:00",
          "2003-07-05T00:00:00",
          "2003-07-06T00:00:00",
          "2003-07-07T00:00:00",
          "2003-07-08T00:00:00",
          "2003-07-09T00:00:00",
          "2003-07-10T00:00:00",
          "2003-07-11T00:00:00",
          "2003-07-12T00:00:00",
          "2003-07-13T00:00:00",
          "2003-07-14T00:00:00",
          "2003-07-15T00:00:00",
          "2003-07-16T00:00:00",
          "2003-07-17T00:00:00",
          "2003-07-18T00:00:00",
          "2003-07-19T00:00:00",
          "2003-07-20T00:00:00",
          "2003-07-21T00:00:00",
          "2003-07-22T00:00:00",
          "2003-07-23T00:00:00",
          "2003-07-24T00:00:00",
          "2003-07-25T00:00:00",
          "2003-07-26T00:00:00",
          "2003-07-27T00:00:00",
          "2003-07-28T00:00:00",
          "2003-07-29T00:00:00",
          "2003-07-30T00:00:00",
          "2003-07-31T00:00:00",
          "2003-08-01T00:00:00",
          "2003-08-02T00:00:00",
          "2003-08-03T00:00:00",
          "2003-08-04T00:00:00",
          "2003-08-05T00:00:00",
          "2003-08-06T00:00:00",
          "2003-08-07T00:00:00",
          "2003-08-08T00:00:00",
          "2003-08-09T00:00:00",
          "2003-08-10T00:00:00",
          "2003-08-11T00:00:00",
          "2003-08-12T00:00:00",
          "2003-08-13T00:00:00",
          "2003-08-14T00:00:00",
          "2003-08-15T00:00:00",
          "2003-08-16T00:00:00",
          "2003-08-17T00:00:00",
          "2003-08-18T00:00:00",
          "2003-08-19T00:00:00",
          "2003-08-20T00:00:00",
          "2003-08-21T00:00:00",
          "2003-08-22T00:00:00",
          "2003-08-23T00:00:00",
          "2003-08-24T00:00:00",
          "2003-08-25T00:00:00",
          "2003-08-26T00:00:00",
          "2003-08-27T00:00:00",
          "2003-08-28T00:00:00",
          "2003-08-29T00:00:00",
          "2003-08-30T00:00:00",
          "2003-08-31T00:00:00",
          "2003-09-01T00:00:00",
          "2003-09-02T00:00:00",
          "2003-09-03T00:00:00",
          "2003-09-04T00:00:00",
          "2003-09-05T00:00:00",
          "2003-09-06T00:00:00",
          "2003-09-07T00:00:00",
          "2003-09-08T00:00:00",
          "2003-09-09T00:00:00",
          "2003-09-10T00:00:00",
          "2003-09-11T00:00:00",
          "2003-09-12T00:00:00",
          "2003-09-13T00:00:00",
          "2003-09-14T00:00:00",
          "2003-09-15T00:00:00",
          "2003-09-16T00:00:00",
          "2003-09-17T00:00:00",
          "2003-09-18T00:00:00",
          "2003-09-19T00:00:00",
          "2003-09-20T00:00:00",
          "2003-09-21T00:00:00",
          "2003-09-22T00:00:00",
          "2003-09-23T00:00:00",
          "2003-09-24T00:00:00",
          "2003-09-25T00:00:00",
          "2003-09-26T00:00:00",
          "2003-09-27T00:00:00",
          "2003-09-28T00:00:00",
          "2003-09-29T00:00:00",
          "2003-09-30T00:00:00",
          "2003-10-01T00:00:00",
          "2003-10-02T00:00:00",
          "2003-10-03T00:00:00",
          "2003-10-04T00:00:00",
          "2003-10-05T00:00:00",
          "2003-10-06T00:00:00",
          "2003-10-07T00:00:00",
          "2003-10-08T00:00:00",
          "2003-10-09T00:00:00",
          "2003-10-10T00:00:00",
          "2003-10-11T00:00:00",
          "2003-10-12T00:00:00",
          "2003-10-13T00:00:00",
          "2003-10-14T00:00:00",
          "2003-10-15T00:00:00",
          "2003-10-16T00:00:00",
          "2003-10-17T00:00:00",
          "2003-10-18T00:00:00",
          "2003-10-19T00:00:00",
          "2003-10-20T00:00:00",
          "2003-10-21T00:00:00",
          "2003-10-22T00:00:00",
          "2003-10-23T00:00:00",
          "2003-10-24T00:00:00",
          "2003-10-25T00:00:00",
          "2003-10-26T00:00:00",
          "2003-10-27T00:00:00",
          "2003-10-28T00:00:00",
          "2003-10-29T00:00:00",
          "2003-10-30T00:00:00",
          "2003-10-31T00:00:00",
          "2003-11-01T00:00:00",
          "2003-11-02T00:00:00",
          "2003-11-03T00:00:00",
          "2003-11-04T00:00:00",
          "2003-11-05T00:00:00",
          "2003-11-06T00:00:00",
          "2003-11-07T00:00:00",
          "2003-11-08T00:00:00",
          "2003-11-09T00:00:00",
          "2003-11-10T00:00:00",
          "2003-11-11T00:00:00",
          "2003-11-12T00:00:00",
          "2003-11-13T00:00:00",
          "2003-11-14T00:00:00",
          "2003-11-15T00:00:00",
          "2003-11-16T00:00:00",
          "2003-11-17T00:00:00",
          "2003-11-18T00:00:00",
          "2003-11-19T00:00:00",
          "2003-11-20T00:00:00",
          "2003-11-21T00:00:00",
          "2003-11-22T00:00:00",
          "2003-11-23T00:00:00",
          "2003-11-24T00:00:00",
          "2003-11-25T00:00:00",
          "2003-11-26T00:00:00",
          "2003-11-27T00:00:00",
          "2003-11-28T00:00:00",
          "2003-11-29T00:00:00",
          "2003-11-30T00:00:00",
          "2003-12-01T00:00:00",
          "2003-12-02T00:00:00",
          "2003-12-03T00:00:00",
          "2003-12-04T00:00:00",
          "2003-12-05T00:00:00",
          "2003-12-06T00:00:00",
          "2003-12-07T00:00:00",
          "2003-12-08T00:00:00",
          "2003-12-09T00:00:00",
          "2003-12-10T00:00:00",
          "2003-12-11T00:00:00",
          "2003-12-12T00:00:00",
          "2003-12-13T00:00:00",
          "2003-12-14T00:00:00",
          "2003-12-15T00:00:00",
          "2003-12-16T00:00:00",
          "2003-12-17T00:00:00",
          "2003-12-18T00:00:00",
          "2003-12-19T00:00:00",
          "2003-12-20T00:00:00",
          "2003-12-21T00:00:00",
          "2003-12-22T00:00:00",
          "2003-12-23T00:00:00",
          "2003-12-24T00:00:00",
          "2003-12-25T00:00:00",
          "2003-12-26T00:00:00",
          "2003-12-27T00:00:00",
          "2003-12-28T00:00:00",
          "2003-12-29T00:00:00",
          "2003-12-30T00:00:00",
          "2003-12-31T00:00:00",
          "2004-01-01T00:00:00",
          "2004-01-02T00:00:00",
          "2004-01-03T00:00:00",
          "2004-01-04T00:00:00",
          "2004-01-05T00:00:00",
          "2004-01-06T00:00:00",
          "2004-01-07T00:00:00",
          "2004-01-08T00:00:00",
          "2004-01-09T00:00:00",
          "2004-01-10T00:00:00",
          "2004-01-11T00:00:00",
          "2004-01-12T00:00:00",
          "2004-01-13T00:00:00",
          "2004-01-14T00:00:00",
          "2004-01-15T00:00:00",
          "2004-01-16T00:00:00",
          "2004-01-17T00:00:00",
          "2004-01-18T00:00:00",
          "2004-01-19T00:00:00",
          "2004-01-20T00:00:00",
          "2004-01-21T00:00:00",
          "2004-01-22T00:00:00",
          "2004-01-23T00:00:00",
          "2004-01-24T00:00:00",
          "2004-01-25T00:00:00",
          "2004-01-26T00:00:00",
          "2004-01-27T00:00:00",
          "2004-01-28T00:00:00",
          "2004-01-29T00:00:00",
          "2004-01-30T00:00:00",
          "2004-01-31T00:00:00",
          "2004-02-01T00:00:00",
          "2004-02-02T00:00:00",
          "2004-02-03T00:00:00",
          "2004-02-04T00:00:00",
          "2004-02-05T00:00:00",
          "2004-02-06T00:00:00",
          "2004-02-07T00:00:00",
          "2004-02-08T00:00:00",
          "2004-02-09T00:00:00",
          "2004-02-10T00:00:00",
          "2004-02-11T00:00:00",
          "2004-02-12T00:00:00",
          "2004-02-13T00:00:00",
          "2004-02-14T00:00:00",
          "2004-02-15T00:00:00",
          "2004-02-16T00:00:00",
          "2004-02-17T00:00:00",
          "2004-02-18T00:00:00",
          "2004-02-19T00:00:00",
          "2004-02-20T00:00:00",
          "2004-02-21T00:00:00",
          "2004-02-22T00:00:00",
          "2004-02-23T00:00:00",
          "2004-02-24T00:00:00",
          "2004-02-25T00:00:00",
          "2004-02-26T00:00:00",
          "2004-02-27T00:00:00",
          "2004-02-28T00:00:00",
          "2004-02-29T00:00:00",
          "2004-03-01T00:00:00",
          "2004-03-02T00:00:00",
          "2004-03-03T00:00:00",
          "2004-03-04T00:00:00",
          "2004-03-05T00:00:00",
          "2004-03-06T00:00:00",
          "2004-03-07T00:00:00",
          "2004-03-08T00:00:00",
          "2004-03-09T00:00:00",
          "2004-03-10T00:00:00",
          "2004-03-11T00:00:00",
          "2004-03-12T00:00:00",
          "2004-03-13T00:00:00",
          "2004-03-14T00:00:00",
          "2004-03-15T00:00:00",
          "2004-03-16T00:00:00",
          "2004-03-17T00:00:00",
          "2004-03-18T00:00:00",
          "2004-03-19T00:00:00",
          "2004-03-20T00:00:00",
          "2004-03-21T00:00:00",
          "2004-03-22T00:00:00",
          "2004-03-23T00:00:00",
          "2004-03-24T00:00:00",
          "2004-03-25T00:00:00",
          "2004-03-26T00:00:00",
          "2004-03-27T00:00:00",
          "2004-03-28T00:00:00",
          "2004-03-29T00:00:00",
          "2004-03-30T00:00:00",
          "2004-03-31T00:00:00",
          "2004-04-01T00:00:00",
          "2004-04-02T00:00:00",
          "2004-04-03T00:00:00",
          "2004-04-04T00:00:00",
          "2004-04-05T00:00:00",
          "2004-04-06T00:00:00",
          "2004-04-07T00:00:00",
          "2004-04-08T00:00:00",
          "2004-04-09T00:00:00",
          "2004-04-10T00:00:00",
          "2004-04-11T00:00:00",
          "2004-04-12T00:00:00",
          "2004-04-13T00:00:00",
          "2004-04-14T00:00:00",
          "2004-04-15T00:00:00",
          "2004-04-16T00:00:00",
          "2004-04-17T00:00:00",
          "2004-04-18T00:00:00",
          "2004-04-19T00:00:00",
          "2004-04-20T00:00:00",
          "2004-04-21T00:00:00",
          "2004-04-22T00:00:00",
          "2004-04-23T00:00:00",
          "2004-04-24T00:00:00",
          "2004-04-25T00:00:00",
          "2004-04-26T00:00:00",
          "2004-04-27T00:00:00",
          "2004-04-28T00:00:00",
          "2004-04-29T00:00:00",
          "2004-04-30T00:00:00",
          "2004-05-01T00:00:00",
          "2004-05-02T00:00:00",
          "2004-05-03T00:00:00",
          "2004-05-04T00:00:00",
          "2004-05-05T00:00:00",
          "2004-05-06T00:00:00",
          "2004-05-07T00:00:00",
          "2004-05-08T00:00:00",
          "2004-05-09T00:00:00",
          "2004-05-10T00:00:00",
          "2004-05-11T00:00:00",
          "2004-05-12T00:00:00",
          "2004-05-13T00:00:00",
          "2004-05-14T00:00:00",
          "2004-05-15T00:00:00",
          "2004-05-16T00:00:00",
          "2004-05-17T00:00:00",
          "2004-05-18T00:00:00",
          "2004-05-19T00:00:00",
          "2004-05-20T00:00:00",
          "2004-05-21T00:00:00",
          "2004-05-22T00:00:00",
          "2004-05-23T00:00:00",
          "2004-05-24T00:00:00",
          "2004-05-25T00:00:00",
          "2004-05-26T00:00:00",
          "2004-05-27T00:00:00",
          "2004-05-28T00:00:00",
          "2004-05-29T00:00:00",
          "2004-05-30T00:00:00",
          "2004-05-31T00:00:00",
          "2004-06-01T00:00:00",
          "2004-06-02T00:00:00",
          "2004-06-03T00:00:00",
          "2004-06-04T00:00:00",
          "2004-06-05T00:00:00",
          "2004-06-06T00:00:00",
          "2004-06-07T00:00:00",
          "2004-06-08T00:00:00",
          "2004-06-09T00:00:00",
          "2004-06-10T00:00:00",
          "2004-06-11T00:00:00",
          "2004-06-12T00:00:00",
          "2004-06-13T00:00:00",
          "2004-06-14T00:00:00",
          "2004-06-15T00:00:00",
          "2004-06-16T00:00:00",
          "2004-06-17T00:00:00",
          "2004-06-18T00:00:00",
          "2004-06-19T00:00:00",
          "2004-06-20T00:00:00",
          "2004-06-21T00:00:00",
          "2004-06-22T00:00:00",
          "2004-06-23T00:00:00",
          "2004-06-24T00:00:00",
          "2004-06-25T00:00:00",
          "2004-06-26T00:00:00",
          "2004-06-27T00:00:00",
          "2004-06-28T00:00:00",
          "2004-06-29T00:00:00",
          "2004-06-30T00:00:00",
          "2004-07-01T00:00:00",
          "2004-07-02T00:00:00",
          "2004-07-03T00:00:00",
          "2004-07-04T00:00:00",
          "2004-07-05T00:00:00",
          "2004-07-06T00:00:00",
          "2004-07-07T00:00:00",
          "2004-07-08T00:00:00",
          "2004-07-09T00:00:00",
          "2004-07-10T00:00:00",
          "2004-07-11T00:00:00",
          "2004-07-12T00:00:00",
          "2004-07-13T00:00:00",
          "2004-07-14T00:00:00",
          "2004-07-15T00:00:00",
          "2004-07-16T00:00:00",
          "2004-07-17T00:00:00",
          "2004-07-18T00:00:00",
          "2004-07-19T00:00:00",
          "2004-07-20T00:00:00",
          "2004-07-21T00:00:00",
          "2004-07-22T00:00:00",
          "2004-07-23T00:00:00",
          "2004-07-24T00:00:00",
          "2004-07-25T00:00:00",
          "2004-07-26T00:00:00",
          "2004-07-27T00:00:00",
          "2004-07-28T00:00:00",
          "2004-07-29T00:00:00",
          "2004-07-30T00:00:00",
          "2004-07-31T00:00:00",
          "2004-08-01T00:00:00",
          "2004-08-02T00:00:00",
          "2004-08-03T00:00:00",
          "2004-08-04T00:00:00",
          "2004-08-05T00:00:00",
          "2004-08-06T00:00:00",
          "2004-08-07T00:00:00",
          "2004-08-08T00:00:00",
          "2004-08-09T00:00:00",
          "2004-08-10T00:00:00",
          "2004-08-11T00:00:00",
          "2004-08-12T00:00:00",
          "2004-08-13T00:00:00",
          "2004-08-14T00:00:00",
          "2004-08-15T00:00:00",
          "2004-08-16T00:00:00",
          "2004-08-17T00:00:00",
          "2004-08-18T00:00:00",
          "2004-08-19T00:00:00",
          "2004-08-20T00:00:00",
          "2004-08-21T00:00:00",
          "2004-08-22T00:00:00",
          "2004-08-23T00:00:00",
          "2004-08-24T00:00:00",
          "2004-08-25T00:00:00",
          "2004-08-26T00:00:00",
          "2004-08-27T00:00:00",
          "2004-08-28T00:00:00",
          "2004-08-29T00:00:00",
          "2004-08-30T00:00:00",
          "2004-08-31T00:00:00",
          "2004-09-01T00:00:00",
          "2004-09-02T00:00:00",
          "2004-09-03T00:00:00",
          "2004-09-04T00:00:00",
          "2004-09-05T00:00:00",
          "2004-09-06T00:00:00",
          "2004-09-07T00:00:00",
          "2004-09-08T00:00:00",
          "2004-09-09T00:00:00",
          "2004-09-10T00:00:00",
          "2004-09-11T00:00:00",
          "2004-09-12T00:00:00",
          "2004-09-13T00:00:00",
          "2004-09-14T00:00:00",
          "2004-09-15T00:00:00",
          "2004-09-16T00:00:00",
          "2004-09-17T00:00:00",
          "2004-09-18T00:00:00",
          "2004-09-19T00:00:00",
          "2004-09-20T00:00:00",
          "2004-09-21T00:00:00",
          "2004-09-22T00:00:00",
          "2004-09-23T00:00:00",
          "2004-09-24T00:00:00",
          "2004-09-25T00:00:00",
          "2004-09-26T00:00:00",
          "2004-09-27T00:00:00",
          "2004-09-28T00:00:00",
          "2004-09-29T00:00:00",
          "2004-09-30T00:00:00",
          "2004-10-01T00:00:00",
          "2004-10-02T00:00:00",
          "2004-10-03T00:00:00",
          "2004-10-04T00:00:00",
          "2004-10-05T00:00:00",
          "2004-10-06T00:00:00",
          "2004-10-07T00:00:00",
          "2004-10-08T00:00:00",
          "2004-10-09T00:00:00",
          "2004-10-10T00:00:00",
          "2004-10-11T00:00:00",
          "2004-10-12T00:00:00",
          "2004-10-13T00:00:00",
          "2004-10-14T00:00:00",
          "2004-10-15T00:00:00",
          "2004-10-16T00:00:00",
          "2004-10-17T00:00:00",
          "2004-10-18T00:00:00",
          "2004-10-19T00:00:00",
          "2004-10-20T00:00:00",
          "2004-10-21T00:00:00",
          "2004-10-22T00:00:00",
          "2004-10-23T00:00:00",
          "2004-10-24T00:00:00",
          "2004-10-25T00:00:00",
          "2004-10-26T00:00:00",
          "2004-10-27T00:00:00",
          "2004-10-28T00:00:00",
          "2004-10-29T00:00:00",
          "2004-10-30T00:00:00",
          "2004-10-31T00:00:00",
          "2004-11-01T00:00:00",
          "2004-11-02T00:00:00",
          "2004-11-03T00:00:00",
          "2004-11-04T00:00:00",
          "2004-11-05T00:00:00",
          "2004-11-06T00:00:00",
          "2004-11-07T00:00:00",
          "2004-11-08T00:00:00",
          "2004-11-09T00:00:00",
          "2004-11-10T00:00:00",
          "2004-11-11T00:00:00",
          "2004-11-12T00:00:00",
          "2004-11-13T00:00:00",
          "2004-11-14T00:00:00",
          "2004-11-15T00:00:00",
          "2004-11-16T00:00:00",
          "2004-11-17T00:00:00",
          "2004-11-18T00:00:00",
          "2004-11-19T00:00:00",
          "2004-11-20T00:00:00",
          "2004-11-21T00:00:00",
          "2004-11-22T00:00:00",
          "2004-11-23T00:00:00",
          "2004-11-24T00:00:00",
          "2004-11-25T00:00:00",
          "2004-11-26T00:00:00",
          "2004-11-27T00:00:00",
          "2004-11-28T00:00:00",
          "2004-11-29T00:00:00",
          "2004-11-30T00:00:00",
          "2004-12-01T00:00:00",
          "2004-12-02T00:00:00",
          "2004-12-03T00:00:00",
          "2004-12-04T00:00:00",
          "2004-12-05T00:00:00",
          "2004-12-06T00:00:00",
          "2004-12-07T00:00:00",
          "2004-12-08T00:00:00",
          "2004-12-09T00:00:00",
          "2004-12-10T00:00:00",
          "2004-12-11T00:00:00",
          "2004-12-12T00:00:00",
          "2004-12-13T00:00:00",
          "2004-12-14T00:00:00",
          "2004-12-15T00:00:00",
          "2004-12-16T00:00:00",
          "2004-12-17T00:00:00",
          "2004-12-18T00:00:00",
          "2004-12-19T00:00:00",
          "2004-12-20T00:00:00",
          "2004-12-21T00:00:00",
          "2004-12-22T00:00:00",
          "2004-12-23T00:00:00",
          "2004-12-24T00:00:00",
          "2004-12-25T00:00:00",
          "2004-12-26T00:00:00",
          "2004-12-27T00:00:00",
          "2004-12-28T00:00:00",
          "2004-12-29T00:00:00",
          "2004-12-30T00:00:00",
          "2004-12-31T00:00:00",
          "2005-01-01T00:00:00",
          "2005-01-02T00:00:00",
          "2005-01-03T00:00:00",
          "2005-01-04T00:00:00",
          "2005-01-05T00:00:00",
          "2005-01-06T00:00:00",
          "2005-01-07T00:00:00",
          "2005-01-08T00:00:00",
          "2005-01-09T00:00:00",
          "2005-01-10T00:00:00",
          "2005-01-11T00:00:00",
          "2005-01-12T00:00:00",
          "2005-01-13T00:00:00",
          "2005-01-19T00:00:00",
          "2005-01-20T00:00:00",
          "2005-01-21T00:00:00",
          "2005-01-22T00:00:00",
          "2005-01-23T00:00:00",
          "2005-01-24T00:00:00",
          "2005-01-25T00:00:00",
          "2005-01-26T00:00:00",
          "2005-01-27T00:00:00",
          "2005-01-28T00:00:00",
          "2005-01-29T00:00:00",
          "2005-01-30T00:00:00",
          "2005-01-31T00:00:00",
          "2005-02-01T00:00:00",
          "2005-02-02T00:00:00",
          "2005-02-03T00:00:00",
          "2005-02-04T00:00:00",
          "2005-02-05T00:00:00",
          "2005-02-06T00:00:00",
          "2005-02-07T00:00:00",
          "2005-02-08T00:00:00",
          "2005-02-09T00:00:00",
          "2005-02-10T00:00:00",
          "2005-02-11T00:00:00",
          "2005-02-12T00:00:00",
          "2005-02-13T00:00:00",
          "2005-02-14T00:00:00",
          "2005-02-15T00:00:00",
          "2005-02-16T00:00:00",
          "2005-02-17T00:00:00",
          "2005-02-18T00:00:00",
          "2005-02-19T00:00:00",
          "2005-02-20T00:00:00",
          "2005-02-21T00:00:00",
          "2005-02-22T00:00:00",
          "2005-02-23T00:00:00",
          "2005-02-24T00:00:00",
          "2005-02-25T00:00:00",
          "2005-02-26T00:00:00",
          "2005-02-27T00:00:00",
          "2005-02-28T00:00:00",
          "2005-03-01T00:00:00",
          "2005-03-02T00:00:00",
          "2005-03-03T00:00:00",
          "2005-03-04T00:00:00",
          "2005-03-05T00:00:00",
          "2005-03-06T00:00:00",
          "2005-03-07T00:00:00",
          "2005-03-08T00:00:00",
          "2005-03-09T00:00:00",
          "2005-03-10T00:00:00",
          "2005-03-11T00:00:00",
          "2005-03-12T00:00:00",
          "2005-03-13T00:00:00",
          "2005-03-14T00:00:00",
          "2005-03-15T00:00:00",
          "2005-03-16T00:00:00",
          "2005-03-17T00:00:00",
          "2005-03-18T00:00:00",
          "2005-03-19T00:00:00",
          "2005-03-20T00:00:00",
          "2005-03-21T00:00:00",
          "2005-03-22T00:00:00",
          "2005-03-23T00:00:00",
          "2005-03-24T00:00:00",
          "2005-03-25T00:00:00",
          "2005-03-26T00:00:00",
          "2005-03-27T00:00:00",
          "2005-03-28T00:00:00",
          "2005-03-29T00:00:00",
          "2005-03-31T00:00:00",
          "2005-04-01T00:00:00",
          "2005-04-02T00:00:00",
          "2005-04-03T00:00:00",
          "2005-04-04T00:00:00",
          "2005-04-05T00:00:00",
          "2005-04-06T00:00:00",
          "2005-04-07T00:00:00",
          "2005-04-08T00:00:00",
          "2005-04-09T00:00:00",
          "2005-04-10T00:00:00",
          "2005-04-11T00:00:00",
          "2005-04-12T00:00:00",
          "2005-04-13T00:00:00",
          "2005-04-14T00:00:00",
          "2005-04-15T00:00:00",
          "2005-04-16T00:00:00",
          "2005-04-17T00:00:00",
          "2005-04-18T00:00:00",
          "2005-04-19T00:00:00",
          "2005-04-20T00:00:00",
          "2005-04-21T00:00:00",
          "2005-04-22T00:00:00",
          "2005-04-23T00:00:00",
          "2005-04-24T00:00:00",
          "2005-04-25T00:00:00",
          "2005-04-26T00:00:00",
          "2005-04-27T00:00:00",
          "2005-04-28T00:00:00",
          "2005-04-29T00:00:00",
          "2005-04-30T00:00:00",
          "2005-05-01T00:00:00",
          "2005-05-02T00:00:00",
          "2005-05-03T00:00:00",
          "2005-05-04T00:00:00",
          "2005-05-05T00:00:00",
          "2005-05-06T00:00:00",
          "2005-05-07T00:00:00",
          "2005-05-08T00:00:00",
          "2005-05-09T00:00:00",
          "2005-05-10T00:00:00",
          "2005-05-11T00:00:00",
          "2005-05-12T00:00:00",
          "2005-05-13T00:00:00",
          "2005-05-14T00:00:00",
          "2005-05-15T00:00:00",
          "2005-05-16T00:00:00",
          "2005-05-17T00:00:00",
          "2005-05-18T00:00:00",
          "2005-05-19T00:00:00",
          "2005-05-20T00:00:00",
          "2005-05-21T00:00:00",
          "2005-05-22T00:00:00",
          "2005-05-23T00:00:00",
          "2005-05-24T00:00:00",
          "2005-05-25T00:00:00",
          "2005-05-26T00:00:00",
          "2005-05-27T00:00:00",
          "2005-05-28T00:00:00",
          "2005-05-29T00:00:00",
          "2005-05-30T00:00:00",
          "2005-05-31T00:00:00",
          "2005-06-01T00:00:00",
          "2005-06-02T00:00:00",
          "2005-06-03T00:00:00",
          "2005-06-04T00:00:00",
          "2005-06-05T00:00:00",
          "2005-06-06T00:00:00",
          "2005-06-07T00:00:00",
          "2005-06-08T00:00:00",
          "2005-06-09T00:00:00",
          "2005-06-10T00:00:00",
          "2005-06-11T00:00:00",
          "2005-06-12T00:00:00",
          "2005-06-13T00:00:00",
          "2005-06-14T00:00:00",
          "2005-06-15T00:00:00",
          "2005-06-16T00:00:00",
          "2005-06-17T00:00:00",
          "2005-06-18T00:00:00",
          "2005-06-19T00:00:00",
          "2005-06-20T00:00:00",
          "2005-06-21T00:00:00",
          "2005-06-22T00:00:00",
          "2005-06-23T00:00:00",
          "2005-06-24T00:00:00",
          "2005-06-25T00:00:00",
          "2005-06-26T00:00:00",
          "2005-06-27T00:00:00",
          "2005-06-28T00:00:00",
          "2005-06-29T00:00:00",
          "2005-06-30T00:00:00",
          "2005-07-01T00:00:00",
          "2005-07-02T00:00:00",
          "2005-07-03T00:00:00",
          "2005-07-04T00:00:00",
          "2005-07-05T00:00:00",
          "2005-07-06T00:00:00",
          "2005-07-07T00:00:00",
          "2005-07-08T00:00:00",
          "2005-07-09T00:00:00",
          "2005-07-10T00:00:00",
          "2005-07-11T00:00:00",
          "2005-07-12T00:00:00",
          "2005-07-13T00:00:00",
          "2005-07-14T00:00:00",
          "2005-07-15T00:00:00",
          "2005-07-16T00:00:00",
          "2005-07-17T00:00:00",
          "2005-07-18T00:00:00",
          "2005-07-19T00:00:00",
          "2005-07-20T00:00:00",
          "2005-07-21T00:00:00",
          "2005-07-22T00:00:00",
          "2005-07-23T00:00:00",
          "2005-07-24T00:00:00",
          "2005-07-25T00:00:00",
          "2005-07-26T00:00:00",
          "2005-07-27T00:00:00",
          "2005-07-28T00:00:00",
          "2005-07-29T00:00:00",
          "2005-07-30T00:00:00",
          "2005-07-31T00:00:00",
          "2005-08-01T00:00:00",
          "2005-08-02T00:00:00",
          "2005-08-03T00:00:00",
          "2005-08-04T00:00:00",
          "2005-08-05T00:00:00",
          "2005-08-06T00:00:00",
          "2005-08-07T00:00:00",
          "2005-08-08T00:00:00",
          "2005-08-09T00:00:00",
          "2005-08-10T00:00:00",
          "2005-08-11T00:00:00",
          "2005-08-12T00:00:00",
          "2005-08-13T00:00:00",
          "2005-08-14T00:00:00",
          "2005-08-15T00:00:00",
          "2005-08-16T00:00:00",
          "2005-08-17T00:00:00",
          "2005-08-18T00:00:00",
          "2005-08-19T00:00:00",
          "2005-08-20T00:00:00",
          "2005-08-21T00:00:00",
          "2005-08-22T00:00:00",
          "2005-08-23T00:00:00",
          "2005-08-24T00:00:00",
          "2005-08-25T00:00:00",
          "2005-08-26T00:00:00",
          "2005-08-27T00:00:00",
          "2005-08-28T00:00:00",
          "2005-08-29T00:00:00",
          "2005-08-30T00:00:00",
          "2005-08-31T00:00:00",
          "2005-09-01T00:00:00",
          "2005-09-02T00:00:00",
          "2005-09-03T00:00:00",
          "2005-09-04T00:00:00",
          "2005-09-05T00:00:00",
          "2005-09-06T00:00:00",
          "2005-09-07T00:00:00",
          "2005-09-08T00:00:00",
          "2005-09-09T00:00:00",
          "2005-09-10T00:00:00",
          "2005-09-11T00:00:00",
          "2005-09-12T00:00:00",
          "2005-09-13T00:00:00",
          "2005-09-14T00:00:00",
          "2005-09-15T00:00:00",
          "2005-09-16T00:00:00",
          "2005-09-17T00:00:00",
          "2005-09-18T00:00:00",
          "2005-09-19T00:00:00",
          "2005-09-20T00:00:00",
          "2005-09-21T00:00:00",
          "2005-09-22T00:00:00",
          "2005-09-23T00:00:00",
          "2005-09-24T00:00:00",
          "2005-09-25T00:00:00",
          "2005-09-26T00:00:00",
          "2005-09-27T00:00:00",
          "2005-09-28T00:00:00",
          "2005-09-29T00:00:00",
          "2005-09-30T00:00:00",
          "2005-10-01T00:00:00",
          "2005-10-02T00:00:00",
          "2005-10-03T00:00:00",
          "2005-10-04T00:00:00",
          "2005-10-05T00:00:00",
          "2005-10-06T00:00:00",
          "2005-10-07T00:00:00",
          "2005-10-08T00:00:00",
          "2005-10-09T00:00:00",
          "2005-10-10T00:00:00",
          "2005-10-11T00:00:00",
          "2005-10-12T00:00:00",
          "2005-10-13T00:00:00",
          "2005-10-14T00:00:00",
          "2005-10-15T00:00:00",
          "2005-10-16T00:00:00",
          "2005-10-17T00:00:00",
          "2005-10-18T00:00:00",
          "2005-10-19T00:00:00",
          "2005-10-20T00:00:00",
          "2005-10-21T00:00:00",
          "2005-10-22T00:00:00",
          "2005-10-23T00:00:00",
          "2005-10-24T00:00:00",
          "2005-10-25T00:00:00",
          "2005-10-26T00:00:00",
          "2005-10-27T00:00:00",
          "2005-10-28T00:00:00",
          "2005-10-29T00:00:00",
          "2005-10-30T00:00:00",
          "2005-10-31T00:00:00",
          "2005-11-01T00:00:00",
          "2005-11-02T00:00:00",
          "2005-11-03T00:00:00",
          "2005-11-04T00:00:00",
          "2005-11-05T00:00:00",
          "2005-11-06T00:00:00",
          "2005-11-07T00:00:00",
          "2005-11-08T00:00:00",
          "2005-11-09T00:00:00",
          "2005-11-10T00:00:00",
          "2005-11-11T00:00:00",
          "2005-11-12T00:00:00",
          "2005-11-13T00:00:00",
          "2005-11-14T00:00:00",
          "2005-11-15T00:00:00",
          "2005-11-16T00:00:00",
          "2005-11-17T00:00:00",
          "2005-11-18T00:00:00",
          "2005-11-19T00:00:00",
          "2005-11-20T00:00:00",
          "2005-11-21T00:00:00",
          "2005-11-22T00:00:00",
          "2005-11-23T00:00:00",
          "2005-11-24T00:00:00",
          "2005-11-25T00:00:00",
          "2005-11-26T00:00:00",
          "2005-11-27T00:00:00",
          "2005-11-28T00:00:00",
          "2005-11-29T00:00:00",
          "2005-11-30T00:00:00",
          "2005-12-01T00:00:00",
          "2005-12-02T00:00:00",
          "2005-12-03T00:00:00",
          "2005-12-04T00:00:00",
          "2005-12-05T00:00:00",
          "2005-12-06T00:00:00",
          "2005-12-07T00:00:00",
          "2005-12-08T00:00:00",
          "2005-12-09T00:00:00",
          "2005-12-10T00:00:00",
          "2005-12-11T00:00:00",
          "2005-12-12T00:00:00",
          "2005-12-13T00:00:00",
          "2005-12-14T00:00:00",
          "2005-12-15T00:00:00",
          "2005-12-16T00:00:00",
          "2005-12-17T00:00:00",
          "2005-12-18T00:00:00",
          "2005-12-19T00:00:00",
          "2005-12-20T00:00:00",
          "2005-12-21T00:00:00",
          "2005-12-22T00:00:00",
          "2005-12-23T00:00:00",
          "2005-12-24T00:00:00",
          "2005-12-25T00:00:00",
          "2005-12-26T00:00:00",
          "2005-12-27T00:00:00",
          "2005-12-28T00:00:00",
          "2005-12-29T00:00:00",
          "2005-12-30T00:00:00",
          "2005-12-31T00:00:00"
         ],
         "y": [
          [
           112
          ],
          [
           48
          ],
          [
           116
          ],
          [
           320
          ],
          [
           84
          ],
          [
           112
          ],
          [
           104
          ],
          [
           60
          ],
          [
           20
          ],
          [
           284
          ],
          [
           484
          ],
          [
           184
          ],
          [
           24
          ],
          [
           508
          ],
          [
           116
          ],
          [
           764
          ],
          [
           88
          ],
          [
           80
          ],
          [
           328
          ],
          [
           148
          ],
          [
           188
          ],
          [
           2815
          ],
          [
           1724
          ],
          [
           5860
          ],
          [
           20844
          ],
          [
           15255
          ],
          [
           17163
          ],
          [
           15859
          ],
          [
           14060
          ],
          [
           10708
          ],
          [
           19032
          ],
          [
           16204
          ],
          [
           20002
          ],
          [
           14168
          ],
          [
           16380
          ],
          [
           15660
          ],
          [
           16300
          ],
          [
           14080
          ],
          [
           14256
          ],
          [
           10844
          ],
          [
           3776
          ],
          [
           10896
          ],
          [
           10640
          ],
          [
           12688
          ],
          [
           10490
          ],
          [
           10543
          ],
          [
           9399
          ],
          [
           13056
          ],
          [
           8988
          ],
          [
           4492
          ],
          [
           23493
          ],
          [
           12271
          ],
          [
           32946
          ],
          [
           17992
          ],
          [
           12911
          ],
          [
           12303
          ],
          [
           11532
          ],
          [
           12079
          ],
          [
           12635
          ],
          [
           9903
          ],
          [
           8628
          ],
          [
           12060
          ],
          [
           10775
          ],
          [
           14066
          ],
          [
           11868
          ],
          [
           14164
          ],
          [
           17768
          ],
          [
           12579
          ],
          [
           8026
          ],
          [
           13111
          ],
          [
           10155
          ],
          [
           11788
          ],
          [
           8975
          ],
          [
           10628
          ],
          [
           11772
          ],
          [
           11708
          ],
          [
           19560
          ],
          [
           12760
          ],
          [
           10794
          ],
          [
           39190
          ],
          [
           14490
          ],
          [
           8076
          ],
          [
           9860
          ],
          [
           12792
          ],
          [
           10803
          ],
          [
           13159
          ],
          [
           14868
          ],
          [
           8383
          ],
          [
           8980
          ],
          [
           15552
          ],
          [
           9676
          ],
          [
           12139
          ],
          [
           13408
          ],
          [
           14207
          ],
          [
           11628
          ],
          [
           8627
          ],
          [
           14236
          ],
          [
           8148
          ],
          [
           11843
          ],
          [
           16715
          ],
          [
           8088
          ],
          [
           11383
          ],
          [
           9091
          ],
          [
           6700
          ],
          [
           7245
          ],
          [
           6136
          ],
          [
           11156
          ],
          [
           10708
          ],
          [
           13207
          ],
          [
           10276
          ],
          [
           8712
          ],
          [
           9244
          ],
          [
           8240
          ],
          [
           12176
          ],
          [
           12619
          ],
          [
           7672
          ],
          [
           7924
          ],
          [
           9820
          ],
          [
           5036
          ],
          [
           8696
          ],
          [
           9730
          ],
          [
           9859
          ],
          [
           7752
          ],
          [
           5688
          ],
          [
           9768
          ],
          [
           8883
          ],
          [
           9095
          ],
          [
           11260
          ],
          [
           10028
          ],
          [
           9300
          ],
          [
           6544
          ],
          [
           8315
          ],
          [
           7312
          ],
          [
           10307
          ],
          [
           11028
          ],
          [
           14350
          ],
          [
           8703
          ],
          [
           7131
          ],
          [
           8758
          ],
          [
           8024
          ],
          [
           7296
          ],
          [
           9828
          ],
          [
           9099
          ],
          [
           9984
          ],
          [
           7296
          ],
          [
           7365
          ],
          [
           9460
          ],
          [
           7188
          ],
          [
           9284
          ],
          [
           8488
          ],
          [
           8571
          ],
          [
           7744
          ],
          [
           7380
          ],
          [
           7935
          ],
          [
           5208
          ],
          [
           5727
          ],
          [
           5784
          ],
          [
           5088
          ],
          [
           6228
          ],
          [
           9124
          ],
          [
           4720
          ],
          [
           9584
          ],
          [
           9864
          ],
          [
           9424
          ],
          [
           6484
          ],
          [
           7912
          ],
          [
           9423
          ],
          [
           3052
          ],
          [
           9596
          ],
          [
           7088
          ],
          [
           9716
          ],
          [
           7492
          ],
          [
           5868
          ],
          [
           5168
          ],
          [
           8052
          ],
          [
           10623
          ],
          [
           11012
          ],
          [
           4600
          ],
          [
           5908
          ],
          [
           5516
          ],
          [
           6447
          ],
          [
           5888
          ],
          [
           7755
          ],
          [
           8624
          ],
          [
           6603
          ],
          [
           8880
          ],
          [
           6784
          ],
          [
           3812
          ],
          [
           5972
          ],
          [
           7903
          ],
          [
           11472
          ],
          [
           8444
          ],
          [
           7264
          ],
          [
           8036
          ],
          [
           7544
          ],
          [
           6360
          ],
          [
           6736
          ],
          [
           7843
          ],
          [
           8160
          ],
          [
           6463
          ],
          [
           6072
          ],
          [
           8171
          ],
          [
           5644
          ],
          [
           11208
          ],
          [
           7195
          ],
          [
           11768
          ],
          [
           9792
          ],
          [
           6976
          ],
          [
           5236
          ],
          [
           6527
          ],
          [
           5792
          ],
          [
           12167
          ],
          [
           7044
          ],
          [
           13084
          ],
          [
           7504
          ],
          [
           7800
          ],
          [
           6476
          ],
          [
           9348
          ],
          [
           10295
          ],
          [
           8891
          ],
          [
           7412
          ],
          [
           6075
          ],
          [
           6044
          ],
          [
           5496
          ],
          [
           6400
          ],
          [
           9184
          ],
          [
           9412
          ],
          [
           5604
          ],
          [
           11941
          ],
          [
           10460
          ],
          [
           7388
          ],
          [
           5132
          ],
          [
           10128
          ],
          [
           11331
          ],
          [
           7487
          ],
          [
           6735
          ],
          [
           8032
          ],
          [
           8388
          ],
          [
           9468
          ],
          [
           9518
          ],
          [
           8323
          ],
          [
           6879
          ],
          [
           7804
          ],
          [
           8264
          ],
          [
           6507
          ],
          [
           14640
          ],
          [
           9380
          ],
          [
           10984
          ],
          [
           11266
          ],
          [
           6904
          ],
          [
           9536
          ],
          [
           8739
          ],
          [
           8752
          ],
          [
           9191
          ],
          [
           10740
          ],
          [
           5215
          ],
          [
           13036
          ],
          [
           11311
          ],
          [
           8689
          ],
          [
           9907
          ],
          [
           11046
          ],
          [
           9994
          ],
          [
           12136
          ],
          [
           8552
          ],
          [
           16200
          ],
          [
           10996
          ],
          [
           7374
          ],
          [
           12884
          ],
          [
           18635
          ],
          [
           16934
          ],
          [
           8768
          ],
          [
           17118
          ],
          [
           12915
          ],
          [
           11456
          ],
          [
           14378
          ],
          [
           16972
          ],
          [
           13764
          ],
          [
           12419
          ],
          [
           14971
          ],
          [
           13692
          ],
          [
           11307
          ],
          [
           8489
          ],
          [
           10764
          ],
          [
           10251
          ],
          [
           7799
          ],
          [
           13646
          ],
          [
           6432
          ],
          [
           9779
          ],
          [
           12860
          ],
          [
           12004
          ],
          [
           8642
          ],
          [
           9776
          ],
          [
           9675
          ],
          [
           8892
          ],
          [
           9519
          ],
          [
           11099
          ],
          [
           10844
          ],
          [
           8320
          ],
          [
           11267
          ],
          [
           5723
          ],
          [
           7543
          ],
          [
           7903
          ],
          [
           13080
          ],
          [
           10404
          ],
          [
           10564
          ],
          [
           7499
          ],
          [
           8087
          ],
          [
           9312
          ],
          [
           7111
          ],
          [
           10131
          ],
          [
           7994
          ],
          [
           7560
          ],
          [
           5899
          ],
          [
           3916
          ],
          [
           2932
          ],
          [
           7067
          ],
          [
           1228
          ],
          [
           5148
          ],
          [
           7771
          ],
          [
           7468
          ],
          [
           8851
          ],
          [
           9884
          ],
          [
           8576
          ],
          [
           6952
          ],
          [
           7903
          ],
          [
           9610
          ],
          [
           6252
          ],
          [
           7707
          ],
          [
           6932
          ],
          [
           14595
          ],
          [
           9020
          ],
          [
           8372
          ],
          [
           5703
          ],
          [
           9775
          ],
          [
           8380
          ],
          [
           6936
          ],
          [
           11580
          ],
          [
           9032
          ],
          [
           8716
          ],
          [
           9043
          ],
          [
           7295
          ],
          [
           7268
          ],
          [
           9623
          ],
          [
           7280
          ],
          [
           9947
          ],
          [
           9636
          ],
          [
           8756
          ],
          [
           12898
          ],
          [
           15598
          ],
          [
           12223
          ],
          [
           13275
          ],
          [
           16136
          ],
          [
           11576
          ],
          [
           14496
          ],
          [
           10644
          ],
          [
           9326
          ],
          [
           9380
          ],
          [
           13060
          ],
          [
           8587
          ],
          [
           9962
          ],
          [
           15970
          ],
          [
           10731
          ],
          [
           12215
          ],
          [
           16205
          ],
          [
           13992
          ],
          [
           15931
          ],
          [
           17840
          ],
          [
           12348
          ],
          [
           10356
          ],
          [
           10024
          ],
          [
           8743
          ],
          [
           12292
          ],
          [
           19222
          ],
          [
           19298
          ],
          [
           15820
          ],
          [
           7714
          ],
          [
           5164
          ],
          [
           8751
          ],
          [
           16424
          ],
          [
           23242
          ],
          [
           18660
          ],
          [
           20186
          ],
          [
           20358
          ],
          [
           17887
          ],
          [
           12202
          ],
          [
           25396
          ],
          [
           27790
          ],
          [
           25701
          ],
          [
           19714
          ],
          [
           21454
          ],
          [
           26448
          ],
          [
           21323
          ],
          [
           29224
          ],
          [
           22231
          ],
          [
           20043
          ],
          [
           18942
          ],
          [
           18778
          ],
          [
           17255
          ],
          [
           13543
          ],
          [
           21012
          ],
          [
           21947
          ],
          [
           18974
          ],
          [
           12371
          ],
          [
           15452
          ],
          [
           25033
          ],
          [
           12779
          ],
          [
           19947
          ],
          [
           25966
          ],
          [
           21257
          ],
          [
           21594
          ],
          [
           22201
          ],
          [
           26263
          ],
          [
           14071
          ],
          [
           29484
          ],
          [
           16672
          ],
          [
           27546
          ],
          [
           23310
          ],
          [
           20656
          ],
          [
           15116
          ],
          [
           21167
          ],
          [
           20287
          ],
          [
           21357
          ],
          [
           17100
          ],
          [
           18624
          ],
          [
           22126
          ],
          [
           17844
          ],
          [
           20816
          ],
          [
           24309
          ],
          [
           21326
          ],
          [
           17443
          ],
          [
           17392
          ],
          [
           21160
          ],
          [
           18964
          ],
          [
           27295
          ],
          [
           22128
          ],
          [
           20472
          ],
          [
           17665
          ],
          [
           17778
          ],
          [
           17243
          ],
          [
           16204
          ],
          [
           23435
          ],
          [
           23248
          ],
          [
           20515
          ],
          [
           23326
          ],
          [
           21208
          ],
          [
           17412
          ],
          [
           20771
          ],
          [
           23283
          ],
          [
           24240
          ],
          [
           13460
          ],
          [
           19967
          ],
          [
           16635
          ],
          [
           16067
          ],
          [
           9127
          ],
          [
           20462
          ],
          [
           24192
          ],
          [
           19418
          ],
          [
           15736
          ],
          [
           13908
          ],
          [
           19384
          ],
          [
           13462
          ],
          [
           17019
          ],
          [
           16396
          ],
          [
           10624
          ],
          [
           18042
          ],
          [
           14286
          ],
          [
           9472
          ],
          [
           9975
          ],
          [
           16087
          ],
          [
           14437
          ],
          [
           11600
          ],
          [
           14287
          ],
          [
           13472
          ],
          [
           16412
          ],
          [
           7355
          ],
          [
           15522
          ],
          [
           13208
          ],
          [
           14714
          ],
          [
           17450
          ],
          [
           17272
          ],
          [
           11863
          ],
          [
           4908
          ],
          [
           20482
          ],
          [
           22227
          ],
          [
           17451
          ],
          [
           15544
          ],
          [
           12471
          ],
          [
           15080
          ],
          [
           12420
          ],
          [
           16080
          ],
          [
           13060
          ],
          [
           13871
          ],
          [
           14051
          ],
          [
           14394
          ],
          [
           10595
          ],
          [
           10038
          ],
          [
           18740
          ],
          [
           15078
          ],
          [
           15392
          ],
          [
           16136
          ],
          [
           12515
          ],
          [
           9732
          ],
          [
           8200
          ],
          [
           15200
          ],
          [
           23746
          ],
          [
           18290
          ],
          [
           20340
          ],
          [
           19155
          ],
          [
           10988
          ],
          [
           12203
          ],
          [
           24644
          ],
          [
           17548
          ],
          [
           16190
          ],
          [
           14815
          ],
          [
           11076
          ],
          [
           9976
          ],
          [
           10032
          ],
          [
           14346
          ],
          [
           18627
          ],
          [
           16523
          ],
          [
           14120
          ],
          [
           12843
          ],
          [
           11622
          ],
          [
           6856
          ],
          [
           17928
          ],
          [
           16584
          ],
          [
           13815
          ],
          [
           16640
          ],
          [
           17899
          ],
          [
           16763
          ],
          [
           13654
          ],
          [
           15444
          ],
          [
           20927
          ],
          [
           17387
          ],
          [
           23456
          ],
          [
           21287
          ],
          [
           16164
          ],
          [
           13115
          ],
          [
           19182
          ],
          [
           22702
          ],
          [
           17336
          ],
          [
           18376
          ],
          [
           16464
          ],
          [
           13455
          ],
          [
           13688
          ],
          [
           21675
          ],
          [
           19768
          ],
          [
           19155
          ],
          [
           18768
          ],
          [
           20258
          ],
          [
           11531
          ],
          [
           16040
          ],
          [
           24818
          ],
          [
           21480
          ],
          [
           20848
          ],
          [
           26034
          ],
          [
           20019
          ],
          [
           17563
          ],
          [
           14920
          ],
          [
           24205
          ],
          [
           22839
          ],
          [
           23773
          ],
          [
           29170
          ],
          [
           18662
          ],
          [
           12135
          ],
          [
           20071
          ],
          [
           26007
          ],
          [
           18863
          ],
          [
           13044
          ],
          [
           21535
          ],
          [
           19123
          ],
          [
           11479
          ],
          [
           17413
          ],
          [
           25966
          ],
          [
           24539
          ],
          [
           19658
          ],
          [
           18970
          ],
          [
           19727
          ],
          [
           13920
          ],
          [
           14975
          ],
          [
           17690
          ],
          [
           15995
          ],
          [
           23601
          ],
          [
           35458
          ],
          [
           21101
          ],
          [
           17223
          ],
          [
           12364
          ],
          [
           20306
          ],
          [
           28182
          ],
          [
           18210
          ],
          [
           25067
          ],
          [
           20810
          ],
          [
           12430
          ],
          [
           13351
          ],
          [
           27967
          ],
          [
           20794
          ],
          [
           20730
          ],
          [
           21864
          ],
          [
           19048
          ],
          [
           12158
          ],
          [
           14167
          ],
          [
           22306
          ],
          [
           23275
          ],
          [
           15608
          ],
          [
           21879
          ],
          [
           17048
          ],
          [
           17075
          ],
          [
           16628
          ],
          [
           22552
          ],
          [
           22854
          ],
          [
           19939
          ],
          [
           20883
          ],
          [
           19767
          ],
          [
           13191
          ],
          [
           12413
          ],
          [
           22229
          ],
          [
           20108
          ],
          [
           19330
          ],
          [
           16936
          ],
          [
           18255
          ],
          [
           16149
          ],
          [
           16935
          ],
          [
           19751
          ],
          [
           17792
          ],
          [
           17252
          ],
          [
           24888
          ],
          [
           16396
          ],
          [
           12536
          ],
          [
           10243
          ],
          [
           12064
          ],
          [
           31206
          ],
          [
           18191
          ],
          [
           19520
          ],
          [
           21517
          ],
          [
           15300
          ],
          [
           12972
          ],
          [
           14708
          ],
          [
           13008
          ],
          [
           16048
          ],
          [
           8495
          ],
          [
           10003
          ],
          [
           8159
          ],
          [
           7284
          ],
          [
           22778
          ],
          [
           16619
          ],
          [
           19951
          ],
          [
           21011
          ],
          [
           16764
          ],
          [
           14972
          ],
          [
           12000
          ],
          [
           21094
          ],
          [
           22623
          ],
          [
           19339
          ],
          [
           21764
          ],
          [
           18835
          ],
          [
           17891
          ],
          [
           10284
          ],
          [
           23039
          ],
          [
           24612
          ],
          [
           25562
          ],
          [
           23467
          ],
          [
           19551
          ],
          [
           14180
          ],
          [
           12763
          ],
          [
           26414
          ],
          [
           19761
          ],
          [
           19476
          ],
          [
           20890
          ],
          [
           18844
          ],
          [
           9522
          ],
          [
           13194
          ],
          [
           31668
          ],
          [
           24174
          ],
          [
           28255
          ],
          [
           22120
          ],
          [
           21743
          ],
          [
           14007
          ],
          [
           14064
          ],
          [
           22691
          ],
          [
           26539
          ],
          [
           23873
          ],
          [
           26586
          ],
          [
           26421
          ],
          [
           16079
          ],
          [
           18054
          ],
          [
           29881
          ],
          [
           28220
          ],
          [
           24300
          ],
          [
           23887
          ],
          [
           23174
          ],
          [
           23722
          ],
          [
           17420
          ],
          [
           31007
          ],
          [
           29575
          ],
          [
           29642
          ],
          [
           26842
          ],
          [
           25023
          ],
          [
           23323
          ],
          [
           14251
          ],
          [
           16703
          ],
          [
           24666
          ],
          [
           30198
          ],
          [
           20928
          ],
          [
           19095
          ],
          [
           19154
          ],
          [
           16827
          ],
          [
           26019
          ],
          [
           24474
          ],
          [
           21002
          ],
          [
           9660
          ],
          [
           23667
          ],
          [
           21745
          ],
          [
           24906
          ],
          [
           28216
          ],
          [
           34761
          ],
          [
           29797
          ],
          [
           29564
          ],
          [
           24802
          ],
          [
           16702
          ],
          [
           14920
          ],
          [
           25639
          ],
          [
           30511
          ],
          [
           32427
          ],
          [
           32423
          ],
          [
           26158
          ],
          [
           22484
          ],
          [
           20917
          ],
          [
           30671
          ],
          [
           23759
          ],
          [
           24983
          ],
          [
           25499
          ],
          [
           20883
          ],
          [
           18891
          ],
          [
           20191
          ],
          [
           28686
          ],
          [
           21686
          ],
          [
           27718
          ],
          [
           27357
          ],
          [
           25257
          ],
          [
           18257
          ],
          [
           15839
          ],
          [
           16560
          ],
          [
           20296
          ],
          [
           42634
          ],
          [
           45722
          ],
          [
           46103
          ],
          [
           33222
          ],
          [
           30156
          ],
          [
           31095
          ],
          [
           35344
          ],
          [
           55160
          ],
          [
           55011
          ],
          [
           50339
          ],
          [
           39475
          ],
          [
           35940
          ],
          [
           48570
          ],
          [
           50280
          ],
          [
           40716
          ],
          [
           46305
          ],
          [
           44045
          ],
          [
           31529
          ],
          [
           29978
          ],
          [
           52205
          ],
          [
           44472
          ],
          [
           40054
          ],
          [
           44165
          ],
          [
           35820
          ],
          [
           31798
          ],
          [
           26509
          ],
          [
           39411
          ],
          [
           32789
          ],
          [
           39457
          ],
          [
           38569
          ],
          [
           36303
          ],
          [
           35835
          ],
          [
           31605
          ],
          [
           51578
          ],
          [
           43646
          ],
          [
           37973
          ],
          [
           34709
          ],
          [
           38225
          ],
          [
           28890
          ],
          [
           25242
          ],
          [
           46797
          ],
          [
           46058
          ],
          [
           35508
          ],
          [
           35670
          ],
          [
           32814
          ],
          [
           26083
          ],
          [
           32169
          ],
          [
           41443
          ],
          [
           40247
          ],
          [
           33516
          ],
          [
           48520
          ],
          [
           43150
          ],
          [
           33939
          ],
          [
           28822
          ],
          [
           31219
          ],
          [
           39357
          ],
          [
           47971
          ],
          [
           35182
          ],
          [
           36190
          ],
          [
           32864
          ],
          [
           31383
          ],
          [
           45448
          ],
          [
           51196
          ],
          [
           46079
          ],
          [
           46008
          ],
          [
           44038
          ],
          [
           41283
          ],
          [
           31688
          ],
          [
           41032
          ],
          [
           47227
          ],
          [
           36300
          ],
          [
           45511
          ],
          [
           41439
          ],
          [
           41940
          ],
          [
           27503
          ],
          [
           55858
          ],
          [
           54990
          ],
          [
           51330
          ],
          [
           59728
          ],
          [
           56832
          ],
          [
           37378
          ],
          [
           34823
          ],
          [
           64566
          ],
          [
           56107
          ],
          [
           49039
          ],
          [
           52903
          ],
          [
           46580
          ],
          [
           30985
          ],
          [
           35945
          ],
          [
           62108
          ],
          [
           66470
          ],
          [
           48825
          ],
          [
           53501
          ],
          [
           55883
          ],
          [
           36994
          ],
          [
           32059
          ],
          [
           60762
          ],
          [
           67164
          ],
          [
           59965
          ],
          [
           53101
          ],
          [
           57638
          ],
          [
           42111
          ],
          [
           38146
          ],
          [
           55845
          ],
          [
           58546
          ],
          [
           73199
          ],
          [
           57230
          ],
          [
           47549
          ],
          [
           31618
          ],
          [
           35713
          ],
          [
           55623
          ],
          [
           48597
          ],
          [
           35354
          ],
          [
           36639
          ],
          [
           39461
          ],
          [
           25954
          ],
          [
           33283
          ],
          [
           52372
          ],
          [
           47833
          ],
          [
           46510
          ],
          [
           45643
          ],
          [
           39374
          ],
          [
           32638
          ],
          [
           38726
          ],
          [
           61990
          ],
          [
           52659
          ],
          [
           46885
          ],
          [
           43596
          ],
          [
           39941
          ],
          [
           32370
          ],
          [
           30248
          ],
          [
           53904
          ],
          [
           45074
          ],
          [
           42801
          ],
          [
           39512
          ],
          [
           37576
          ],
          [
           25215
          ],
          [
           30370
          ],
          [
           50338
          ],
          [
           54413
          ],
          [
           50079
          ],
          [
           41300
          ],
          [
           39986
          ],
          [
           24642
          ],
          [
           29652
          ],
          [
           52526
          ],
          [
           61743
          ],
          [
           53992
          ],
          [
           43122
          ],
          [
           36431
          ],
          [
           22647
          ],
          [
           24128
          ],
          [
           34655
          ],
          [
           51899
          ],
          [
           53595
          ],
          [
           49256
          ],
          [
           44270
          ],
          [
           28182
          ],
          [
           34659
          ],
          [
           55007
          ],
          [
           51020
          ],
          [
           42182
          ],
          [
           39807
          ],
          [
           38355
          ],
          [
           21062
          ],
          [
           30691
          ],
          [
           37410
          ],
          [
           28980
          ],
          [
           34723
          ],
          [
           43978
          ],
          [
           40811
          ],
          [
           23403
          ],
          [
           33623
          ],
          [
           25266
          ],
          [
           56898
          ],
          [
           57351
          ],
          [
           52718
          ],
          [
           50358
          ],
          [
           27627
          ],
          [
           41505
          ],
          [
           63722
          ],
          [
           66050
          ],
          [
           44668
          ],
          [
           56734
          ],
          [
           47491
          ],
          [
           36558
          ],
          [
           37020
          ],
          [
           74803
          ],
          [
           62445
          ],
          [
           44763
          ],
          [
           28129
          ],
          [
           43565
          ],
          [
           30655
          ],
          [
           41584
          ],
          [
           75874
          ],
          [
           57130
          ],
          [
           41512
          ],
          [
           6384
          ],
          [
           30533
          ],
          [
           28564
          ],
          [
           38595
          ],
          [
           64405
          ],
          [
           53678
          ],
          [
           45789
          ],
          [
           59737
          ],
          [
           44287
          ],
          [
           24831
          ],
          [
           41343
          ],
          [
           55271
          ],
          [
           61169
          ],
          [
           48216
          ],
          [
           43149
          ],
          [
           39836
          ],
          [
           37402
          ],
          [
           40078
          ],
          [
           63041
          ],
          [
           58060
          ],
          [
           54618
          ],
          [
           48278
          ],
          [
           45581
          ],
          [
           30505
          ],
          [
           36076
          ],
          [
           66053
          ],
          [
           53272
          ],
          [
           53671
          ],
          [
           45656
          ],
          [
           40082
          ],
          [
           31325
          ],
          [
           41623
          ],
          [
           30573
          ],
          [
           57594
          ],
          [
           45994
          ],
          [
           56861
          ],
          [
           54768
          ],
          [
           40930
          ],
          [
           46250
          ],
          [
           68043
          ],
          [
           66930
          ],
          [
           63857
          ],
          [
           51967
          ],
          [
           45085
          ],
          [
           36645
          ],
          [
           44611
          ],
          [
           64132
          ],
          [
           66636
          ],
          [
           59150
          ],
          [
           57218
          ],
          [
           53675
          ],
          [
           37970
          ],
          [
           42074
          ],
          [
           54713
          ],
          [
           75581
          ],
          [
           63332
          ],
          [
           63920
          ],
          [
           66129
          ],
          [
           41329
          ],
          [
           47918
          ],
          [
           70708
          ],
          [
           63506
          ],
          [
           60691
          ],
          [
           48861
          ],
          [
           40619
          ],
          [
           37411
          ],
          [
           39334
          ],
          [
           73429
          ],
          [
           61372
          ],
          [
           63578
          ],
          [
           62032
          ],
          [
           53825
          ],
          [
           39322
          ],
          [
           30376
          ],
          [
           56915
          ],
          [
           79463
          ],
          [
           64893
          ],
          [
           54484
          ],
          [
           50720
          ],
          [
           32744
          ],
          [
           40764
          ],
          [
           58720
          ],
          [
           61692
          ],
          [
           63511
          ],
          [
           59574
          ],
          [
           45517
          ],
          [
           35078
          ],
          [
           39575
          ],
          [
           62276
          ],
          [
           65270
          ],
          [
           62084
          ],
          [
           59349
          ],
          [
           47202
          ],
          [
           34499
          ],
          [
           37990
          ],
          [
           52372
          ],
          [
           78618
          ],
          [
           73998
          ],
          [
           67853
          ],
          [
           66135
          ],
          [
           43692
          ],
          [
           49939
          ],
          [
           80542
          ],
          [
           83320
          ],
          [
           71503
          ],
          [
           60571
          ],
          [
           54473
          ],
          [
           35405
          ],
          [
           46260
          ],
          [
           80701
          ],
          [
           78359
          ],
          [
           68276
          ],
          [
           64329
          ],
          [
           52877
          ],
          [
           39917
          ],
          [
           41869
          ],
          [
           72947
          ],
          [
           74181
          ],
          [
           68463
          ],
          [
           57497
          ],
          [
           50199
          ],
          [
           39764
          ],
          [
           47030
          ],
          [
           50057
          ],
          [
           77471
          ],
          [
           74278
          ],
          [
           67665
          ],
          [
           53094
          ],
          [
           38081
          ],
          [
           44150
          ],
          [
           66734
          ],
          [
           68027
          ],
          [
           66585
          ],
          [
           55665
          ],
          [
           51080
          ],
          [
           39251
          ],
          [
           40298
          ],
          [
           62328
          ],
          [
           72518
          ],
          [
           54219
          ],
          [
           24830
          ],
          [
           40902
          ],
          [
           40376
          ],
          [
           47355
          ],
          [
           73700
          ],
          [
           65739
          ],
          [
           69940
          ],
          [
           59154
          ],
          [
           47365
          ],
          [
           37011
          ],
          [
           37311
          ],
          [
           67472
          ],
          [
           35651
          ],
          [
           15568
          ],
          [
           47698
          ],
          [
           49006
          ],
          [
           82734
          ],
          [
           66899
          ],
          [
           60287
          ],
          [
           54062
          ],
          [
           48874
          ],
          [
           39503
          ],
          [
           41879
          ],
          [
           60605
          ],
          [
           37651
          ],
          [
           35450
          ],
          [
           79586
          ],
          [
           68933
          ],
          [
           50096
          ],
          [
           53825
          ],
          [
           98639
          ],
          [
           61656
          ],
          [
           62181
          ],
          [
           94697
          ],
          [
           90488
          ],
          [
           60499
          ],
          [
           49984
          ],
          [
           93698
          ],
          [
           94550
          ],
          [
           94011
          ],
          [
           80258
          ],
          [
           70743
          ],
          [
           49415
          ],
          [
           60475
          ],
          [
           102373
          ],
          [
           94837
          ],
          [
           87734
          ],
          [
           83466
          ],
          [
           59238
          ],
          [
           50955
          ],
          [
           51905
          ],
          [
           64517
          ],
          [
           91506
          ],
          [
           84729
          ],
          [
           81008
          ],
          [
           76895
          ],
          [
           54044
          ],
          [
           55580
          ],
          [
           141154
          ],
          [
           290227
          ],
          [
           295276
          ],
          [
           228854
          ],
          [
           42526
          ],
          [
           26618
          ],
          [
           62466
          ],
          [
           95184
          ],
          [
           72031
          ],
          [
           110787
          ],
          [
           20450
          ],
          [
           168611
          ],
          [
           78346
          ],
          [
           114065
          ],
          [
           86970
          ],
          [
           161005
          ],
          [
           120978
          ],
          [
           108350
          ],
          [
           61098
          ],
          [
           59404
          ],
          [
           39476
          ],
          [
           38582
          ],
          [
           75277
          ],
          [
           72574
          ],
          [
           80178
          ],
          [
           59370
          ],
          [
           53741
          ],
          [
           37790
          ],
          [
           45319
          ],
          [
           59258
          ],
          [
           70393
          ],
          [
           49956
          ],
          [
           64426
          ],
          [
           79743
          ],
          [
           43696
          ],
          [
           55576
          ],
          [
           85991
          ],
          [
           100988
          ],
          [
           83020
          ],
          [
           81052
          ],
          [
           79053
          ],
          [
           55878
          ],
          [
           57790
          ],
          [
           94452
          ],
          [
           106908
          ],
          [
           72495
          ],
          [
           79871
          ],
          [
           74971
          ],
          [
           40808
          ],
          [
           41858
          ],
          [
           90633
          ],
          [
           106888
          ],
          [
           76695
          ],
          [
           65464
          ],
          [
           59533
          ],
          [
           42122
          ],
          [
           37338
          ],
          [
           78157
          ],
          [
           89829
          ],
          [
           91173
          ],
          [
           88023
          ],
          [
           68816
          ],
          [
           49351
          ],
          [
           40172
          ],
          [
           104721
          ],
          [
           85046
          ],
          [
           98967
          ],
          [
           91950
          ],
          [
           80018
          ],
          [
           41184
          ],
          [
           39048
          ],
          [
           85047
          ],
          [
           93430
          ],
          [
           88683
          ],
          [
           85907
          ],
          [
           67782
          ],
          [
           55916
          ],
          [
           55228
          ],
          [
           91192
          ],
          [
           102740
          ],
          [
           102388
          ],
          [
           87317
          ],
          [
           84068
          ],
          [
           50423
          ],
          [
           43581
          ],
          [
           107339
          ],
          [
           117303
          ],
          [
           89998
          ],
          [
           86978
          ],
          [
           93474
          ],
          [
           64483
          ],
          [
           68069
          ],
          [
           139755
          ],
          [
           139920
          ],
          [
           127292
          ],
          [
           106601
          ],
          [
           102823
          ],
          [
           64606
          ],
          [
           73141
          ],
          [
           75393
          ],
          [
           143882
          ],
          [
           166187
          ],
          [
           144878
          ],
          [
           127710
          ],
          [
           68503
          ],
          [
           78470
          ],
          [
           134207
          ],
          [
           158796
          ],
          [
           77039
          ],
          [
           116193
          ],
          [
           104885
          ],
          [
           72342
          ],
          [
           74564
          ],
          [
           131485
          ],
          [
           142762
          ],
          [
           128050
          ],
          [
           106398
          ],
          [
           102604
          ],
          [
           64553
          ],
          [
           60782
          ],
          [
           147837
          ],
          [
           143436
          ],
          [
           137802
          ],
          [
           107873
          ],
          [
           110394
          ],
          [
           65207
          ],
          [
           70776
          ],
          [
           139372
          ],
          [
           144211
          ],
          [
           124683
          ],
          [
           120239
          ],
          [
           101083
          ],
          [
           63379
          ],
          [
           76836
          ],
          [
           151315
          ],
          [
           141676
          ],
          [
           126774
          ],
          [
           105047
          ],
          [
           59473
          ],
          [
           61682
          ],
          [
           73698
          ],
          [
           160784
          ],
          [
           163749
          ],
          [
           134366
          ],
          [
           111839
          ],
          [
           114114
          ],
          [
           69520
          ],
          [
           71828
          ],
          [
           146566
          ],
          [
           136730
          ],
          [
           145956
          ],
          [
           116522
          ],
          [
           111562
          ],
          [
           62841
          ],
          [
           73787
          ],
          [
           156576
          ],
          [
           149439
          ],
          [
           118716
          ],
          [
           121185
          ],
          [
           103263
          ],
          [
           66553
          ],
          [
           73607
          ],
          [
           144478
          ],
          [
           139210
          ],
          [
           133848
          ],
          [
           117359
          ],
          [
           102148
          ],
          [
           57200
          ],
          [
           64569
          ],
          [
           126580
          ],
          [
           154483
          ],
          [
           129605
          ],
          [
           124173
          ],
          [
           117917
          ],
          [
           66817
          ],
          [
           71106
          ],
          [
           146964
          ],
          [
           172099
          ],
          [
           173454
          ],
          [
           135073
          ],
          [
           134105
          ],
          [
           80699
          ],
          [
           90069
          ],
          [
           187879
          ],
          [
           248439
          ],
          [
           212880
          ],
          [
           170996
          ],
          [
           154853
          ],
          [
           93496
          ],
          [
           97597
          ],
          [
           165344
          ],
          [
           172027
          ],
          [
           176173
          ],
          [
           154485
          ],
          [
           92541
          ],
          [
           79399
          ],
          [
           84855
          ],
          [
           98551
          ],
          [
           190703
          ],
          [
           196138
          ],
          [
           155834
          ],
          [
           156640
          ],
          [
           88225
          ],
          [
           93707
          ],
          [
           162100
          ],
          [
           171491
          ],
          [
           111664
          ],
          [
           196736
          ],
          [
           123314
          ],
          [
           96957
          ],
          [
           89624
          ],
          [
           182849
          ],
          [
           181762
          ],
          [
           158813
          ],
          [
           133485
          ],
          [
           126307
          ],
          [
           69423
          ],
          [
           70588
          ],
          [
           172530
          ],
          [
           177779
          ],
          [
           155486
          ],
          [
           128494
          ],
          [
           112682
          ],
          [
           79178
          ],
          [
           79589
          ],
          [
           168503
          ],
          [
           168971
          ],
          [
           162176
          ],
          [
           161491
          ],
          [
           136307
          ],
          [
           93770
          ],
          [
           87031
          ],
          [
           166214
          ],
          [
           164382
          ],
          [
           169552
          ],
          [
           134198
          ],
          [
           75657
          ],
          [
           82017
          ],
          [
           95381
          ],
          [
           172358
          ],
          [
           158560
          ],
          [
           172527
          ],
          [
           163873
          ],
          [
           157868
          ],
          [
           85210
          ],
          [
           99798
          ],
          [
           177259
          ],
          [
           179971
          ],
          [
           170243
          ],
          [
           137022
          ],
          [
           132650
          ],
          [
           70487
          ],
          [
           87973
          ],
          [
           184381
          ],
          [
           201152
          ],
          [
           170210
          ],
          [
           139375
          ],
          [
           123618
          ],
          [
           91261
          ],
          [
           98735
          ],
          [
           190440
          ],
          [
           195314
          ],
          [
           168277
          ],
          [
           141301
          ],
          [
           153033
          ],
          [
           100397
          ],
          [
           104381
          ],
          [
           197730
          ],
          [
           203090
          ],
          [
           170223
          ],
          [
           154564
          ],
          [
           143208
          ],
          [
           86578
          ],
          [
           99521
          ],
          [
           197574
          ],
          [
           192863
          ],
          [
           175873
          ],
          [
           140599
          ],
          [
           166982
          ],
          [
           116060
          ],
          [
           115388
          ],
          [
           216216
          ],
          [
           201809
          ],
          [
           177692
          ],
          [
           78029
          ],
          [
           155483
          ],
          [
           119379
          ],
          [
           131027
          ],
          [
           257760
          ],
          [
           249703
          ],
          [
           200184
          ],
          [
           181287
          ],
          [
           176289
          ],
          [
           104871
          ],
          [
           108798
          ],
          [
           202983
          ],
          [
           217544
          ],
          [
           195042
          ],
          [
           166629
          ],
          [
           152226
          ],
          [
           111137
          ],
          [
           105376
          ],
          [
           207338
          ],
          [
           205458
          ],
          [
           186845
          ],
          [
           153607
          ],
          [
           151502
          ],
          [
           93709
          ],
          [
           98645
          ],
          [
           214893
          ],
          [
           199809
          ],
          [
           135610
          ],
          [
           71495
          ],
          [
           163048
          ],
          [
           116304
          ],
          [
           141813
          ],
          [
           278428
          ],
          [
           278013
          ],
          [
           56397
          ],
          [
           180041
          ],
          [
           267479
          ],
          [
           189997
          ],
          [
           178058
          ],
          [
           317700
          ],
          [
           296755
          ],
          [
           281188
          ],
          [
           244723
          ],
          [
           217042
          ],
          [
           172546
          ],
          [
           180760
          ],
          [
           313284
          ],
          [
           255223
          ],
          [
           308363
          ],
          [
           283514
          ],
          [
           264514
          ],
          [
           148568
          ],
          [
           188661
          ],
          [
           308248
          ],
          [
           281563
          ],
          [
           304670
          ],
          [
           296247
          ],
          [
           249365
          ],
          [
           187433
          ],
          [
           199822
          ],
          [
           297239
          ],
          [
           348440
          ],
          [
           323147
          ],
          [
           291338
          ],
          [
           266141
          ],
          [
           174682
          ],
          [
           163101
          ],
          [
           296726
          ],
          [
           340082
          ],
          [
           289082
          ],
          [
           256452
          ],
          [
           252918
          ],
          [
           197442
          ],
          [
           200361
          ],
          [
           314869
          ],
          [
           307042
          ],
          [
           254351
          ],
          [
           242144
          ],
          [
           238960
          ],
          [
           166060
          ],
          [
           174597
          ],
          [
           292428
          ],
          [
           255513
          ],
          [
           301751
          ],
          [
           278079
          ],
          [
           251254
          ],
          [
           185183
          ],
          [
           194228
          ],
          [
           310054
          ],
          [
           344268
          ],
          [
           283636
          ],
          [
           251830
          ],
          [
           236146
          ],
          [
           186726
          ],
          [
           205820
          ],
          [
           343299
          ],
          [
           317033
          ],
          [
           311577
          ],
          [
           279040
          ],
          [
           241100
          ],
          [
           172470
          ],
          [
           179131
          ],
          [
           326740
          ],
          [
           324696
          ],
          [
           290985
          ],
          [
           262453
          ],
          [
           279339
          ],
          [
           188566
          ],
          [
           188800
          ],
          [
           327779
          ],
          [
           350308
          ],
          [
           289179
          ],
          [
           264302
          ],
          [
           249569
          ],
          [
           170865
          ],
          [
           198065
          ],
          [
           343238
          ],
          [
           346753
          ],
          [
           308083
          ],
          [
           288506
          ],
          [
           260546
          ],
          [
           198135
          ],
          [
           189809
          ],
          [
           346389
          ],
          [
           362864
          ],
          [
           319770
          ],
          [
           266717
          ],
          [
           244815
          ],
          [
           173522
          ],
          [
           187929
          ],
          [
           337739
          ],
          [
           329803
          ],
          [
           292964
          ],
          [
           264326
          ],
          [
           280843
          ],
          [
           176231
          ],
          [
           215067
          ],
          [
           356365
          ],
          [
           378599
          ],
          [
           319267
          ],
          [
           294547
          ],
          [
           254282
          ],
          [
           171886
          ],
          [
           185317
          ],
          [
           332785
          ],
          [
           394976
          ],
          [
           325638
          ],
          [
           298920
          ],
          [
           284550
          ],
          [
           181800
          ],
          [
           242085
          ],
          [
           395687
          ],
          [
           441057
          ],
          [
           521050
          ],
          [
           394916
          ],
          [
           362061
          ],
          [
           320928
          ],
          [
           312810
          ],
          [
           487896
          ],
          [
           375852
          ],
          [
           319718
          ],
          [
           259668
          ],
          [
           244708
          ],
          [
           174618
          ],
          [
           181080
          ],
          [
           366865
          ],
          [
           347788
          ],
          [
           303021
          ],
          [
           277135
          ],
          [
           260209
          ],
          [
           194794
          ],
          [
           185248
          ],
          [
           339472
          ],
          [
           385023
          ],
          [
           351990
          ],
          [
           290517
          ],
          [
           307661
          ],
          [
           199838
          ],
          [
           240391
          ],
          [
           403360
          ],
          [
           412232
          ],
          [
           365164
          ],
          [
           308069
          ],
          [
           307940
          ],
          [
           186734
          ],
          [
           201620
          ],
          [
           252414
          ],
          [
           419389
          ],
          [
           423375
          ],
          [
           397193
          ],
          [
           351091
          ],
          [
           210632
          ],
          [
           243825
          ],
          [
           430878
          ],
          [
           423196
          ],
          [
           340619
          ],
          [
           336299
          ],
          [
           302632
          ],
          [
           191504
          ],
          [
           213577
          ],
          [
           408625
          ],
          [
           401950
          ],
          [
           387428
          ],
          [
           327424
          ],
          [
           297840
          ],
          [
           197890
          ],
          [
           216315
          ],
          [
           423288
          ],
          [
           442584
          ],
          [
           449923
          ],
          [
           375593
          ],
          [
           308529
          ],
          [
           216885
          ],
          [
           210085
          ],
          [
           393952
          ],
          [
           436071
          ],
          [
           377539
          ],
          [
           339243
          ],
          [
           289040
          ],
          [
           189882
          ],
          [
           158321
          ],
          [
           235845
          ],
          [
           451151
          ],
          [
           411214
          ],
          [
           406315
          ],
          [
           320860
          ],
          [
           215208
          ],
          [
           228832
          ],
          [
           439303
          ],
          [
           426447
          ],
          [
           366746
          ],
          [
           317981
          ],
          [
           298978
          ],
          [
           192891
          ],
          [
           222528
          ],
          [
           438177
          ],
          [
           417345
          ],
          [
           364077
          ],
          [
           313845
          ],
          [
           311748
          ],
          [
           198712
          ],
          [
           209711
          ],
          [
           450422
          ],
          [
           421487
          ],
          [
           375726
          ],
          [
           325404
          ],
          [
           311388
          ],
          [
           204520
          ],
          [
           211705
          ],
          [
           421672
          ],
          [
           433347
          ],
          [
           385701
          ],
          [
           345420
          ],
          [
           321366
          ],
          [
           200861
          ],
          [
           230080
          ],
          [
           449318
          ],
          [
           437066
          ],
          [
           370348
          ],
          [
           329817
          ],
          [
           338537
          ],
          [
           201004
          ],
          [
           247051
          ],
          [
           439687
          ],
          [
           427358
          ],
          [
           355266
          ],
          [
           310161
          ],
          [
           302030
          ],
          [
           208915
          ],
          [
           249703
          ],
          [
           439764
          ],
          [
           413346
          ],
          [
           392777
          ],
          [
           336987
          ],
          [
           325976
          ],
          [
           221784
          ],
          [
           247857
          ],
          [
           446338
          ],
          [
           427141
          ],
          [
           361703
          ],
          [
           452478
          ],
          [
           446458
          ],
          [
           428792
          ],
          [
           198962
          ],
          [
           268689
          ],
          [
           440731
          ],
          [
           445842
          ],
          [
           375911
          ],
          [
           339358
          ],
          [
           235665
          ],
          [
           262652
          ],
          [
           439880
          ],
          [
           449269
          ],
          [
           334446
          ],
          [
           341342
          ],
          [
           325148
          ],
          [
           256433
          ],
          [
           262415
          ],
          [
           451374
          ],
          [
           403066
          ],
          [
           379915
          ],
          [
           342449
          ],
          [
           301927
          ],
          [
           218236
          ],
          [
           266221
          ],
          [
           433697
          ],
          [
           470449
          ],
          [
           382030
          ],
          [
           337454
          ],
          [
           304721
          ],
          [
           226924
          ],
          [
           235377
          ],
          [
           455915
          ],
          [
           454242
          ],
          [
           410227
          ],
          [
           392266
          ],
          [
           317490
          ],
          [
           228362
          ],
          [
           280339
          ],
          [
           459684
          ],
          [
           363274
          ],
          [
           432626
          ],
          [
           361132
          ],
          [
           483766
          ],
          [
           254889
          ],
          [
           273299
          ],
          [
           487649
          ],
          [
           506170
          ],
          [
           395267
          ],
          [
           360644
          ],
          [
           364118
          ],
          [
           250184
          ],
          [
           312936
          ],
          [
           568117
          ],
          [
           511768
          ],
          [
           435214
          ],
          [
           385732
          ],
          [
           381865
          ],
          [
           251768
          ],
          [
           294777
          ],
          [
           548884
          ],
          [
           442683
          ],
          [
           425665
          ],
          [
           421243
          ],
          [
           390056
          ],
          [
           294681
          ],
          [
           304148
          ],
          [
           559931
          ],
          [
           495880
          ],
          [
           455430
          ],
          [
           422909
          ],
          [
           346977
          ],
          [
           215700
          ],
          [
           322613
          ],
          [
           574432
          ],
          [
           541940
          ],
          [
           485302
          ],
          [
           417346
          ],
          [
           362531
          ],
          [
           315664
          ],
          [
           357035
          ],
          [
           585829
          ],
          [
           538200
          ],
          [
           406962
          ],
          [
           180874
          ],
          [
           415385
          ],
          [
           331790
          ],
          [
           372109
          ],
          [
           663849
          ],
          [
           597697
          ],
          [
           494786
          ],
          [
           426469
          ],
          [
           334884
          ],
          [
           305640
          ],
          [
           332403
          ],
          [
           601660
          ],
          [
           587829
          ],
          [
           488758
          ],
          [
           432385
          ],
          [
           389865
          ],
          [
           278762
          ],
          [
           327189
          ],
          [
           559169
          ],
          [
           556994
          ],
          [
           464299
          ],
          [
           441065
          ],
          [
           405324
          ],
          [
           265044
          ],
          [
           353755
          ],
          [
           553128
          ],
          [
           543090
          ],
          [
           494948
          ],
          [
           394877
          ],
          [
           274677
          ],
          [
           214860
          ],
          [
           305863
          ],
          [
           556056
          ],
          [
           689522
          ],
          [
           664036
          ],
          [
           602432
          ],
          [
           434462
          ],
          [
           419335
          ],
          [
           497848
          ],
          [
           729430
          ],
          [
           755906
          ],
          [
           715756
          ],
          [
           638366
          ],
          [
           640995
          ],
          [
           568204
          ],
          [
           547194
          ],
          [
           878563
          ],
          [
           804916
          ],
          [
           569725
          ],
          [
           361576
          ],
          [
           2950065
          ],
          [
           846362
          ],
          [
           213776
          ],
          [
           301566
          ],
          [
           559780
          ],
          [
           869517
          ],
          [
           884528
          ],
          [
           769974
          ],
          [
           718775
          ],
          [
           635421
          ],
          [
           506281
          ],
          [
           557414
          ],
          [
           850005
          ],
          [
           839458
          ],
          [
           738446
          ],
          [
           644546
          ],
          [
           355847
          ],
          [
           417049
          ],
          [
           452124
          ],
          [
           712231
          ],
          [
           752001
          ],
          [
           626871
          ],
          [
           582779
          ],
          [
           493970
          ],
          [
           408695
          ],
          [
           484022
          ],
          [
           663726
          ],
          [
           623075
          ],
          [
           577240
          ],
          [
           613878
          ],
          [
           572460
          ],
          [
           406981
          ],
          [
           441936
          ],
          [
           691195
          ],
          [
           620901
          ],
          [
           668428
          ],
          [
           694064
          ],
          [
           605418
          ],
          [
           446641
          ],
          [
           563669
          ],
          [
           717807
          ],
          [
           744146
          ],
          [
           733984
          ],
          [
           594285
          ],
          [
           552560
          ],
          [
           403887
          ],
          [
           444853
          ],
          [
           770649
          ],
          [
           750818
          ],
          [
           619879
          ],
          [
           593942
          ],
          [
           547135
          ],
          [
           386848
          ],
          [
           435622
          ],
          [
           738730
          ],
          [
           746446
          ],
          [
           636645
          ],
          [
           543406
          ],
          [
           543264
          ],
          [
           437736
          ],
          [
           467440
          ],
          [
           789483
          ],
          [
           744509
          ],
          [
           691659
          ],
          [
           581622
          ],
          [
           510625
          ],
          [
           369892
          ],
          [
           418023
          ],
          [
           785399
          ],
          [
           485071
          ],
          [
           171135
          ],
          [
           537488
          ],
          [
           418569
          ],
          [
           447988
          ],
          [
           726517
          ],
          [
           686552
          ],
          [
           1359145
          ],
          [
           524147
          ],
          [
           487171
          ],
          [
           359322
          ],
          [
           408627
          ],
          [
           685822
          ],
          [
           686828
          ],
          [
           575061
          ],
          [
           504171
          ],
          [
           480717
          ],
          [
           372208
          ],
          [
           405759
          ],
          [
           706039
          ],
          [
           676786
          ],
          [
           582707
          ],
          [
           502408
          ],
          [
           455906
          ],
          [
           335068
          ],
          [
           350236
          ],
          [
           710653
          ],
          [
           718039
          ],
          [
           574088
          ],
          [
           507978
          ],
          [
           469950
          ],
          [
           398789
          ],
          [
           412787
          ],
          [
           691027
          ],
          [
           684189
          ],
          [
           568697
          ],
          [
           477813
          ],
          [
           461589
          ],
          [
           321648
          ],
          [
           397475
          ],
          [
           669845
          ],
          [
           628770
          ],
          [
           551804
          ],
          [
           492262
          ],
          [
           484414
          ],
          [
           479373
          ],
          [
           509441
          ],
          [
           832977
          ],
          [
           808257
          ],
          [
           651880
          ],
          [
           582769
          ],
          [
           531821
          ],
          [
           381121
          ],
          [
           473567
          ],
          [
           789375
          ],
          [
           759648
          ],
          [
           653829
          ],
          [
           574722
          ],
          [
           513605
          ],
          [
           369183
          ],
          [
           380462
          ],
          [
           483672
          ],
          [
           936178
          ],
          [
           955794
          ],
          [
           836842
          ],
          [
           739205
          ],
          [
           475777
          ],
          [
           536056
          ],
          [
           889849
          ],
          [
           880297
          ],
          [
           758368
          ],
          [
           681928
          ],
          [
           674046
          ],
          [
           500143
          ],
          [
           543591
          ],
          [
           874743
          ],
          [
           868401
          ],
          [
           745088
          ],
          [
           675718
          ],
          [
           602523
          ],
          [
           446654
          ],
          [
           502648
          ],
          [
           873834
          ],
          [
           820984
          ],
          [
           716001
          ],
          [
           630906
          ],
          [
           657047
          ],
          [
           465808
          ],
          [
           563764
          ],
          [
           944671
          ],
          [
           857539
          ],
          [
           778430
          ],
          [
           687580
          ],
          [
           621226
          ],
          [
           404792
          ],
          [
           392484
          ],
          [
           413501
          ],
          [
           875650
          ],
          [
           827402
          ],
          [
           768879
          ],
          [
           720097
          ],
          [
           518282
          ],
          [
           495929
          ],
          [
           881628
          ],
          [
           861996
          ],
          [
           728362
          ],
          [
           691652
          ],
          [
           631569
          ],
          [
           458688
          ],
          [
           514852
          ],
          [
           850126
          ],
          [
           773864
          ],
          [
           700132
          ],
          [
           642488
          ],
          [
           615238
          ],
          [
           441020
          ],
          [
           468411
          ],
          [
           837269
          ],
          [
           802855
          ],
          [
           676109
          ],
          [
           646652
          ],
          [
           569780
          ],
          [
           457256
          ],
          [
           492758
          ],
          [
           815719
          ],
          [
           795746
          ],
          [
           661304
          ],
          [
           622578
          ],
          [
           611949
          ],
          [
           439494
          ],
          [
           517961
          ],
          [
           835421
          ],
          [
           809702
          ],
          [
           675275
          ],
          [
           644288
          ],
          [
           627798
          ],
          [
           436181
          ],
          [
           527868
          ],
          [
           867379
          ],
          [
           830980
          ],
          [
           698919
          ],
          [
           699038
          ],
          [
           645208
          ],
          [
           487016
          ],
          [
           560162
          ],
          [
           899288
          ],
          [
           838756
          ],
          [
           714097
          ],
          [
           690938
          ],
          [
           704558
          ],
          [
           502983
          ],
          [
           571045
          ],
          [
           818879
          ],
          [
           824779
          ],
          [
           669601
          ],
          [
           591094
          ],
          [
           553074
          ],
          [
           409699
          ],
          [
           451229
          ],
          [
           552429
          ],
          [
           816721
          ],
          [
           744451
          ],
          [
           675522
          ],
          [
           616767
          ],
          [
           479767
          ],
          [
           517701
          ],
          [
           830645
          ],
          [
           794847
          ],
          [
           729182
          ],
          [
           715804
          ],
          [
           646519
          ],
          [
           532011
          ],
          [
           580838
          ],
          [
           872897
          ],
          [
           873416
          ],
          [
           691925
          ],
          [
           655345
          ],
          [
           615690
          ],
          [
           494040
          ],
          [
           547492
          ],
          [
           889584
          ],
          [
           812273
          ],
          [
           728641
          ],
          [
           637038
          ],
          [
           596001
          ],
          [
           483312
          ],
          [
           557389
          ],
          [
           832413
          ],
          [
           806070
          ],
          [
           711848
          ],
          [
           674142
          ],
          [
           633781
          ],
          [
           490967
          ],
          [
           543123
          ],
          [
           803790
          ],
          [
           681602
          ],
          [
           804575
          ],
          [
           690723
          ],
          [
           643579
          ],
          [
           475958
          ],
          [
           585813
          ],
          [
           806580
          ],
          [
           822554
          ],
          [
           682853
          ],
          [
           657690
          ],
          [
           628767
          ],
          [
           533989
          ],
          [
           593626
          ],
          [
           864690
          ],
          [
           828909
          ],
          [
           721807
          ],
          [
           625121
          ],
          [
           624127
          ],
          [
           465930
          ],
          [
           560439
          ],
          [
           788968
          ],
          [
           734994
          ],
          [
           678758
          ],
          [
           600293
          ],
          [
           537781
          ],
          [
           420869
          ],
          [
           467698
          ],
          [
           689208
          ],
          [
           683344
          ],
          [
           571859
          ],
          [
           495388
          ],
          [
           482298
          ],
          [
           345973
          ],
          [
           390744
          ],
          [
           598824
          ],
          [
           559497
          ],
          [
           512113
          ],
          [
           448745
          ],
          [
           401191
          ],
          [
           310626
          ],
          [
           370665
          ],
          [
           528477
          ],
          [
           490126
          ],
          [
           361726
          ],
          [
           191956
          ],
          [
           349577
          ],
          [
           322779
          ],
          [
           356296
          ],
          [
           561566
          ],
          [
           534003
          ],
          [
           421531
          ],
          [
           391407
          ],
          [
           360309
          ],
          [
           280316
          ],
          [
           303739
          ],
          [
           453126
          ],
          [
           457382
          ],
          [
           382050
          ],
          [
           330532
          ],
          [
           313666
          ],
          [
           245010
          ],
          [
           264772
          ],
          [
           397494
          ],
          [
           352273
          ],
          [
           350540
          ],
          [
           283367
          ],
          [
           274886
          ],
          [
           230331
          ],
          [
           266524
          ],
          [
           387598
          ],
          [
           349316
          ],
          [
           315747
          ],
          [
           277421
          ],
          [
           238170
          ],
          [
           126443
          ],
          [
           120114
          ],
          [
           240338
          ],
          [
           351151
          ],
          [
           394617
          ],
          [
           389223
          ],
          [
           310330
          ],
          [
           182632
          ]
         ]
        }
       ],
       "layout": {
        "template": {
         "data": {
          "bar": [
           {
            "error_x": {
             "color": "#2a3f5f"
            },
            "error_y": {
             "color": "#2a3f5f"
            },
            "marker": {
             "line": {
              "color": "#E5ECF6",
              "width": 0.5
             }
            },
            "type": "bar"
           }
          ],
          "barpolar": [
           {
            "marker": {
             "line": {
              "color": "#E5ECF6",
              "width": 0.5
             }
            },
            "type": "barpolar"
           }
          ],
          "carpet": [
           {
            "aaxis": {
             "endlinecolor": "#2a3f5f",
             "gridcolor": "white",
             "linecolor": "white",
             "minorgridcolor": "white",
             "startlinecolor": "#2a3f5f"
            },
            "baxis": {
             "endlinecolor": "#2a3f5f",
             "gridcolor": "white",
             "linecolor": "white",
             "minorgridcolor": "white",
             "startlinecolor": "#2a3f5f"
            },
            "type": "carpet"
           }
          ],
          "choropleth": [
           {
            "colorbar": {
             "outlinewidth": 0,
             "ticks": ""
            },
            "type": "choropleth"
           }
          ],
          "contour": [
           {
            "colorbar": {
             "outlinewidth": 0,
             "ticks": ""
            },
            "colorscale": [
             [
              0,
              "#0d0887"
             ],
             [
              0.1111111111111111,
              "#46039f"
             ],
             [
              0.2222222222222222,
              "#7201a8"
             ],
             [
              0.3333333333333333,
              "#9c179e"
             ],
             [
              0.4444444444444444,
              "#bd3786"
             ],
             [
              0.5555555555555556,
              "#d8576b"
             ],
             [
              0.6666666666666666,
              "#ed7953"
             ],
             [
              0.7777777777777778,
              "#fb9f3a"
             ],
             [
              0.8888888888888888,
              "#fdca26"
             ],
             [
              1,
              "#f0f921"
             ]
            ],
            "type": "contour"
           }
          ],
          "contourcarpet": [
           {
            "colorbar": {
             "outlinewidth": 0,
             "ticks": ""
            },
            "type": "contourcarpet"
           }
          ],
          "heatmap": [
           {
            "colorbar": {
             "outlinewidth": 0,
             "ticks": ""
            },
            "colorscale": [
             [
              0,
              "#0d0887"
             ],
             [
              0.1111111111111111,
              "#46039f"
             ],
             [
              0.2222222222222222,
              "#7201a8"
             ],
             [
              0.3333333333333333,
              "#9c179e"
             ],
             [
              0.4444444444444444,
              "#bd3786"
             ],
             [
              0.5555555555555556,
              "#d8576b"
             ],
             [
              0.6666666666666666,
              "#ed7953"
             ],
             [
              0.7777777777777778,
              "#fb9f3a"
             ],
             [
              0.8888888888888888,
              "#fdca26"
             ],
             [
              1,
              "#f0f921"
             ]
            ],
            "type": "heatmap"
           }
          ],
          "heatmapgl": [
           {
            "colorbar": {
             "outlinewidth": 0,
             "ticks": ""
            },
            "colorscale": [
             [
              0,
              "#0d0887"
             ],
             [
              0.1111111111111111,
              "#46039f"
             ],
             [
              0.2222222222222222,
              "#7201a8"
             ],
             [
              0.3333333333333333,
              "#9c179e"
             ],
             [
              0.4444444444444444,
              "#bd3786"
             ],
             [
              0.5555555555555556,
              "#d8576b"
             ],
             [
              0.6666666666666666,
              "#ed7953"
             ],
             [
              0.7777777777777778,
              "#fb9f3a"
             ],
             [
              0.8888888888888888,
              "#fdca26"
             ],
             [
              1,
              "#f0f921"
             ]
            ],
            "type": "heatmapgl"
           }
          ],
          "histogram": [
           {
            "marker": {
             "colorbar": {
              "outlinewidth": 0,
              "ticks": ""
             }
            },
            "type": "histogram"
           }
          ],
          "histogram2d": [
           {
            "colorbar": {
             "outlinewidth": 0,
             "ticks": ""
            },
            "colorscale": [
             [
              0,
              "#0d0887"
             ],
             [
              0.1111111111111111,
              "#46039f"
             ],
             [
              0.2222222222222222,
              "#7201a8"
             ],
             [
              0.3333333333333333,
              "#9c179e"
             ],
             [
              0.4444444444444444,
              "#bd3786"
             ],
             [
              0.5555555555555556,
              "#d8576b"
             ],
             [
              0.6666666666666666,
              "#ed7953"
             ],
             [
              0.7777777777777778,
              "#fb9f3a"
             ],
             [
              0.8888888888888888,
              "#fdca26"
             ],
             [
              1,
              "#f0f921"
             ]
            ],
            "type": "histogram2d"
           }
          ],
          "histogram2dcontour": [
           {
            "colorbar": {
             "outlinewidth": 0,
             "ticks": ""
            },
            "colorscale": [
             [
              0,
              "#0d0887"
             ],
             [
              0.1111111111111111,
              "#46039f"
             ],
             [
              0.2222222222222222,
              "#7201a8"
             ],
             [
              0.3333333333333333,
              "#9c179e"
             ],
             [
              0.4444444444444444,
              "#bd3786"
             ],
             [
              0.5555555555555556,
              "#d8576b"
             ],
             [
              0.6666666666666666,
              "#ed7953"
             ],
             [
              0.7777777777777778,
              "#fb9f3a"
             ],
             [
              0.8888888888888888,
              "#fdca26"
             ],
             [
              1,
              "#f0f921"
             ]
            ],
            "type": "histogram2dcontour"
           }
          ],
          "mesh3d": [
           {
            "colorbar": {
             "outlinewidth": 0,
             "ticks": ""
            },
            "type": "mesh3d"
           }
          ],
          "parcoords": [
           {
            "line": {
             "colorbar": {
              "outlinewidth": 0,
              "ticks": ""
             }
            },
            "type": "parcoords"
           }
          ],
          "pie": [
           {
            "automargin": true,
            "type": "pie"
           }
          ],
          "scatter": [
           {
            "marker": {
             "colorbar": {
              "outlinewidth": 0,
              "ticks": ""
             }
            },
            "type": "scatter"
           }
          ],
          "scatter3d": [
           {
            "line": {
             "colorbar": {
              "outlinewidth": 0,
              "ticks": ""
             }
            },
            "marker": {
             "colorbar": {
              "outlinewidth": 0,
              "ticks": ""
             }
            },
            "type": "scatter3d"
           }
          ],
          "scattercarpet": [
           {
            "marker": {
             "colorbar": {
              "outlinewidth": 0,
              "ticks": ""
             }
            },
            "type": "scattercarpet"
           }
          ],
          "scattergeo": [
           {
            "marker": {
             "colorbar": {
              "outlinewidth": 0,
              "ticks": ""
             }
            },
            "type": "scattergeo"
           }
          ],
          "scattergl": [
           {
            "marker": {
             "colorbar": {
              "outlinewidth": 0,
              "ticks": ""
             }
            },
            "type": "scattergl"
           }
          ],
          "scattermapbox": [
           {
            "marker": {
             "colorbar": {
              "outlinewidth": 0,
              "ticks": ""
             }
            },
            "type": "scattermapbox"
           }
          ],
          "scatterpolar": [
           {
            "marker": {
             "colorbar": {
              "outlinewidth": 0,
              "ticks": ""
             }
            },
            "type": "scatterpolar"
           }
          ],
          "scatterpolargl": [
           {
            "marker": {
             "colorbar": {
              "outlinewidth": 0,
              "ticks": ""
             }
            },
            "type": "scatterpolargl"
           }
          ],
          "scatterternary": [
           {
            "marker": {
             "colorbar": {
              "outlinewidth": 0,
              "ticks": ""
             }
            },
            "type": "scatterternary"
           }
          ],
          "surface": [
           {
            "colorbar": {
             "outlinewidth": 0,
             "ticks": ""
            },
            "colorscale": [
             [
              0,
              "#0d0887"
             ],
             [
              0.1111111111111111,
              "#46039f"
             ],
             [
              0.2222222222222222,
              "#7201a8"
             ],
             [
              0.3333333333333333,
              "#9c179e"
             ],
             [
              0.4444444444444444,
              "#bd3786"
             ],
             [
              0.5555555555555556,
              "#d8576b"
             ],
             [
              0.6666666666666666,
              "#ed7953"
             ],
             [
              0.7777777777777778,
              "#fb9f3a"
             ],
             [
              0.8888888888888888,
              "#fdca26"
             ],
             [
              1,
              "#f0f921"
             ]
            ],
            "type": "surface"
           }
          ],
          "table": [
           {
            "cells": {
             "fill": {
              "color": "#EBF0F8"
             },
             "line": {
              "color": "white"
             }
            },
            "header": {
             "fill": {
              "color": "#C8D4E3"
             },
             "line": {
              "color": "white"
             }
            },
            "type": "table"
           }
          ]
         },
         "layout": {
          "annotationdefaults": {
           "arrowcolor": "#2a3f5f",
           "arrowhead": 0,
           "arrowwidth": 1
          },
          "coloraxis": {
           "colorbar": {
            "outlinewidth": 0,
            "ticks": ""
           }
          },
          "colorscale": {
           "diverging": [
            [
             0,
             "#8e0152"
            ],
            [
             0.1,
             "#c51b7d"
            ],
            [
             0.2,
             "#de77ae"
            ],
            [
             0.3,
             "#f1b6da"
            ],
            [
             0.4,
             "#fde0ef"
            ],
            [
             0.5,
             "#f7f7f7"
            ],
            [
             0.6,
             "#e6f5d0"
            ],
            [
             0.7,
             "#b8e186"
            ],
            [
             0.8,
             "#7fbc41"
            ],
            [
             0.9,
             "#4d9221"
            ],
            [
             1,
             "#276419"
            ]
           ],
           "sequential": [
            [
             0,
             "#0d0887"
            ],
            [
             0.1111111111111111,
             "#46039f"
            ],
            [
             0.2222222222222222,
             "#7201a8"
            ],
            [
             0.3333333333333333,
             "#9c179e"
            ],
            [
             0.4444444444444444,
             "#bd3786"
            ],
            [
             0.5555555555555556,
             "#d8576b"
            ],
            [
             0.6666666666666666,
             "#ed7953"
            ],
            [
             0.7777777777777778,
             "#fb9f3a"
            ],
            [
             0.8888888888888888,
             "#fdca26"
            ],
            [
             1,
             "#f0f921"
            ]
           ],
           "sequentialminus": [
            [
             0,
             "#0d0887"
            ],
            [
             0.1111111111111111,
             "#46039f"
            ],
            [
             0.2222222222222222,
             "#7201a8"
            ],
            [
             0.3333333333333333,
             "#9c179e"
            ],
            [
             0.4444444444444444,
             "#bd3786"
            ],
            [
             0.5555555555555556,
             "#d8576b"
            ],
            [
             0.6666666666666666,
             "#ed7953"
            ],
            [
             0.7777777777777778,
             "#fb9f3a"
            ],
            [
             0.8888888888888888,
             "#fdca26"
            ],
            [
             1,
             "#f0f921"
            ]
           ]
          },
          "colorway": [
           "#636efa",
           "#EF553B",
           "#00cc96",
           "#ab63fa",
           "#FFA15A",
           "#19d3f3",
           "#FF6692",
           "#B6E880",
           "#FF97FF",
           "#FECB52"
          ],
          "font": {
           "color": "#2a3f5f"
          },
          "geo": {
           "bgcolor": "white",
           "lakecolor": "white",
           "landcolor": "#E5ECF6",
           "showlakes": true,
           "showland": true,
           "subunitcolor": "white"
          },
          "hoverlabel": {
           "align": "left"
          },
          "hovermode": "closest",
          "mapbox": {
           "style": "light"
          },
          "paper_bgcolor": "white",
          "plot_bgcolor": "#E5ECF6",
          "polar": {
           "angularaxis": {
            "gridcolor": "white",
            "linecolor": "white",
            "ticks": ""
           },
           "bgcolor": "#E5ECF6",
           "radialaxis": {
            "gridcolor": "white",
            "linecolor": "white",
            "ticks": ""
           }
          },
          "scene": {
           "xaxis": {
            "backgroundcolor": "#E5ECF6",
            "gridcolor": "white",
            "gridwidth": 2,
            "linecolor": "white",
            "showbackground": true,
            "ticks": "",
            "zerolinecolor": "white"
           },
           "yaxis": {
            "backgroundcolor": "#E5ECF6",
            "gridcolor": "white",
            "gridwidth": 2,
            "linecolor": "white",
            "showbackground": true,
            "ticks": "",
            "zerolinecolor": "white"
           },
           "zaxis": {
            "backgroundcolor": "#E5ECF6",
            "gridcolor": "white",
            "gridwidth": 2,
            "linecolor": "white",
            "showbackground": true,
            "ticks": "",
            "zerolinecolor": "white"
           }
          },
          "shapedefaults": {
           "line": {
            "color": "#2a3f5f"
           }
          },
          "ternary": {
           "aaxis": {
            "gridcolor": "white",
            "linecolor": "white",
            "ticks": ""
           },
           "baxis": {
            "gridcolor": "white",
            "linecolor": "white",
            "ticks": ""
           },
           "bgcolor": "#E5ECF6",
           "caxis": {
            "gridcolor": "white",
            "linecolor": "white",
            "ticks": ""
           }
          },
          "title": {
           "x": 0.05
          },
          "xaxis": {
           "automargin": true,
           "gridcolor": "white",
           "linecolor": "white",
           "ticks": "",
           "title": {
            "standoff": 15
           },
           "zerolinecolor": "white",
           "zerolinewidth": 2
          },
          "yaxis": {
           "automargin": true,
           "gridcolor": "white",
           "linecolor": "white",
           "ticks": "",
           "title": {
            "standoff": 15
           },
           "zerolinecolor": "white",
           "zerolinewidth": 2
          }
         }
        },
        "title": {
         "text": "Movie-Ratings Grouped By Day"
        },
        "xaxis": {
         "title": {
          "text": "Date"
         }
        },
        "yaxis": {
         "title": {
          "text": "Ratings"
         }
        }
       }
      },
      "text/html": [
       "<div>                            <div id=\"8335b20e-1578-49c5-aef3-af02acf59a5e\" class=\"plotly-graph-div\" style=\"height:525px; width:100%;\"></div>            <script type=\"text/javascript\">                require([\"plotly\"], function(Plotly) {                    window.PLOTLYENV=window.PLOTLYENV || {};                                    if (document.getElementById(\"8335b20e-1578-49c5-aef3-af02acf59a5e\")) {                    Plotly.newPlot(                        \"8335b20e-1578-49c5-aef3-af02acf59a5e\",                        [{\"marker\": {\"color\": \"#db0000\"}, \"type\": \"scatter\", \"x\": [\"1999-11-11T00:00:00\", \"1999-12-06T00:00:00\", \"1999-12-08T00:00:00\", \"1999-12-09T00:00:00\", \"1999-12-10T00:00:00\", \"1999-12-11T00:00:00\", \"1999-12-12T00:00:00\", \"1999-12-14T00:00:00\", \"1999-12-15T00:00:00\", \"1999-12-16T00:00:00\", \"1999-12-17T00:00:00\", \"1999-12-18T00:00:00\", \"1999-12-20T00:00:00\", \"1999-12-21T00:00:00\", \"1999-12-22T00:00:00\", \"1999-12-24T00:00:00\", \"1999-12-25T00:00:00\", \"1999-12-26T00:00:00\", \"1999-12-27T00:00:00\", \"1999-12-28T00:00:00\", \"1999-12-29T00:00:00\", \"1999-12-30T00:00:00\", \"1999-12-31T00:00:00\", \"2000-01-05T00:00:00\", \"2000-01-06T00:00:00\", \"2000-01-07T00:00:00\", \"2000-01-08T00:00:00\", \"2000-01-09T00:00:00\", \"2000-01-10T00:00:00\", \"2000-01-11T00:00:00\", \"2000-01-12T00:00:00\", \"2000-01-13T00:00:00\", \"2000-01-14T00:00:00\", \"2000-01-15T00:00:00\", \"2000-01-16T00:00:00\", \"2000-01-17T00:00:00\", \"2000-01-18T00:00:00\", \"2000-01-19T00:00:00\", \"2000-01-20T00:00:00\", \"2000-01-21T00:00:00\", \"2000-01-22T00:00:00\", \"2000-01-23T00:00:00\", \"2000-01-24T00:00:00\", \"2000-01-25T00:00:00\", \"2000-01-26T00:00:00\", \"2000-01-27T00:00:00\", \"2000-01-28T00:00:00\", \"2000-01-29T00:00:00\", \"2000-01-30T00:00:00\", \"2000-01-31T00:00:00\", \"2000-02-01T00:00:00\", \"2000-02-02T00:00:00\", \"2000-02-03T00:00:00\", \"2000-02-04T00:00:00\", \"2000-02-05T00:00:00\", \"2000-02-06T00:00:00\", \"2000-02-07T00:00:00\", \"2000-02-08T00:00:00\", \"2000-02-09T00:00:00\", \"2000-02-10T00:00:00\", \"2000-02-11T00:00:00\", \"2000-02-12T00:00:00\", \"2000-02-13T00:00:00\", \"2000-02-14T00:00:00\", \"2000-02-15T00:00:00\", \"2000-02-16T00:00:00\", \"2000-02-17T00:00:00\", \"2000-02-18T00:00:00\", \"2000-02-19T00:00:00\", \"2000-02-20T00:00:00\", \"2000-02-21T00:00:00\", \"2000-02-22T00:00:00\", \"2000-02-23T00:00:00\", \"2000-02-24T00:00:00\", \"2000-02-25T00:00:00\", \"2000-02-26T00:00:00\", \"2000-02-27T00:00:00\", \"2000-02-28T00:00:00\", \"2000-02-29T00:00:00\", \"2000-03-01T00:00:00\", \"2000-03-02T00:00:00\", \"2000-03-03T00:00:00\", \"2000-03-04T00:00:00\", \"2000-03-05T00:00:00\", \"2000-03-06T00:00:00\", \"2000-03-07T00:00:00\", \"2000-03-08T00:00:00\", \"2000-03-09T00:00:00\", \"2000-03-10T00:00:00\", \"2000-03-11T00:00:00\", \"2000-03-12T00:00:00\", \"2000-03-13T00:00:00\", \"2000-03-14T00:00:00\", \"2000-03-15T00:00:00\", \"2000-03-16T00:00:00\", \"2000-03-17T00:00:00\", \"2000-03-18T00:00:00\", \"2000-03-19T00:00:00\", \"2000-03-20T00:00:00\", \"2000-03-21T00:00:00\", \"2000-03-22T00:00:00\", \"2000-03-23T00:00:00\", \"2000-03-24T00:00:00\", \"2000-03-25T00:00:00\", \"2000-03-26T00:00:00\", \"2000-03-27T00:00:00\", \"2000-03-28T00:00:00\", \"2000-03-29T00:00:00\", \"2000-03-30T00:00:00\", \"2000-03-31T00:00:00\", \"2000-04-01T00:00:00\", \"2000-04-02T00:00:00\", \"2000-04-03T00:00:00\", \"2000-04-04T00:00:00\", \"2000-04-05T00:00:00\", \"2000-04-06T00:00:00\", \"2000-04-07T00:00:00\", \"2000-04-08T00:00:00\", \"2000-04-09T00:00:00\", \"2000-04-10T00:00:00\", \"2000-04-11T00:00:00\", \"2000-04-12T00:00:00\", \"2000-04-13T00:00:00\", \"2000-04-14T00:00:00\", \"2000-04-15T00:00:00\", \"2000-04-16T00:00:00\", \"2000-04-17T00:00:00\", \"2000-04-18T00:00:00\", \"2000-04-19T00:00:00\", \"2000-04-20T00:00:00\", \"2000-04-21T00:00:00\", \"2000-04-22T00:00:00\", \"2000-04-23T00:00:00\", \"2000-04-24T00:00:00\", \"2000-04-25T00:00:00\", \"2000-04-26T00:00:00\", \"2000-04-27T00:00:00\", \"2000-04-28T00:00:00\", \"2000-04-29T00:00:00\", \"2000-04-30T00:00:00\", \"2000-05-01T00:00:00\", \"2000-05-02T00:00:00\", \"2000-05-03T00:00:00\", \"2000-05-04T00:00:00\", \"2000-05-05T00:00:00\", \"2000-05-06T00:00:00\", \"2000-05-07T00:00:00\", \"2000-05-08T00:00:00\", \"2000-05-09T00:00:00\", \"2000-05-10T00:00:00\", \"2000-05-11T00:00:00\", \"2000-05-12T00:00:00\", \"2000-05-13T00:00:00\", \"2000-05-14T00:00:00\", \"2000-05-15T00:00:00\", \"2000-05-16T00:00:00\", \"2000-05-17T00:00:00\", \"2000-05-18T00:00:00\", \"2000-05-19T00:00:00\", \"2000-05-20T00:00:00\", \"2000-05-21T00:00:00\", \"2000-05-22T00:00:00\", \"2000-05-23T00:00:00\", \"2000-05-24T00:00:00\", \"2000-05-25T00:00:00\", \"2000-05-26T00:00:00\", \"2000-05-27T00:00:00\", \"2000-05-28T00:00:00\", \"2000-05-29T00:00:00\", \"2000-05-30T00:00:00\", \"2000-05-31T00:00:00\", \"2000-06-01T00:00:00\", \"2000-06-02T00:00:00\", \"2000-06-03T00:00:00\", \"2000-06-04T00:00:00\", \"2000-06-05T00:00:00\", \"2000-06-06T00:00:00\", \"2000-06-07T00:00:00\", \"2000-06-08T00:00:00\", \"2000-06-09T00:00:00\", \"2000-06-10T00:00:00\", \"2000-06-11T00:00:00\", \"2000-06-12T00:00:00\", \"2000-06-13T00:00:00\", \"2000-06-14T00:00:00\", \"2000-06-15T00:00:00\", \"2000-06-16T00:00:00\", \"2000-06-17T00:00:00\", \"2000-06-18T00:00:00\", \"2000-06-19T00:00:00\", \"2000-06-20T00:00:00\", \"2000-06-21T00:00:00\", \"2000-06-22T00:00:00\", \"2000-06-23T00:00:00\", \"2000-06-24T00:00:00\", \"2000-06-25T00:00:00\", \"2000-06-26T00:00:00\", \"2000-06-27T00:00:00\", \"2000-06-28T00:00:00\", \"2000-06-29T00:00:00\", \"2000-06-30T00:00:00\", \"2000-07-01T00:00:00\", \"2000-07-02T00:00:00\", \"2000-07-03T00:00:00\", \"2000-07-04T00:00:00\", \"2000-07-05T00:00:00\", \"2000-07-06T00:00:00\", \"2000-07-07T00:00:00\", \"2000-07-08T00:00:00\", \"2000-07-09T00:00:00\", \"2000-07-10T00:00:00\", \"2000-07-11T00:00:00\", \"2000-07-12T00:00:00\", \"2000-07-13T00:00:00\", \"2000-07-14T00:00:00\", \"2000-07-15T00:00:00\", \"2000-07-16T00:00:00\", \"2000-07-17T00:00:00\", \"2000-07-18T00:00:00\", \"2000-07-19T00:00:00\", \"2000-07-20T00:00:00\", \"2000-07-21T00:00:00\", \"2000-07-22T00:00:00\", \"2000-07-23T00:00:00\", \"2000-07-24T00:00:00\", \"2000-07-25T00:00:00\", \"2000-07-26T00:00:00\", \"2000-07-27T00:00:00\", \"2000-07-28T00:00:00\", \"2000-07-29T00:00:00\", \"2000-07-30T00:00:00\", \"2000-07-31T00:00:00\", \"2000-08-01T00:00:00\", \"2000-08-02T00:00:00\", \"2000-08-03T00:00:00\", \"2000-08-04T00:00:00\", \"2000-08-05T00:00:00\", \"2000-08-06T00:00:00\", \"2000-08-07T00:00:00\", \"2000-08-08T00:00:00\", \"2000-08-09T00:00:00\", \"2000-08-10T00:00:00\", \"2000-08-11T00:00:00\", \"2000-08-12T00:00:00\", \"2000-08-13T00:00:00\", \"2000-08-14T00:00:00\", \"2000-08-15T00:00:00\", \"2000-08-16T00:00:00\", \"2000-08-17T00:00:00\", \"2000-08-18T00:00:00\", \"2000-08-19T00:00:00\", \"2000-08-20T00:00:00\", \"2000-08-21T00:00:00\", \"2000-08-22T00:00:00\", \"2000-08-23T00:00:00\", \"2000-08-24T00:00:00\", \"2000-08-25T00:00:00\", \"2000-08-26T00:00:00\", \"2000-08-27T00:00:00\", \"2000-08-28T00:00:00\", \"2000-08-29T00:00:00\", \"2000-08-30T00:00:00\", \"2000-08-31T00:00:00\", \"2000-09-01T00:00:00\", \"2000-09-02T00:00:00\", \"2000-09-03T00:00:00\", \"2000-09-04T00:00:00\", \"2000-09-05T00:00:00\", \"2000-09-06T00:00:00\", \"2000-09-07T00:00:00\", \"2000-09-08T00:00:00\", \"2000-09-09T00:00:00\", \"2000-09-10T00:00:00\", \"2000-09-11T00:00:00\", \"2000-09-12T00:00:00\", \"2000-09-13T00:00:00\", \"2000-09-14T00:00:00\", \"2000-09-15T00:00:00\", \"2000-09-16T00:00:00\", \"2000-09-17T00:00:00\", \"2000-09-18T00:00:00\", \"2000-09-19T00:00:00\", \"2000-09-20T00:00:00\", \"2000-09-21T00:00:00\", \"2000-09-22T00:00:00\", \"2000-09-23T00:00:00\", \"2000-09-24T00:00:00\", \"2000-09-25T00:00:00\", \"2000-09-26T00:00:00\", \"2000-09-27T00:00:00\", \"2000-09-28T00:00:00\", \"2000-09-29T00:00:00\", \"2000-09-30T00:00:00\", \"2000-10-01T00:00:00\", \"2000-10-02T00:00:00\", \"2000-10-03T00:00:00\", \"2000-10-04T00:00:00\", \"2000-10-05T00:00:00\", \"2000-10-06T00:00:00\", \"2000-10-07T00:00:00\", \"2000-10-08T00:00:00\", \"2000-10-09T00:00:00\", \"2000-10-10T00:00:00\", \"2000-10-11T00:00:00\", \"2000-10-12T00:00:00\", \"2000-10-13T00:00:00\", \"2000-10-14T00:00:00\", \"2000-10-15T00:00:00\", \"2000-10-16T00:00:00\", \"2000-10-17T00:00:00\", \"2000-10-18T00:00:00\", \"2000-10-19T00:00:00\", \"2000-10-20T00:00:00\", \"2000-10-21T00:00:00\", \"2000-10-22T00:00:00\", \"2000-10-23T00:00:00\", \"2000-10-24T00:00:00\", \"2000-10-26T00:00:00\", \"2000-10-27T00:00:00\", \"2000-10-28T00:00:00\", \"2000-10-29T00:00:00\", \"2000-10-30T00:00:00\", \"2000-10-31T00:00:00\", \"2000-11-01T00:00:00\", \"2000-11-02T00:00:00\", \"2000-11-03T00:00:00\", \"2000-11-04T00:00:00\", \"2000-11-05T00:00:00\", \"2000-11-06T00:00:00\", \"2000-11-07T00:00:00\", \"2000-11-08T00:00:00\", \"2000-11-09T00:00:00\", \"2000-11-10T00:00:00\", \"2000-11-11T00:00:00\", \"2000-11-12T00:00:00\", \"2000-11-13T00:00:00\", \"2000-11-14T00:00:00\", \"2000-11-15T00:00:00\", \"2000-11-16T00:00:00\", \"2000-11-17T00:00:00\", \"2000-11-18T00:00:00\", \"2000-11-19T00:00:00\", \"2000-11-20T00:00:00\", \"2000-11-21T00:00:00\", \"2000-11-22T00:00:00\", \"2000-11-23T00:00:00\", \"2000-11-24T00:00:00\", \"2000-11-25T00:00:00\", \"2000-11-26T00:00:00\", \"2000-11-27T00:00:00\", \"2000-11-28T00:00:00\", \"2000-11-29T00:00:00\", \"2000-11-30T00:00:00\", \"2000-12-01T00:00:00\", \"2000-12-02T00:00:00\", \"2000-12-03T00:00:00\", \"2000-12-04T00:00:00\", \"2000-12-05T00:00:00\", \"2000-12-06T00:00:00\", \"2000-12-07T00:00:00\", \"2000-12-08T00:00:00\", \"2000-12-09T00:00:00\", \"2000-12-10T00:00:00\", \"2000-12-11T00:00:00\", \"2000-12-12T00:00:00\", \"2000-12-13T00:00:00\", \"2000-12-14T00:00:00\", \"2000-12-15T00:00:00\", \"2000-12-16T00:00:00\", \"2000-12-17T00:00:00\", \"2000-12-18T00:00:00\", \"2000-12-19T00:00:00\", \"2000-12-20T00:00:00\", \"2000-12-21T00:00:00\", \"2000-12-22T00:00:00\", \"2000-12-23T00:00:00\", \"2000-12-24T00:00:00\", \"2000-12-25T00:00:00\", \"2000-12-26T00:00:00\", \"2000-12-27T00:00:00\", \"2000-12-28T00:00:00\", \"2000-12-29T00:00:00\", \"2000-12-30T00:00:00\", \"2000-12-31T00:00:00\", \"2001-01-01T00:00:00\", \"2001-01-02T00:00:00\", \"2001-01-03T00:00:00\", \"2001-01-04T00:00:00\", \"2001-01-05T00:00:00\", \"2001-01-06T00:00:00\", \"2001-01-07T00:00:00\", \"2001-01-08T00:00:00\", \"2001-01-09T00:00:00\", \"2001-01-10T00:00:00\", \"2001-01-11T00:00:00\", \"2001-01-12T00:00:00\", \"2001-01-13T00:00:00\", \"2001-01-14T00:00:00\", \"2001-01-15T00:00:00\", \"2001-01-16T00:00:00\", \"2001-01-17T00:00:00\", \"2001-01-18T00:00:00\", \"2001-01-19T00:00:00\", \"2001-01-20T00:00:00\", \"2001-01-21T00:00:00\", \"2001-01-22T00:00:00\", \"2001-01-23T00:00:00\", \"2001-01-24T00:00:00\", \"2001-01-25T00:00:00\", \"2001-01-26T00:00:00\", \"2001-01-27T00:00:00\", \"2001-01-28T00:00:00\", \"2001-01-29T00:00:00\", \"2001-01-30T00:00:00\", \"2001-02-01T00:00:00\", \"2001-02-02T00:00:00\", \"2001-02-03T00:00:00\", \"2001-02-04T00:00:00\", \"2001-02-05T00:00:00\", \"2001-02-06T00:00:00\", \"2001-02-07T00:00:00\", \"2001-02-08T00:00:00\", \"2001-02-09T00:00:00\", \"2001-02-10T00:00:00\", \"2001-02-11T00:00:00\", \"2001-02-12T00:00:00\", \"2001-02-13T00:00:00\", \"2001-02-14T00:00:00\", \"2001-02-15T00:00:00\", \"2001-02-16T00:00:00\", \"2001-02-17T00:00:00\", \"2001-02-18T00:00:00\", \"2001-02-19T00:00:00\", \"2001-02-20T00:00:00\", \"2001-02-21T00:00:00\", \"2001-02-22T00:00:00\", \"2001-02-23T00:00:00\", \"2001-02-24T00:00:00\", \"2001-02-25T00:00:00\", \"2001-02-26T00:00:00\", \"2001-02-27T00:00:00\", \"2001-02-28T00:00:00\", \"2001-03-01T00:00:00\", \"2001-03-02T00:00:00\", \"2001-03-03T00:00:00\", \"2001-03-04T00:00:00\", \"2001-03-05T00:00:00\", \"2001-03-06T00:00:00\", \"2001-03-07T00:00:00\", \"2001-03-08T00:00:00\", \"2001-03-09T00:00:00\", \"2001-03-10T00:00:00\", \"2001-03-11T00:00:00\", \"2001-03-12T00:00:00\", \"2001-03-13T00:00:00\", \"2001-03-14T00:00:00\", \"2001-03-15T00:00:00\", \"2001-03-16T00:00:00\", \"2001-03-17T00:00:00\", \"2001-03-18T00:00:00\", \"2001-03-19T00:00:00\", \"2001-03-20T00:00:00\", \"2001-03-21T00:00:00\", \"2001-03-22T00:00:00\", \"2001-03-23T00:00:00\", \"2001-03-24T00:00:00\", \"2001-03-25T00:00:00\", \"2001-03-26T00:00:00\", \"2001-03-27T00:00:00\", \"2001-03-28T00:00:00\", \"2001-03-29T00:00:00\", \"2001-03-30T00:00:00\", \"2001-03-31T00:00:00\", \"2001-04-01T00:00:00\", \"2001-04-02T00:00:00\", \"2001-04-03T00:00:00\", \"2001-04-04T00:00:00\", \"2001-04-05T00:00:00\", \"2001-04-06T00:00:00\", \"2001-04-07T00:00:00\", \"2001-04-08T00:00:00\", \"2001-04-09T00:00:00\", \"2001-04-10T00:00:00\", \"2001-04-11T00:00:00\", \"2001-04-12T00:00:00\", \"2001-04-13T00:00:00\", \"2001-04-14T00:00:00\", \"2001-04-15T00:00:00\", \"2001-04-16T00:00:00\", \"2001-04-17T00:00:00\", \"2001-04-18T00:00:00\", \"2001-04-19T00:00:00\", \"2001-04-20T00:00:00\", \"2001-04-21T00:00:00\", \"2001-04-22T00:00:00\", \"2001-04-23T00:00:00\", \"2001-04-24T00:00:00\", \"2001-04-25T00:00:00\", \"2001-04-26T00:00:00\", \"2001-04-27T00:00:00\", \"2001-04-28T00:00:00\", \"2001-04-29T00:00:00\", \"2001-04-30T00:00:00\", \"2001-05-01T00:00:00\", \"2001-05-02T00:00:00\", \"2001-05-03T00:00:00\", \"2001-05-04T00:00:00\", \"2001-05-05T00:00:00\", \"2001-05-06T00:00:00\", \"2001-05-07T00:00:00\", \"2001-05-08T00:00:00\", \"2001-05-09T00:00:00\", \"2001-05-10T00:00:00\", \"2001-05-11T00:00:00\", \"2001-05-12T00:00:00\", \"2001-05-13T00:00:00\", \"2001-05-14T00:00:00\", \"2001-05-15T00:00:00\", \"2001-05-16T00:00:00\", \"2001-05-17T00:00:00\", \"2001-05-18T00:00:00\", \"2001-05-19T00:00:00\", \"2001-05-20T00:00:00\", \"2001-05-21T00:00:00\", \"2001-05-22T00:00:00\", \"2001-05-23T00:00:00\", \"2001-05-24T00:00:00\", \"2001-05-25T00:00:00\", \"2001-05-26T00:00:00\", \"2001-05-27T00:00:00\", \"2001-05-28T00:00:00\", \"2001-05-29T00:00:00\", \"2001-05-30T00:00:00\", \"2001-05-31T00:00:00\", \"2001-06-01T00:00:00\", \"2001-06-02T00:00:00\", \"2001-06-03T00:00:00\", \"2001-06-04T00:00:00\", \"2001-06-05T00:00:00\", \"2001-06-06T00:00:00\", \"2001-06-07T00:00:00\", \"2001-06-08T00:00:00\", \"2001-06-09T00:00:00\", \"2001-06-10T00:00:00\", \"2001-06-11T00:00:00\", \"2001-06-12T00:00:00\", \"2001-06-13T00:00:00\", \"2001-06-14T00:00:00\", \"2001-06-15T00:00:00\", \"2001-06-16T00:00:00\", \"2001-06-17T00:00:00\", \"2001-06-18T00:00:00\", \"2001-06-19T00:00:00\", \"2001-06-20T00:00:00\", \"2001-06-21T00:00:00\", \"2001-06-22T00:00:00\", \"2001-06-23T00:00:00\", \"2001-06-24T00:00:00\", \"2001-06-25T00:00:00\", \"2001-06-26T00:00:00\", \"2001-06-27T00:00:00\", \"2001-06-28T00:00:00\", \"2001-06-29T00:00:00\", \"2001-06-30T00:00:00\", \"2001-07-01T00:00:00\", \"2001-07-02T00:00:00\", \"2001-07-03T00:00:00\", \"2001-07-04T00:00:00\", \"2001-07-05T00:00:00\", \"2001-07-06T00:00:00\", \"2001-07-07T00:00:00\", \"2001-07-08T00:00:00\", \"2001-07-09T00:00:00\", \"2001-07-10T00:00:00\", \"2001-07-11T00:00:00\", \"2001-07-12T00:00:00\", \"2001-07-13T00:00:00\", \"2001-07-14T00:00:00\", \"2001-07-15T00:00:00\", \"2001-07-16T00:00:00\", \"2001-07-17T00:00:00\", \"2001-07-18T00:00:00\", \"2001-07-19T00:00:00\", \"2001-07-20T00:00:00\", \"2001-07-21T00:00:00\", \"2001-07-22T00:00:00\", \"2001-07-23T00:00:00\", \"2001-07-24T00:00:00\", \"2001-07-25T00:00:00\", \"2001-07-26T00:00:00\", \"2001-07-27T00:00:00\", \"2001-07-28T00:00:00\", \"2001-07-29T00:00:00\", \"2001-07-30T00:00:00\", \"2001-07-31T00:00:00\", \"2001-08-01T00:00:00\", \"2001-08-02T00:00:00\", \"2001-08-03T00:00:00\", \"2001-08-04T00:00:00\", \"2001-08-05T00:00:00\", \"2001-08-06T00:00:00\", \"2001-08-07T00:00:00\", \"2001-08-08T00:00:00\", \"2001-08-09T00:00:00\", \"2001-08-10T00:00:00\", \"2001-08-11T00:00:00\", \"2001-08-12T00:00:00\", \"2001-08-13T00:00:00\", \"2001-08-14T00:00:00\", \"2001-08-15T00:00:00\", \"2001-08-16T00:00:00\", \"2001-08-17T00:00:00\", \"2001-08-18T00:00:00\", \"2001-08-19T00:00:00\", \"2001-08-20T00:00:00\", \"2001-08-21T00:00:00\", \"2001-08-22T00:00:00\", \"2001-08-23T00:00:00\", \"2001-08-24T00:00:00\", \"2001-08-25T00:00:00\", \"2001-08-26T00:00:00\", \"2001-08-27T00:00:00\", \"2001-08-28T00:00:00\", \"2001-08-29T00:00:00\", \"2001-08-30T00:00:00\", \"2001-08-31T00:00:00\", \"2001-09-01T00:00:00\", \"2001-09-02T00:00:00\", \"2001-09-03T00:00:00\", \"2001-09-04T00:00:00\", \"2001-09-05T00:00:00\", \"2001-09-06T00:00:00\", \"2001-09-07T00:00:00\", \"2001-09-08T00:00:00\", \"2001-09-09T00:00:00\", \"2001-09-10T00:00:00\", \"2001-09-11T00:00:00\", \"2001-09-12T00:00:00\", \"2001-09-13T00:00:00\", \"2001-09-14T00:00:00\", \"2001-09-15T00:00:00\", \"2001-09-16T00:00:00\", \"2001-09-17T00:00:00\", \"2001-09-18T00:00:00\", \"2001-09-19T00:00:00\", \"2001-09-20T00:00:00\", \"2001-09-21T00:00:00\", \"2001-09-22T00:00:00\", \"2001-09-23T00:00:00\", \"2001-09-24T00:00:00\", \"2001-09-25T00:00:00\", \"2001-09-26T00:00:00\", \"2001-09-27T00:00:00\", \"2001-09-28T00:00:00\", \"2001-09-29T00:00:00\", \"2001-09-30T00:00:00\", \"2001-10-01T00:00:00\", \"2001-10-02T00:00:00\", \"2001-10-03T00:00:00\", \"2001-10-04T00:00:00\", \"2001-10-05T00:00:00\", \"2001-10-06T00:00:00\", \"2001-10-07T00:00:00\", \"2001-10-08T00:00:00\", \"2001-10-09T00:00:00\", \"2001-10-10T00:00:00\", \"2001-10-11T00:00:00\", \"2001-10-12T00:00:00\", \"2001-10-13T00:00:00\", \"2001-10-14T00:00:00\", \"2001-10-15T00:00:00\", \"2001-10-16T00:00:00\", \"2001-10-17T00:00:00\", \"2001-10-18T00:00:00\", \"2001-10-19T00:00:00\", \"2001-10-20T00:00:00\", \"2001-10-21T00:00:00\", \"2001-10-22T00:00:00\", \"2001-10-23T00:00:00\", \"2001-10-24T00:00:00\", \"2001-10-25T00:00:00\", \"2001-10-26T00:00:00\", \"2001-10-27T00:00:00\", \"2001-10-28T00:00:00\", \"2001-10-29T00:00:00\", \"2001-10-30T00:00:00\", \"2001-10-31T00:00:00\", \"2001-11-01T00:00:00\", \"2001-11-02T00:00:00\", \"2001-11-03T00:00:00\", \"2001-11-04T00:00:00\", \"2001-11-05T00:00:00\", \"2001-11-06T00:00:00\", \"2001-11-07T00:00:00\", \"2001-11-08T00:00:00\", \"2001-11-09T00:00:00\", \"2001-11-10T00:00:00\", \"2001-11-11T00:00:00\", \"2001-11-12T00:00:00\", \"2001-11-13T00:00:00\", \"2001-11-14T00:00:00\", \"2001-11-15T00:00:00\", \"2001-11-16T00:00:00\", \"2001-11-17T00:00:00\", \"2001-11-18T00:00:00\", \"2001-11-19T00:00:00\", \"2001-11-20T00:00:00\", \"2001-11-21T00:00:00\", \"2001-11-22T00:00:00\", \"2001-11-23T00:00:00\", \"2001-11-24T00:00:00\", \"2001-11-25T00:00:00\", \"2001-11-26T00:00:00\", \"2001-11-27T00:00:00\", \"2001-11-28T00:00:00\", \"2001-11-29T00:00:00\", \"2001-11-30T00:00:00\", \"2001-12-01T00:00:00\", \"2001-12-02T00:00:00\", \"2001-12-03T00:00:00\", \"2001-12-04T00:00:00\", \"2001-12-05T00:00:00\", \"2001-12-06T00:00:00\", \"2001-12-07T00:00:00\", \"2001-12-08T00:00:00\", \"2001-12-09T00:00:00\", \"2001-12-10T00:00:00\", \"2001-12-11T00:00:00\", \"2001-12-12T00:00:00\", \"2001-12-13T00:00:00\", \"2001-12-14T00:00:00\", \"2001-12-15T00:00:00\", \"2001-12-16T00:00:00\", \"2001-12-17T00:00:00\", \"2001-12-18T00:00:00\", \"2001-12-19T00:00:00\", \"2001-12-20T00:00:00\", \"2001-12-21T00:00:00\", \"2001-12-22T00:00:00\", \"2001-12-23T00:00:00\", \"2001-12-24T00:00:00\", \"2001-12-25T00:00:00\", \"2001-12-26T00:00:00\", \"2001-12-27T00:00:00\", \"2001-12-28T00:00:00\", \"2001-12-29T00:00:00\", \"2001-12-30T00:00:00\", \"2001-12-31T00:00:00\", \"2002-01-01T00:00:00\", \"2002-01-02T00:00:00\", \"2002-01-03T00:00:00\", \"2002-01-04T00:00:00\", \"2002-01-05T00:00:00\", \"2002-01-06T00:00:00\", \"2002-01-07T00:00:00\", \"2002-01-08T00:00:00\", \"2002-01-09T00:00:00\", \"2002-01-10T00:00:00\", \"2002-01-11T00:00:00\", \"2002-01-12T00:00:00\", \"2002-01-13T00:00:00\", \"2002-01-14T00:00:00\", \"2002-01-15T00:00:00\", \"2002-01-16T00:00:00\", \"2002-01-17T00:00:00\", \"2002-01-18T00:00:00\", \"2002-01-19T00:00:00\", \"2002-01-20T00:00:00\", \"2002-01-21T00:00:00\", \"2002-01-22T00:00:00\", \"2002-01-23T00:00:00\", \"2002-01-24T00:00:00\", \"2002-01-25T00:00:00\", \"2002-01-26T00:00:00\", \"2002-01-27T00:00:00\", \"2002-01-28T00:00:00\", \"2002-01-29T00:00:00\", \"2002-01-30T00:00:00\", \"2002-01-31T00:00:00\", \"2002-02-01T00:00:00\", \"2002-02-02T00:00:00\", \"2002-02-03T00:00:00\", \"2002-02-04T00:00:00\", \"2002-02-05T00:00:00\", \"2002-02-06T00:00:00\", \"2002-02-07T00:00:00\", \"2002-02-08T00:00:00\", \"2002-02-09T00:00:00\", \"2002-02-10T00:00:00\", \"2002-02-11T00:00:00\", \"2002-02-12T00:00:00\", \"2002-02-13T00:00:00\", \"2002-02-14T00:00:00\", \"2002-02-15T00:00:00\", \"2002-02-16T00:00:00\", \"2002-02-17T00:00:00\", \"2002-02-18T00:00:00\", \"2002-02-19T00:00:00\", \"2002-02-20T00:00:00\", \"2002-02-21T00:00:00\", \"2002-02-22T00:00:00\", \"2002-02-23T00:00:00\", \"2002-02-24T00:00:00\", \"2002-02-25T00:00:00\", \"2002-02-26T00:00:00\", \"2002-02-27T00:00:00\", \"2002-02-28T00:00:00\", \"2002-03-01T00:00:00\", \"2002-03-02T00:00:00\", \"2002-03-03T00:00:00\", \"2002-03-04T00:00:00\", \"2002-03-05T00:00:00\", \"2002-03-06T00:00:00\", \"2002-03-07T00:00:00\", \"2002-03-08T00:00:00\", \"2002-03-09T00:00:00\", \"2002-03-10T00:00:00\", \"2002-03-11T00:00:00\", \"2002-03-12T00:00:00\", \"2002-03-13T00:00:00\", \"2002-03-14T00:00:00\", \"2002-03-15T00:00:00\", \"2002-03-16T00:00:00\", \"2002-03-17T00:00:00\", \"2002-03-18T00:00:00\", \"2002-03-19T00:00:00\", \"2002-03-20T00:00:00\", \"2002-03-21T00:00:00\", \"2002-03-22T00:00:00\", \"2002-03-23T00:00:00\", \"2002-03-24T00:00:00\", \"2002-03-25T00:00:00\", \"2002-03-26T00:00:00\", \"2002-03-27T00:00:00\", \"2002-03-28T00:00:00\", \"2002-03-29T00:00:00\", \"2002-03-30T00:00:00\", \"2002-03-31T00:00:00\", \"2002-04-01T00:00:00\", \"2002-04-02T00:00:00\", \"2002-04-03T00:00:00\", \"2002-04-04T00:00:00\", \"2002-04-05T00:00:00\", \"2002-04-06T00:00:00\", \"2002-04-07T00:00:00\", \"2002-04-08T00:00:00\", \"2002-04-09T00:00:00\", \"2002-04-10T00:00:00\", \"2002-04-11T00:00:00\", \"2002-04-12T00:00:00\", \"2002-04-13T00:00:00\", \"2002-04-14T00:00:00\", \"2002-04-15T00:00:00\", \"2002-04-16T00:00:00\", \"2002-04-17T00:00:00\", \"2002-04-18T00:00:00\", \"2002-04-19T00:00:00\", \"2002-04-20T00:00:00\", \"2002-04-21T00:00:00\", \"2002-04-22T00:00:00\", \"2002-04-23T00:00:00\", \"2002-04-24T00:00:00\", \"2002-04-25T00:00:00\", \"2002-04-26T00:00:00\", \"2002-04-27T00:00:00\", \"2002-04-28T00:00:00\", \"2002-04-29T00:00:00\", \"2002-04-30T00:00:00\", \"2002-05-01T00:00:00\", \"2002-05-02T00:00:00\", \"2002-05-03T00:00:00\", \"2002-05-04T00:00:00\", \"2002-05-05T00:00:00\", \"2002-05-06T00:00:00\", \"2002-05-07T00:00:00\", \"2002-05-08T00:00:00\", \"2002-05-09T00:00:00\", \"2002-05-10T00:00:00\", \"2002-05-11T00:00:00\", \"2002-05-12T00:00:00\", \"2002-05-13T00:00:00\", \"2002-05-14T00:00:00\", \"2002-05-15T00:00:00\", \"2002-05-16T00:00:00\", \"2002-05-17T00:00:00\", \"2002-05-18T00:00:00\", \"2002-05-19T00:00:00\", \"2002-05-20T00:00:00\", \"2002-05-21T00:00:00\", \"2002-05-22T00:00:00\", \"2002-05-23T00:00:00\", \"2002-05-24T00:00:00\", \"2002-05-25T00:00:00\", \"2002-05-26T00:00:00\", \"2002-05-27T00:00:00\", \"2002-05-28T00:00:00\", \"2002-05-29T00:00:00\", \"2002-05-30T00:00:00\", \"2002-05-31T00:00:00\", \"2002-06-01T00:00:00\", \"2002-06-02T00:00:00\", \"2002-06-03T00:00:00\", \"2002-06-04T00:00:00\", \"2002-06-05T00:00:00\", \"2002-06-06T00:00:00\", \"2002-06-07T00:00:00\", \"2002-06-08T00:00:00\", \"2002-06-09T00:00:00\", \"2002-06-10T00:00:00\", \"2002-06-11T00:00:00\", \"2002-06-12T00:00:00\", \"2002-06-13T00:00:00\", \"2002-06-14T00:00:00\", \"2002-06-15T00:00:00\", \"2002-06-16T00:00:00\", \"2002-06-17T00:00:00\", \"2002-06-18T00:00:00\", \"2002-06-19T00:00:00\", \"2002-06-20T00:00:00\", \"2002-06-21T00:00:00\", \"2002-06-22T00:00:00\", \"2002-06-23T00:00:00\", \"2002-06-24T00:00:00\", \"2002-06-25T00:00:00\", \"2002-06-26T00:00:00\", \"2002-06-27T00:00:00\", \"2002-06-28T00:00:00\", \"2002-06-29T00:00:00\", \"2002-06-30T00:00:00\", \"2002-07-01T00:00:00\", \"2002-07-02T00:00:00\", \"2002-07-03T00:00:00\", \"2002-07-04T00:00:00\", \"2002-07-05T00:00:00\", \"2002-07-06T00:00:00\", \"2002-07-07T00:00:00\", \"2002-07-08T00:00:00\", \"2002-07-09T00:00:00\", \"2002-07-10T00:00:00\", \"2002-07-11T00:00:00\", \"2002-07-12T00:00:00\", \"2002-07-13T00:00:00\", \"2002-07-14T00:00:00\", \"2002-07-15T00:00:00\", \"2002-07-16T00:00:00\", \"2002-07-17T00:00:00\", \"2002-07-18T00:00:00\", \"2002-07-19T00:00:00\", \"2002-07-20T00:00:00\", \"2002-07-21T00:00:00\", \"2002-07-22T00:00:00\", \"2002-07-23T00:00:00\", \"2002-07-24T00:00:00\", \"2002-07-25T00:00:00\", \"2002-07-26T00:00:00\", \"2002-07-27T00:00:00\", \"2002-07-28T00:00:00\", \"2002-07-29T00:00:00\", \"2002-07-30T00:00:00\", \"2002-07-31T00:00:00\", \"2002-08-01T00:00:00\", \"2002-08-02T00:00:00\", \"2002-08-03T00:00:00\", \"2002-08-04T00:00:00\", \"2002-08-05T00:00:00\", \"2002-08-06T00:00:00\", \"2002-08-07T00:00:00\", \"2002-08-08T00:00:00\", \"2002-08-09T00:00:00\", \"2002-08-10T00:00:00\", \"2002-08-11T00:00:00\", \"2002-08-12T00:00:00\", \"2002-08-13T00:00:00\", \"2002-08-14T00:00:00\", \"2002-08-15T00:00:00\", \"2002-08-16T00:00:00\", \"2002-08-17T00:00:00\", \"2002-08-18T00:00:00\", \"2002-08-19T00:00:00\", \"2002-08-20T00:00:00\", \"2002-08-21T00:00:00\", \"2002-08-22T00:00:00\", \"2002-08-23T00:00:00\", \"2002-08-24T00:00:00\", \"2002-08-25T00:00:00\", \"2002-08-26T00:00:00\", \"2002-08-27T00:00:00\", \"2002-08-28T00:00:00\", \"2002-08-29T00:00:00\", \"2002-08-30T00:00:00\", \"2002-08-31T00:00:00\", \"2002-09-01T00:00:00\", \"2002-09-02T00:00:00\", \"2002-09-03T00:00:00\", \"2002-09-04T00:00:00\", \"2002-09-05T00:00:00\", \"2002-09-06T00:00:00\", \"2002-09-07T00:00:00\", \"2002-09-08T00:00:00\", \"2002-09-09T00:00:00\", \"2002-09-10T00:00:00\", \"2002-09-11T00:00:00\", \"2002-09-12T00:00:00\", \"2002-09-13T00:00:00\", \"2002-09-14T00:00:00\", \"2002-09-15T00:00:00\", \"2002-09-16T00:00:00\", \"2002-09-17T00:00:00\", \"2002-09-18T00:00:00\", \"2002-09-19T00:00:00\", \"2002-09-20T00:00:00\", \"2002-09-21T00:00:00\", \"2002-09-22T00:00:00\", \"2002-09-23T00:00:00\", \"2002-09-24T00:00:00\", \"2002-09-25T00:00:00\", \"2002-09-26T00:00:00\", \"2002-09-27T00:00:00\", \"2002-09-28T00:00:00\", \"2002-09-29T00:00:00\", \"2002-09-30T00:00:00\", \"2002-10-01T00:00:00\", \"2002-10-02T00:00:00\", \"2002-10-03T00:00:00\", \"2002-10-04T00:00:00\", \"2002-10-05T00:00:00\", \"2002-10-06T00:00:00\", \"2002-10-07T00:00:00\", \"2002-10-08T00:00:00\", \"2002-10-09T00:00:00\", \"2002-10-10T00:00:00\", \"2002-10-11T00:00:00\", \"2002-10-12T00:00:00\", \"2002-10-13T00:00:00\", \"2002-10-14T00:00:00\", \"2002-10-15T00:00:00\", \"2002-10-16T00:00:00\", \"2002-10-17T00:00:00\", \"2002-10-18T00:00:00\", \"2002-10-19T00:00:00\", \"2002-10-20T00:00:00\", \"2002-10-21T00:00:00\", \"2002-10-22T00:00:00\", \"2002-10-23T00:00:00\", \"2002-10-24T00:00:00\", \"2002-10-25T00:00:00\", \"2002-10-26T00:00:00\", \"2002-10-27T00:00:00\", \"2002-10-28T00:00:00\", \"2002-10-29T00:00:00\", \"2002-10-30T00:00:00\", \"2002-10-31T00:00:00\", \"2002-11-01T00:00:00\", \"2002-11-02T00:00:00\", \"2002-11-03T00:00:00\", \"2002-11-04T00:00:00\", \"2002-11-05T00:00:00\", \"2002-11-06T00:00:00\", \"2002-11-07T00:00:00\", \"2002-11-08T00:00:00\", \"2002-11-09T00:00:00\", \"2002-11-10T00:00:00\", \"2002-11-11T00:00:00\", \"2002-11-12T00:00:00\", \"2002-11-13T00:00:00\", \"2002-11-14T00:00:00\", \"2002-11-15T00:00:00\", \"2002-11-16T00:00:00\", \"2002-11-17T00:00:00\", \"2002-11-18T00:00:00\", \"2002-11-19T00:00:00\", \"2002-11-20T00:00:00\", \"2002-11-21T00:00:00\", \"2002-11-22T00:00:00\", \"2002-11-23T00:00:00\", \"2002-11-24T00:00:00\", \"2002-11-25T00:00:00\", \"2002-11-26T00:00:00\", \"2002-11-27T00:00:00\", \"2002-11-28T00:00:00\", \"2002-11-29T00:00:00\", \"2002-11-30T00:00:00\", \"2002-12-01T00:00:00\", \"2002-12-02T00:00:00\", \"2002-12-03T00:00:00\", \"2002-12-04T00:00:00\", \"2002-12-05T00:00:00\", \"2002-12-06T00:00:00\", \"2002-12-07T00:00:00\", \"2002-12-08T00:00:00\", \"2002-12-09T00:00:00\", \"2002-12-10T00:00:00\", \"2002-12-11T00:00:00\", \"2002-12-14T00:00:00\", \"2002-12-15T00:00:00\", \"2002-12-16T00:00:00\", \"2002-12-17T00:00:00\", \"2002-12-18T00:00:00\", \"2002-12-19T00:00:00\", \"2002-12-20T00:00:00\", \"2002-12-21T00:00:00\", \"2002-12-22T00:00:00\", \"2002-12-23T00:00:00\", \"2002-12-24T00:00:00\", \"2002-12-25T00:00:00\", \"2002-12-26T00:00:00\", \"2002-12-27T00:00:00\", \"2002-12-28T00:00:00\", \"2002-12-29T00:00:00\", \"2002-12-30T00:00:00\", \"2002-12-31T00:00:00\", \"2003-01-01T00:00:00\", \"2003-01-02T00:00:00\", \"2003-01-03T00:00:00\", \"2003-01-04T00:00:00\", \"2003-01-05T00:00:00\", \"2003-01-06T00:00:00\", \"2003-01-07T00:00:00\", \"2003-01-08T00:00:00\", \"2003-01-09T00:00:00\", \"2003-01-10T00:00:00\", \"2003-01-11T00:00:00\", \"2003-01-12T00:00:00\", \"2003-01-13T00:00:00\", \"2003-01-14T00:00:00\", \"2003-01-15T00:00:00\", \"2003-01-16T00:00:00\", \"2003-01-17T00:00:00\", \"2003-01-18T00:00:00\", \"2003-01-19T00:00:00\", \"2003-01-20T00:00:00\", \"2003-01-21T00:00:00\", \"2003-01-22T00:00:00\", \"2003-01-23T00:00:00\", \"2003-01-24T00:00:00\", \"2003-01-25T00:00:00\", \"2003-01-26T00:00:00\", \"2003-01-27T00:00:00\", \"2003-02-11T00:00:00\", \"2003-02-12T00:00:00\", \"2003-02-13T00:00:00\", \"2003-02-14T00:00:00\", \"2003-02-15T00:00:00\", \"2003-02-16T00:00:00\", \"2003-02-17T00:00:00\", \"2003-02-18T00:00:00\", \"2003-02-20T00:00:00\", \"2003-02-21T00:00:00\", \"2003-02-23T00:00:00\", \"2003-02-24T00:00:00\", \"2003-02-26T00:00:00\", \"2003-02-27T00:00:00\", \"2003-02-28T00:00:00\", \"2003-03-03T00:00:00\", \"2003-03-04T00:00:00\", \"2003-03-05T00:00:00\", \"2003-03-06T00:00:00\", \"2003-03-07T00:00:00\", \"2003-03-08T00:00:00\", \"2003-03-09T00:00:00\", \"2003-03-10T00:00:00\", \"2003-03-11T00:00:00\", \"2003-03-12T00:00:00\", \"2003-03-13T00:00:00\", \"2003-03-14T00:00:00\", \"2003-03-15T00:00:00\", \"2003-03-16T00:00:00\", \"2003-03-17T00:00:00\", \"2003-03-18T00:00:00\", \"2003-03-19T00:00:00\", \"2003-03-20T00:00:00\", \"2003-03-21T00:00:00\", \"2003-03-22T00:00:00\", \"2003-03-23T00:00:00\", \"2003-03-24T00:00:00\", \"2003-03-25T00:00:00\", \"2003-03-26T00:00:00\", \"2003-03-27T00:00:00\", \"2003-03-28T00:00:00\", \"2003-03-29T00:00:00\", \"2003-03-30T00:00:00\", \"2003-03-31T00:00:00\", \"2003-04-01T00:00:00\", \"2003-04-02T00:00:00\", \"2003-04-03T00:00:00\", \"2003-04-04T00:00:00\", \"2003-04-05T00:00:00\", \"2003-04-06T00:00:00\", \"2003-04-07T00:00:00\", \"2003-04-08T00:00:00\", \"2003-04-09T00:00:00\", \"2003-04-10T00:00:00\", \"2003-04-11T00:00:00\", \"2003-04-12T00:00:00\", \"2003-04-13T00:00:00\", \"2003-04-14T00:00:00\", \"2003-04-15T00:00:00\", \"2003-04-16T00:00:00\", \"2003-04-17T00:00:00\", \"2003-04-18T00:00:00\", \"2003-04-19T00:00:00\", \"2003-04-20T00:00:00\", \"2003-04-21T00:00:00\", \"2003-04-22T00:00:00\", \"2003-04-23T00:00:00\", \"2003-04-24T00:00:00\", \"2003-04-25T00:00:00\", \"2003-04-26T00:00:00\", \"2003-04-27T00:00:00\", \"2003-04-28T00:00:00\", \"2003-04-29T00:00:00\", \"2003-04-30T00:00:00\", \"2003-05-01T00:00:00\", \"2003-05-02T00:00:00\", \"2003-05-03T00:00:00\", \"2003-05-04T00:00:00\", \"2003-05-05T00:00:00\", \"2003-05-06T00:00:00\", \"2003-05-07T00:00:00\", \"2003-05-08T00:00:00\", \"2003-05-09T00:00:00\", \"2003-05-10T00:00:00\", \"2003-05-11T00:00:00\", \"2003-05-12T00:00:00\", \"2003-05-13T00:00:00\", \"2003-05-14T00:00:00\", \"2003-05-15T00:00:00\", \"2003-05-16T00:00:00\", \"2003-05-17T00:00:00\", \"2003-05-18T00:00:00\", \"2003-05-19T00:00:00\", \"2003-05-20T00:00:00\", \"2003-05-21T00:00:00\", \"2003-05-22T00:00:00\", \"2003-05-23T00:00:00\", \"2003-05-24T00:00:00\", \"2003-05-25T00:00:00\", \"2003-05-26T00:00:00\", \"2003-05-27T00:00:00\", \"2003-05-28T00:00:00\", \"2003-05-29T00:00:00\", \"2003-05-30T00:00:00\", \"2003-05-31T00:00:00\", \"2003-06-01T00:00:00\", \"2003-06-02T00:00:00\", \"2003-06-03T00:00:00\", \"2003-06-04T00:00:00\", \"2003-06-05T00:00:00\", \"2003-06-06T00:00:00\", \"2003-06-07T00:00:00\", \"2003-06-08T00:00:00\", \"2003-06-09T00:00:00\", \"2003-06-10T00:00:00\", \"2003-06-11T00:00:00\", \"2003-06-12T00:00:00\", \"2003-06-13T00:00:00\", \"2003-06-14T00:00:00\", \"2003-06-15T00:00:00\", \"2003-06-16T00:00:00\", \"2003-06-17T00:00:00\", \"2003-06-18T00:00:00\", \"2003-06-19T00:00:00\", \"2003-06-20T00:00:00\", \"2003-06-21T00:00:00\", \"2003-06-22T00:00:00\", \"2003-06-23T00:00:00\", \"2003-06-24T00:00:00\", \"2003-06-25T00:00:00\", \"2003-06-26T00:00:00\", \"2003-06-27T00:00:00\", \"2003-06-28T00:00:00\", \"2003-06-29T00:00:00\", \"2003-06-30T00:00:00\", \"2003-07-01T00:00:00\", \"2003-07-02T00:00:00\", \"2003-07-03T00:00:00\", \"2003-07-04T00:00:00\", \"2003-07-05T00:00:00\", \"2003-07-06T00:00:00\", \"2003-07-07T00:00:00\", \"2003-07-08T00:00:00\", \"2003-07-09T00:00:00\", \"2003-07-10T00:00:00\", \"2003-07-11T00:00:00\", \"2003-07-12T00:00:00\", \"2003-07-13T00:00:00\", \"2003-07-14T00:00:00\", \"2003-07-15T00:00:00\", \"2003-07-16T00:00:00\", \"2003-07-17T00:00:00\", \"2003-07-18T00:00:00\", \"2003-07-19T00:00:00\", \"2003-07-20T00:00:00\", \"2003-07-21T00:00:00\", \"2003-07-22T00:00:00\", \"2003-07-23T00:00:00\", \"2003-07-24T00:00:00\", \"2003-07-25T00:00:00\", \"2003-07-26T00:00:00\", \"2003-07-27T00:00:00\", \"2003-07-28T00:00:00\", \"2003-07-29T00:00:00\", \"2003-07-30T00:00:00\", \"2003-07-31T00:00:00\", \"2003-08-01T00:00:00\", \"2003-08-02T00:00:00\", \"2003-08-03T00:00:00\", \"2003-08-04T00:00:00\", \"2003-08-05T00:00:00\", \"2003-08-06T00:00:00\", \"2003-08-07T00:00:00\", \"2003-08-08T00:00:00\", \"2003-08-09T00:00:00\", \"2003-08-10T00:00:00\", \"2003-08-11T00:00:00\", \"2003-08-12T00:00:00\", \"2003-08-13T00:00:00\", \"2003-08-14T00:00:00\", \"2003-08-15T00:00:00\", \"2003-08-16T00:00:00\", \"2003-08-17T00:00:00\", \"2003-08-18T00:00:00\", \"2003-08-19T00:00:00\", \"2003-08-20T00:00:00\", \"2003-08-21T00:00:00\", \"2003-08-22T00:00:00\", \"2003-08-23T00:00:00\", \"2003-08-24T00:00:00\", \"2003-08-25T00:00:00\", \"2003-08-26T00:00:00\", \"2003-08-27T00:00:00\", \"2003-08-28T00:00:00\", \"2003-08-29T00:00:00\", \"2003-08-30T00:00:00\", \"2003-08-31T00:00:00\", \"2003-09-01T00:00:00\", \"2003-09-02T00:00:00\", \"2003-09-03T00:00:00\", \"2003-09-04T00:00:00\", \"2003-09-05T00:00:00\", \"2003-09-06T00:00:00\", \"2003-09-07T00:00:00\", \"2003-09-08T00:00:00\", \"2003-09-09T00:00:00\", \"2003-09-10T00:00:00\", \"2003-09-11T00:00:00\", \"2003-09-12T00:00:00\", \"2003-09-13T00:00:00\", \"2003-09-14T00:00:00\", \"2003-09-15T00:00:00\", \"2003-09-16T00:00:00\", \"2003-09-17T00:00:00\", \"2003-09-18T00:00:00\", \"2003-09-19T00:00:00\", \"2003-09-20T00:00:00\", \"2003-09-21T00:00:00\", \"2003-09-22T00:00:00\", \"2003-09-23T00:00:00\", \"2003-09-24T00:00:00\", \"2003-09-25T00:00:00\", \"2003-09-26T00:00:00\", \"2003-09-27T00:00:00\", \"2003-09-28T00:00:00\", \"2003-09-29T00:00:00\", \"2003-09-30T00:00:00\", \"2003-10-01T00:00:00\", \"2003-10-02T00:00:00\", \"2003-10-03T00:00:00\", \"2003-10-04T00:00:00\", \"2003-10-05T00:00:00\", \"2003-10-06T00:00:00\", \"2003-10-07T00:00:00\", \"2003-10-08T00:00:00\", \"2003-10-09T00:00:00\", \"2003-10-10T00:00:00\", \"2003-10-11T00:00:00\", \"2003-10-12T00:00:00\", \"2003-10-13T00:00:00\", \"2003-10-14T00:00:00\", \"2003-10-15T00:00:00\", \"2003-10-16T00:00:00\", \"2003-10-17T00:00:00\", \"2003-10-18T00:00:00\", \"2003-10-19T00:00:00\", \"2003-10-20T00:00:00\", \"2003-10-21T00:00:00\", \"2003-10-22T00:00:00\", \"2003-10-23T00:00:00\", \"2003-10-24T00:00:00\", \"2003-10-25T00:00:00\", \"2003-10-26T00:00:00\", \"2003-10-27T00:00:00\", \"2003-10-28T00:00:00\", \"2003-10-29T00:00:00\", \"2003-10-30T00:00:00\", \"2003-10-31T00:00:00\", \"2003-11-01T00:00:00\", \"2003-11-02T00:00:00\", \"2003-11-03T00:00:00\", \"2003-11-04T00:00:00\", \"2003-11-05T00:00:00\", \"2003-11-06T00:00:00\", \"2003-11-07T00:00:00\", \"2003-11-08T00:00:00\", \"2003-11-09T00:00:00\", \"2003-11-10T00:00:00\", \"2003-11-11T00:00:00\", \"2003-11-12T00:00:00\", \"2003-11-13T00:00:00\", \"2003-11-14T00:00:00\", \"2003-11-15T00:00:00\", \"2003-11-16T00:00:00\", \"2003-11-17T00:00:00\", \"2003-11-18T00:00:00\", \"2003-11-19T00:00:00\", \"2003-11-20T00:00:00\", \"2003-11-21T00:00:00\", \"2003-11-22T00:00:00\", \"2003-11-23T00:00:00\", \"2003-11-24T00:00:00\", \"2003-11-25T00:00:00\", \"2003-11-26T00:00:00\", \"2003-11-27T00:00:00\", \"2003-11-28T00:00:00\", \"2003-11-29T00:00:00\", \"2003-11-30T00:00:00\", \"2003-12-01T00:00:00\", \"2003-12-02T00:00:00\", \"2003-12-03T00:00:00\", \"2003-12-04T00:00:00\", \"2003-12-05T00:00:00\", \"2003-12-06T00:00:00\", \"2003-12-07T00:00:00\", \"2003-12-08T00:00:00\", \"2003-12-09T00:00:00\", \"2003-12-10T00:00:00\", \"2003-12-11T00:00:00\", \"2003-12-12T00:00:00\", \"2003-12-13T00:00:00\", \"2003-12-14T00:00:00\", \"2003-12-15T00:00:00\", \"2003-12-16T00:00:00\", \"2003-12-17T00:00:00\", \"2003-12-18T00:00:00\", \"2003-12-19T00:00:00\", \"2003-12-20T00:00:00\", \"2003-12-21T00:00:00\", \"2003-12-22T00:00:00\", \"2003-12-23T00:00:00\", \"2003-12-24T00:00:00\", \"2003-12-25T00:00:00\", \"2003-12-26T00:00:00\", \"2003-12-27T00:00:00\", \"2003-12-28T00:00:00\", \"2003-12-29T00:00:00\", \"2003-12-30T00:00:00\", \"2003-12-31T00:00:00\", \"2004-01-01T00:00:00\", \"2004-01-02T00:00:00\", \"2004-01-03T00:00:00\", \"2004-01-04T00:00:00\", \"2004-01-05T00:00:00\", \"2004-01-06T00:00:00\", \"2004-01-07T00:00:00\", \"2004-01-08T00:00:00\", \"2004-01-09T00:00:00\", \"2004-01-10T00:00:00\", \"2004-01-11T00:00:00\", \"2004-01-12T00:00:00\", \"2004-01-13T00:00:00\", \"2004-01-14T00:00:00\", \"2004-01-15T00:00:00\", \"2004-01-16T00:00:00\", \"2004-01-17T00:00:00\", \"2004-01-18T00:00:00\", \"2004-01-19T00:00:00\", \"2004-01-20T00:00:00\", \"2004-01-21T00:00:00\", \"2004-01-22T00:00:00\", \"2004-01-23T00:00:00\", \"2004-01-24T00:00:00\", \"2004-01-25T00:00:00\", \"2004-01-26T00:00:00\", \"2004-01-27T00:00:00\", \"2004-01-28T00:00:00\", \"2004-01-29T00:00:00\", \"2004-01-30T00:00:00\", \"2004-01-31T00:00:00\", \"2004-02-01T00:00:00\", \"2004-02-02T00:00:00\", \"2004-02-03T00:00:00\", \"2004-02-04T00:00:00\", \"2004-02-05T00:00:00\", \"2004-02-06T00:00:00\", \"2004-02-07T00:00:00\", \"2004-02-08T00:00:00\", \"2004-02-09T00:00:00\", \"2004-02-10T00:00:00\", \"2004-02-11T00:00:00\", \"2004-02-12T00:00:00\", \"2004-02-13T00:00:00\", \"2004-02-14T00:00:00\", \"2004-02-15T00:00:00\", \"2004-02-16T00:00:00\", \"2004-02-17T00:00:00\", \"2004-02-18T00:00:00\", \"2004-02-19T00:00:00\", \"2004-02-20T00:00:00\", \"2004-02-21T00:00:00\", \"2004-02-22T00:00:00\", \"2004-02-23T00:00:00\", \"2004-02-24T00:00:00\", \"2004-02-25T00:00:00\", \"2004-02-26T00:00:00\", \"2004-02-27T00:00:00\", \"2004-02-28T00:00:00\", \"2004-02-29T00:00:00\", \"2004-03-01T00:00:00\", \"2004-03-02T00:00:00\", \"2004-03-03T00:00:00\", \"2004-03-04T00:00:00\", \"2004-03-05T00:00:00\", \"2004-03-06T00:00:00\", \"2004-03-07T00:00:00\", \"2004-03-08T00:00:00\", \"2004-03-09T00:00:00\", \"2004-03-10T00:00:00\", \"2004-03-11T00:00:00\", \"2004-03-12T00:00:00\", \"2004-03-13T00:00:00\", \"2004-03-14T00:00:00\", \"2004-03-15T00:00:00\", \"2004-03-16T00:00:00\", \"2004-03-17T00:00:00\", \"2004-03-18T00:00:00\", \"2004-03-19T00:00:00\", \"2004-03-20T00:00:00\", \"2004-03-21T00:00:00\", \"2004-03-22T00:00:00\", \"2004-03-23T00:00:00\", \"2004-03-24T00:00:00\", \"2004-03-25T00:00:00\", \"2004-03-26T00:00:00\", \"2004-03-27T00:00:00\", \"2004-03-28T00:00:00\", \"2004-03-29T00:00:00\", \"2004-03-30T00:00:00\", \"2004-03-31T00:00:00\", \"2004-04-01T00:00:00\", \"2004-04-02T00:00:00\", \"2004-04-03T00:00:00\", \"2004-04-04T00:00:00\", \"2004-04-05T00:00:00\", \"2004-04-06T00:00:00\", \"2004-04-07T00:00:00\", \"2004-04-08T00:00:00\", \"2004-04-09T00:00:00\", \"2004-04-10T00:00:00\", \"2004-04-11T00:00:00\", \"2004-04-12T00:00:00\", \"2004-04-13T00:00:00\", \"2004-04-14T00:00:00\", \"2004-04-15T00:00:00\", \"2004-04-16T00:00:00\", \"2004-04-17T00:00:00\", \"2004-04-18T00:00:00\", \"2004-04-19T00:00:00\", \"2004-04-20T00:00:00\", \"2004-04-21T00:00:00\", \"2004-04-22T00:00:00\", \"2004-04-23T00:00:00\", \"2004-04-24T00:00:00\", \"2004-04-25T00:00:00\", \"2004-04-26T00:00:00\", \"2004-04-27T00:00:00\", \"2004-04-28T00:00:00\", \"2004-04-29T00:00:00\", \"2004-04-30T00:00:00\", \"2004-05-01T00:00:00\", \"2004-05-02T00:00:00\", \"2004-05-03T00:00:00\", \"2004-05-04T00:00:00\", \"2004-05-05T00:00:00\", \"2004-05-06T00:00:00\", \"2004-05-07T00:00:00\", \"2004-05-08T00:00:00\", \"2004-05-09T00:00:00\", \"2004-05-10T00:00:00\", \"2004-05-11T00:00:00\", \"2004-05-12T00:00:00\", \"2004-05-13T00:00:00\", \"2004-05-14T00:00:00\", \"2004-05-15T00:00:00\", \"2004-05-16T00:00:00\", \"2004-05-17T00:00:00\", \"2004-05-18T00:00:00\", \"2004-05-19T00:00:00\", \"2004-05-20T00:00:00\", \"2004-05-21T00:00:00\", \"2004-05-22T00:00:00\", \"2004-05-23T00:00:00\", \"2004-05-24T00:00:00\", \"2004-05-25T00:00:00\", \"2004-05-26T00:00:00\", \"2004-05-27T00:00:00\", \"2004-05-28T00:00:00\", \"2004-05-29T00:00:00\", \"2004-05-30T00:00:00\", \"2004-05-31T00:00:00\", \"2004-06-01T00:00:00\", \"2004-06-02T00:00:00\", \"2004-06-03T00:00:00\", \"2004-06-04T00:00:00\", \"2004-06-05T00:00:00\", \"2004-06-06T00:00:00\", \"2004-06-07T00:00:00\", \"2004-06-08T00:00:00\", \"2004-06-09T00:00:00\", \"2004-06-10T00:00:00\", \"2004-06-11T00:00:00\", \"2004-06-12T00:00:00\", \"2004-06-13T00:00:00\", \"2004-06-14T00:00:00\", \"2004-06-15T00:00:00\", \"2004-06-16T00:00:00\", \"2004-06-17T00:00:00\", \"2004-06-18T00:00:00\", \"2004-06-19T00:00:00\", \"2004-06-20T00:00:00\", \"2004-06-21T00:00:00\", \"2004-06-22T00:00:00\", \"2004-06-23T00:00:00\", \"2004-06-24T00:00:00\", \"2004-06-25T00:00:00\", \"2004-06-26T00:00:00\", \"2004-06-27T00:00:00\", \"2004-06-28T00:00:00\", \"2004-06-29T00:00:00\", \"2004-06-30T00:00:00\", \"2004-07-01T00:00:00\", \"2004-07-02T00:00:00\", \"2004-07-03T00:00:00\", \"2004-07-04T00:00:00\", \"2004-07-05T00:00:00\", \"2004-07-06T00:00:00\", \"2004-07-07T00:00:00\", \"2004-07-08T00:00:00\", \"2004-07-09T00:00:00\", \"2004-07-10T00:00:00\", \"2004-07-11T00:00:00\", \"2004-07-12T00:00:00\", \"2004-07-13T00:00:00\", \"2004-07-14T00:00:00\", \"2004-07-15T00:00:00\", \"2004-07-16T00:00:00\", \"2004-07-17T00:00:00\", \"2004-07-18T00:00:00\", \"2004-07-19T00:00:00\", \"2004-07-20T00:00:00\", \"2004-07-21T00:00:00\", \"2004-07-22T00:00:00\", \"2004-07-23T00:00:00\", \"2004-07-24T00:00:00\", \"2004-07-25T00:00:00\", \"2004-07-26T00:00:00\", \"2004-07-27T00:00:00\", \"2004-07-28T00:00:00\", \"2004-07-29T00:00:00\", \"2004-07-30T00:00:00\", \"2004-07-31T00:00:00\", \"2004-08-01T00:00:00\", \"2004-08-02T00:00:00\", \"2004-08-03T00:00:00\", \"2004-08-04T00:00:00\", \"2004-08-05T00:00:00\", \"2004-08-06T00:00:00\", \"2004-08-07T00:00:00\", \"2004-08-08T00:00:00\", \"2004-08-09T00:00:00\", \"2004-08-10T00:00:00\", \"2004-08-11T00:00:00\", \"2004-08-12T00:00:00\", \"2004-08-13T00:00:00\", \"2004-08-14T00:00:00\", \"2004-08-15T00:00:00\", \"2004-08-16T00:00:00\", \"2004-08-17T00:00:00\", \"2004-08-18T00:00:00\", \"2004-08-19T00:00:00\", \"2004-08-20T00:00:00\", \"2004-08-21T00:00:00\", \"2004-08-22T00:00:00\", \"2004-08-23T00:00:00\", \"2004-08-24T00:00:00\", \"2004-08-25T00:00:00\", \"2004-08-26T00:00:00\", \"2004-08-27T00:00:00\", \"2004-08-28T00:00:00\", \"2004-08-29T00:00:00\", \"2004-08-30T00:00:00\", \"2004-08-31T00:00:00\", \"2004-09-01T00:00:00\", \"2004-09-02T00:00:00\", \"2004-09-03T00:00:00\", \"2004-09-04T00:00:00\", \"2004-09-05T00:00:00\", \"2004-09-06T00:00:00\", \"2004-09-07T00:00:00\", \"2004-09-08T00:00:00\", \"2004-09-09T00:00:00\", \"2004-09-10T00:00:00\", \"2004-09-11T00:00:00\", \"2004-09-12T00:00:00\", \"2004-09-13T00:00:00\", \"2004-09-14T00:00:00\", \"2004-09-15T00:00:00\", \"2004-09-16T00:00:00\", \"2004-09-17T00:00:00\", \"2004-09-18T00:00:00\", \"2004-09-19T00:00:00\", \"2004-09-20T00:00:00\", \"2004-09-21T00:00:00\", \"2004-09-22T00:00:00\", \"2004-09-23T00:00:00\", \"2004-09-24T00:00:00\", \"2004-09-25T00:00:00\", \"2004-09-26T00:00:00\", \"2004-09-27T00:00:00\", \"2004-09-28T00:00:00\", \"2004-09-29T00:00:00\", \"2004-09-30T00:00:00\", \"2004-10-01T00:00:00\", \"2004-10-02T00:00:00\", \"2004-10-03T00:00:00\", \"2004-10-04T00:00:00\", \"2004-10-05T00:00:00\", \"2004-10-06T00:00:00\", \"2004-10-07T00:00:00\", \"2004-10-08T00:00:00\", \"2004-10-09T00:00:00\", \"2004-10-10T00:00:00\", \"2004-10-11T00:00:00\", \"2004-10-12T00:00:00\", \"2004-10-13T00:00:00\", \"2004-10-14T00:00:00\", \"2004-10-15T00:00:00\", \"2004-10-16T00:00:00\", \"2004-10-17T00:00:00\", \"2004-10-18T00:00:00\", \"2004-10-19T00:00:00\", \"2004-10-20T00:00:00\", \"2004-10-21T00:00:00\", \"2004-10-22T00:00:00\", \"2004-10-23T00:00:00\", \"2004-10-24T00:00:00\", \"2004-10-25T00:00:00\", \"2004-10-26T00:00:00\", \"2004-10-27T00:00:00\", \"2004-10-28T00:00:00\", \"2004-10-29T00:00:00\", \"2004-10-30T00:00:00\", \"2004-10-31T00:00:00\", \"2004-11-01T00:00:00\", \"2004-11-02T00:00:00\", \"2004-11-03T00:00:00\", \"2004-11-04T00:00:00\", \"2004-11-05T00:00:00\", \"2004-11-06T00:00:00\", \"2004-11-07T00:00:00\", \"2004-11-08T00:00:00\", \"2004-11-09T00:00:00\", \"2004-11-10T00:00:00\", \"2004-11-11T00:00:00\", \"2004-11-12T00:00:00\", \"2004-11-13T00:00:00\", \"2004-11-14T00:00:00\", \"2004-11-15T00:00:00\", \"2004-11-16T00:00:00\", \"2004-11-17T00:00:00\", \"2004-11-18T00:00:00\", \"2004-11-19T00:00:00\", \"2004-11-20T00:00:00\", \"2004-11-21T00:00:00\", \"2004-11-22T00:00:00\", \"2004-11-23T00:00:00\", \"2004-11-24T00:00:00\", \"2004-11-25T00:00:00\", \"2004-11-26T00:00:00\", \"2004-11-27T00:00:00\", \"2004-11-28T00:00:00\", \"2004-11-29T00:00:00\", \"2004-11-30T00:00:00\", \"2004-12-01T00:00:00\", \"2004-12-02T00:00:00\", \"2004-12-03T00:00:00\", \"2004-12-04T00:00:00\", \"2004-12-05T00:00:00\", \"2004-12-06T00:00:00\", \"2004-12-07T00:00:00\", \"2004-12-08T00:00:00\", \"2004-12-09T00:00:00\", \"2004-12-10T00:00:00\", \"2004-12-11T00:00:00\", \"2004-12-12T00:00:00\", \"2004-12-13T00:00:00\", \"2004-12-14T00:00:00\", \"2004-12-15T00:00:00\", \"2004-12-16T00:00:00\", \"2004-12-17T00:00:00\", \"2004-12-18T00:00:00\", \"2004-12-19T00:00:00\", \"2004-12-20T00:00:00\", \"2004-12-21T00:00:00\", \"2004-12-22T00:00:00\", \"2004-12-23T00:00:00\", \"2004-12-24T00:00:00\", \"2004-12-25T00:00:00\", \"2004-12-26T00:00:00\", \"2004-12-27T00:00:00\", \"2004-12-28T00:00:00\", \"2004-12-29T00:00:00\", \"2004-12-30T00:00:00\", \"2004-12-31T00:00:00\", \"2005-01-01T00:00:00\", \"2005-01-02T00:00:00\", \"2005-01-03T00:00:00\", \"2005-01-04T00:00:00\", \"2005-01-05T00:00:00\", \"2005-01-06T00:00:00\", \"2005-01-07T00:00:00\", \"2005-01-08T00:00:00\", \"2005-01-09T00:00:00\", \"2005-01-10T00:00:00\", \"2005-01-11T00:00:00\", \"2005-01-12T00:00:00\", \"2005-01-13T00:00:00\", \"2005-01-19T00:00:00\", \"2005-01-20T00:00:00\", \"2005-01-21T00:00:00\", \"2005-01-22T00:00:00\", \"2005-01-23T00:00:00\", \"2005-01-24T00:00:00\", \"2005-01-25T00:00:00\", \"2005-01-26T00:00:00\", \"2005-01-27T00:00:00\", \"2005-01-28T00:00:00\", \"2005-01-29T00:00:00\", \"2005-01-30T00:00:00\", \"2005-01-31T00:00:00\", \"2005-02-01T00:00:00\", \"2005-02-02T00:00:00\", \"2005-02-03T00:00:00\", \"2005-02-04T00:00:00\", \"2005-02-05T00:00:00\", \"2005-02-06T00:00:00\", \"2005-02-07T00:00:00\", \"2005-02-08T00:00:00\", \"2005-02-09T00:00:00\", \"2005-02-10T00:00:00\", \"2005-02-11T00:00:00\", \"2005-02-12T00:00:00\", \"2005-02-13T00:00:00\", \"2005-02-14T00:00:00\", \"2005-02-15T00:00:00\", \"2005-02-16T00:00:00\", \"2005-02-17T00:00:00\", \"2005-02-18T00:00:00\", \"2005-02-19T00:00:00\", \"2005-02-20T00:00:00\", \"2005-02-21T00:00:00\", \"2005-02-22T00:00:00\", \"2005-02-23T00:00:00\", \"2005-02-24T00:00:00\", \"2005-02-25T00:00:00\", \"2005-02-26T00:00:00\", \"2005-02-27T00:00:00\", \"2005-02-28T00:00:00\", \"2005-03-01T00:00:00\", \"2005-03-02T00:00:00\", \"2005-03-03T00:00:00\", \"2005-03-04T00:00:00\", \"2005-03-05T00:00:00\", \"2005-03-06T00:00:00\", \"2005-03-07T00:00:00\", \"2005-03-08T00:00:00\", \"2005-03-09T00:00:00\", \"2005-03-10T00:00:00\", \"2005-03-11T00:00:00\", \"2005-03-12T00:00:00\", \"2005-03-13T00:00:00\", \"2005-03-14T00:00:00\", \"2005-03-15T00:00:00\", \"2005-03-16T00:00:00\", \"2005-03-17T00:00:00\", \"2005-03-18T00:00:00\", \"2005-03-19T00:00:00\", \"2005-03-20T00:00:00\", \"2005-03-21T00:00:00\", \"2005-03-22T00:00:00\", \"2005-03-23T00:00:00\", \"2005-03-24T00:00:00\", \"2005-03-25T00:00:00\", \"2005-03-26T00:00:00\", \"2005-03-27T00:00:00\", \"2005-03-28T00:00:00\", \"2005-03-29T00:00:00\", \"2005-03-31T00:00:00\", \"2005-04-01T00:00:00\", \"2005-04-02T00:00:00\", \"2005-04-03T00:00:00\", \"2005-04-04T00:00:00\", \"2005-04-05T00:00:00\", \"2005-04-06T00:00:00\", \"2005-04-07T00:00:00\", \"2005-04-08T00:00:00\", \"2005-04-09T00:00:00\", \"2005-04-10T00:00:00\", \"2005-04-11T00:00:00\", \"2005-04-12T00:00:00\", \"2005-04-13T00:00:00\", \"2005-04-14T00:00:00\", \"2005-04-15T00:00:00\", \"2005-04-16T00:00:00\", \"2005-04-17T00:00:00\", \"2005-04-18T00:00:00\", \"2005-04-19T00:00:00\", \"2005-04-20T00:00:00\", \"2005-04-21T00:00:00\", \"2005-04-22T00:00:00\", \"2005-04-23T00:00:00\", \"2005-04-24T00:00:00\", \"2005-04-25T00:00:00\", \"2005-04-26T00:00:00\", \"2005-04-27T00:00:00\", \"2005-04-28T00:00:00\", \"2005-04-29T00:00:00\", \"2005-04-30T00:00:00\", \"2005-05-01T00:00:00\", \"2005-05-02T00:00:00\", \"2005-05-03T00:00:00\", \"2005-05-04T00:00:00\", \"2005-05-05T00:00:00\", \"2005-05-06T00:00:00\", \"2005-05-07T00:00:00\", \"2005-05-08T00:00:00\", \"2005-05-09T00:00:00\", \"2005-05-10T00:00:00\", \"2005-05-11T00:00:00\", \"2005-05-12T00:00:00\", \"2005-05-13T00:00:00\", \"2005-05-14T00:00:00\", \"2005-05-15T00:00:00\", \"2005-05-16T00:00:00\", \"2005-05-17T00:00:00\", \"2005-05-18T00:00:00\", \"2005-05-19T00:00:00\", \"2005-05-20T00:00:00\", \"2005-05-21T00:00:00\", \"2005-05-22T00:00:00\", \"2005-05-23T00:00:00\", \"2005-05-24T00:00:00\", \"2005-05-25T00:00:00\", \"2005-05-26T00:00:00\", \"2005-05-27T00:00:00\", \"2005-05-28T00:00:00\", \"2005-05-29T00:00:00\", \"2005-05-30T00:00:00\", \"2005-05-31T00:00:00\", \"2005-06-01T00:00:00\", \"2005-06-02T00:00:00\", \"2005-06-03T00:00:00\", \"2005-06-04T00:00:00\", \"2005-06-05T00:00:00\", \"2005-06-06T00:00:00\", \"2005-06-07T00:00:00\", \"2005-06-08T00:00:00\", \"2005-06-09T00:00:00\", \"2005-06-10T00:00:00\", \"2005-06-11T00:00:00\", \"2005-06-12T00:00:00\", \"2005-06-13T00:00:00\", \"2005-06-14T00:00:00\", \"2005-06-15T00:00:00\", \"2005-06-16T00:00:00\", \"2005-06-17T00:00:00\", \"2005-06-18T00:00:00\", \"2005-06-19T00:00:00\", \"2005-06-20T00:00:00\", \"2005-06-21T00:00:00\", \"2005-06-22T00:00:00\", \"2005-06-23T00:00:00\", \"2005-06-24T00:00:00\", \"2005-06-25T00:00:00\", \"2005-06-26T00:00:00\", \"2005-06-27T00:00:00\", \"2005-06-28T00:00:00\", \"2005-06-29T00:00:00\", \"2005-06-30T00:00:00\", \"2005-07-01T00:00:00\", \"2005-07-02T00:00:00\", \"2005-07-03T00:00:00\", \"2005-07-04T00:00:00\", \"2005-07-05T00:00:00\", \"2005-07-06T00:00:00\", \"2005-07-07T00:00:00\", \"2005-07-08T00:00:00\", \"2005-07-09T00:00:00\", \"2005-07-10T00:00:00\", \"2005-07-11T00:00:00\", \"2005-07-12T00:00:00\", \"2005-07-13T00:00:00\", \"2005-07-14T00:00:00\", \"2005-07-15T00:00:00\", \"2005-07-16T00:00:00\", \"2005-07-17T00:00:00\", \"2005-07-18T00:00:00\", \"2005-07-19T00:00:00\", \"2005-07-20T00:00:00\", \"2005-07-21T00:00:00\", \"2005-07-22T00:00:00\", \"2005-07-23T00:00:00\", \"2005-07-24T00:00:00\", \"2005-07-25T00:00:00\", \"2005-07-26T00:00:00\", \"2005-07-27T00:00:00\", \"2005-07-28T00:00:00\", \"2005-07-29T00:00:00\", \"2005-07-30T00:00:00\", \"2005-07-31T00:00:00\", \"2005-08-01T00:00:00\", \"2005-08-02T00:00:00\", \"2005-08-03T00:00:00\", \"2005-08-04T00:00:00\", \"2005-08-05T00:00:00\", \"2005-08-06T00:00:00\", \"2005-08-07T00:00:00\", \"2005-08-08T00:00:00\", \"2005-08-09T00:00:00\", \"2005-08-10T00:00:00\", \"2005-08-11T00:00:00\", \"2005-08-12T00:00:00\", \"2005-08-13T00:00:00\", \"2005-08-14T00:00:00\", \"2005-08-15T00:00:00\", \"2005-08-16T00:00:00\", \"2005-08-17T00:00:00\", \"2005-08-18T00:00:00\", \"2005-08-19T00:00:00\", \"2005-08-20T00:00:00\", \"2005-08-21T00:00:00\", \"2005-08-22T00:00:00\", \"2005-08-23T00:00:00\", \"2005-08-24T00:00:00\", \"2005-08-25T00:00:00\", \"2005-08-26T00:00:00\", \"2005-08-27T00:00:00\", \"2005-08-28T00:00:00\", \"2005-08-29T00:00:00\", \"2005-08-30T00:00:00\", \"2005-08-31T00:00:00\", \"2005-09-01T00:00:00\", \"2005-09-02T00:00:00\", \"2005-09-03T00:00:00\", \"2005-09-04T00:00:00\", \"2005-09-05T00:00:00\", \"2005-09-06T00:00:00\", \"2005-09-07T00:00:00\", \"2005-09-08T00:00:00\", \"2005-09-09T00:00:00\", \"2005-09-10T00:00:00\", \"2005-09-11T00:00:00\", \"2005-09-12T00:00:00\", \"2005-09-13T00:00:00\", \"2005-09-14T00:00:00\", \"2005-09-15T00:00:00\", \"2005-09-16T00:00:00\", \"2005-09-17T00:00:00\", \"2005-09-18T00:00:00\", \"2005-09-19T00:00:00\", \"2005-09-20T00:00:00\", \"2005-09-21T00:00:00\", \"2005-09-22T00:00:00\", \"2005-09-23T00:00:00\", \"2005-09-24T00:00:00\", \"2005-09-25T00:00:00\", \"2005-09-26T00:00:00\", \"2005-09-27T00:00:00\", \"2005-09-28T00:00:00\", \"2005-09-29T00:00:00\", \"2005-09-30T00:00:00\", \"2005-10-01T00:00:00\", \"2005-10-02T00:00:00\", \"2005-10-03T00:00:00\", \"2005-10-04T00:00:00\", \"2005-10-05T00:00:00\", \"2005-10-06T00:00:00\", \"2005-10-07T00:00:00\", \"2005-10-08T00:00:00\", \"2005-10-09T00:00:00\", \"2005-10-10T00:00:00\", \"2005-10-11T00:00:00\", \"2005-10-12T00:00:00\", \"2005-10-13T00:00:00\", \"2005-10-14T00:00:00\", \"2005-10-15T00:00:00\", \"2005-10-16T00:00:00\", \"2005-10-17T00:00:00\", \"2005-10-18T00:00:00\", \"2005-10-19T00:00:00\", \"2005-10-20T00:00:00\", \"2005-10-21T00:00:00\", \"2005-10-22T00:00:00\", \"2005-10-23T00:00:00\", \"2005-10-24T00:00:00\", \"2005-10-25T00:00:00\", \"2005-10-26T00:00:00\", \"2005-10-27T00:00:00\", \"2005-10-28T00:00:00\", \"2005-10-29T00:00:00\", \"2005-10-30T00:00:00\", \"2005-10-31T00:00:00\", \"2005-11-01T00:00:00\", \"2005-11-02T00:00:00\", \"2005-11-03T00:00:00\", \"2005-11-04T00:00:00\", \"2005-11-05T00:00:00\", \"2005-11-06T00:00:00\", \"2005-11-07T00:00:00\", \"2005-11-08T00:00:00\", \"2005-11-09T00:00:00\", \"2005-11-10T00:00:00\", \"2005-11-11T00:00:00\", \"2005-11-12T00:00:00\", \"2005-11-13T00:00:00\", \"2005-11-14T00:00:00\", \"2005-11-15T00:00:00\", \"2005-11-16T00:00:00\", \"2005-11-17T00:00:00\", \"2005-11-18T00:00:00\", \"2005-11-19T00:00:00\", \"2005-11-20T00:00:00\", \"2005-11-21T00:00:00\", \"2005-11-22T00:00:00\", \"2005-11-23T00:00:00\", \"2005-11-24T00:00:00\", \"2005-11-25T00:00:00\", \"2005-11-26T00:00:00\", \"2005-11-27T00:00:00\", \"2005-11-28T00:00:00\", \"2005-11-29T00:00:00\", \"2005-11-30T00:00:00\", \"2005-12-01T00:00:00\", \"2005-12-02T00:00:00\", \"2005-12-03T00:00:00\", \"2005-12-04T00:00:00\", \"2005-12-05T00:00:00\", \"2005-12-06T00:00:00\", \"2005-12-07T00:00:00\", \"2005-12-08T00:00:00\", \"2005-12-09T00:00:00\", \"2005-12-10T00:00:00\", \"2005-12-11T00:00:00\", \"2005-12-12T00:00:00\", \"2005-12-13T00:00:00\", \"2005-12-14T00:00:00\", \"2005-12-15T00:00:00\", \"2005-12-16T00:00:00\", \"2005-12-17T00:00:00\", \"2005-12-18T00:00:00\", \"2005-12-19T00:00:00\", \"2005-12-20T00:00:00\", \"2005-12-21T00:00:00\", \"2005-12-22T00:00:00\", \"2005-12-23T00:00:00\", \"2005-12-24T00:00:00\", \"2005-12-25T00:00:00\", \"2005-12-26T00:00:00\", \"2005-12-27T00:00:00\", \"2005-12-28T00:00:00\", \"2005-12-29T00:00:00\", \"2005-12-30T00:00:00\", \"2005-12-31T00:00:00\"], \"y\": [[112], [48], [116], [320], [84], [112], [104], [60], [20], [284], [484], [184], [24], [508], [116], [764], [88], [80], [328], [148], [188], [2815], [1724], [5860], [20844], [15255], [17163], [15859], [14060], [10708], [19032], [16204], [20002], [14168], [16380], [15660], [16300], [14080], [14256], [10844], [3776], [10896], [10640], [12688], [10490], [10543], [9399], [13056], [8988], [4492], [23493], [12271], [32946], [17992], [12911], [12303], [11532], [12079], [12635], [9903], [8628], [12060], [10775], [14066], [11868], [14164], [17768], [12579], [8026], [13111], [10155], [11788], [8975], [10628], [11772], [11708], [19560], [12760], [10794], [39190], [14490], [8076], [9860], [12792], [10803], [13159], [14868], [8383], [8980], [15552], [9676], [12139], [13408], [14207], [11628], [8627], [14236], [8148], [11843], [16715], [8088], [11383], [9091], [6700], [7245], [6136], [11156], [10708], [13207], [10276], [8712], [9244], [8240], [12176], [12619], [7672], [7924], [9820], [5036], [8696], [9730], [9859], [7752], [5688], [9768], [8883], [9095], [11260], [10028], [9300], [6544], [8315], [7312], [10307], [11028], [14350], [8703], [7131], [8758], [8024], [7296], [9828], [9099], [9984], [7296], [7365], [9460], [7188], [9284], [8488], [8571], [7744], [7380], [7935], [5208], [5727], [5784], [5088], [6228], [9124], [4720], [9584], [9864], [9424], [6484], [7912], [9423], [3052], [9596], [7088], [9716], [7492], [5868], [5168], [8052], [10623], [11012], [4600], [5908], [5516], [6447], [5888], [7755], [8624], [6603], [8880], [6784], [3812], [5972], [7903], [11472], [8444], [7264], [8036], [7544], [6360], [6736], [7843], [8160], [6463], [6072], [8171], [5644], [11208], [7195], [11768], [9792], [6976], [5236], [6527], [5792], [12167], [7044], [13084], [7504], [7800], [6476], [9348], [10295], [8891], [7412], [6075], [6044], [5496], [6400], [9184], [9412], [5604], [11941], [10460], [7388], [5132], [10128], [11331], [7487], [6735], [8032], [8388], [9468], [9518], [8323], [6879], [7804], [8264], [6507], [14640], [9380], [10984], [11266], [6904], [9536], [8739], [8752], [9191], [10740], [5215], [13036], [11311], [8689], [9907], [11046], [9994], [12136], [8552], [16200], [10996], [7374], [12884], [18635], [16934], [8768], [17118], [12915], [11456], [14378], [16972], [13764], [12419], [14971], [13692], [11307], [8489], [10764], [10251], [7799], [13646], [6432], [9779], [12860], [12004], [8642], [9776], [9675], [8892], [9519], [11099], [10844], [8320], [11267], [5723], [7543], [7903], [13080], [10404], [10564], [7499], [8087], [9312], [7111], [10131], [7994], [7560], [5899], [3916], [2932], [7067], [1228], [5148], [7771], [7468], [8851], [9884], [8576], [6952], [7903], [9610], [6252], [7707], [6932], [14595], [9020], [8372], [5703], [9775], [8380], [6936], [11580], [9032], [8716], [9043], [7295], [7268], [9623], [7280], [9947], [9636], [8756], [12898], [15598], [12223], [13275], [16136], [11576], [14496], [10644], [9326], [9380], [13060], [8587], [9962], [15970], [10731], [12215], [16205], [13992], [15931], [17840], [12348], [10356], [10024], [8743], [12292], [19222], [19298], [15820], [7714], [5164], [8751], [16424], [23242], [18660], [20186], [20358], [17887], [12202], [25396], [27790], [25701], [19714], [21454], [26448], [21323], [29224], [22231], [20043], [18942], [18778], [17255], [13543], [21012], [21947], [18974], [12371], [15452], [25033], [12779], [19947], [25966], [21257], [21594], [22201], [26263], [14071], [29484], [16672], [27546], [23310], [20656], [15116], [21167], [20287], [21357], [17100], [18624], [22126], [17844], [20816], [24309], [21326], [17443], [17392], [21160], [18964], [27295], [22128], [20472], [17665], [17778], [17243], [16204], [23435], [23248], [20515], [23326], [21208], [17412], [20771], [23283], [24240], [13460], [19967], [16635], [16067], [9127], [20462], [24192], [19418], [15736], [13908], [19384], [13462], [17019], [16396], [10624], [18042], [14286], [9472], [9975], [16087], [14437], [11600], [14287], [13472], [16412], [7355], [15522], [13208], [14714], [17450], [17272], [11863], [4908], [20482], [22227], [17451], [15544], [12471], [15080], [12420], [16080], [13060], [13871], [14051], [14394], [10595], [10038], [18740], [15078], [15392], [16136], [12515], [9732], [8200], [15200], [23746], [18290], [20340], [19155], [10988], [12203], [24644], [17548], [16190], [14815], [11076], [9976], [10032], [14346], [18627], [16523], [14120], [12843], [11622], [6856], [17928], [16584], [13815], [16640], [17899], [16763], [13654], [15444], [20927], [17387], [23456], [21287], [16164], [13115], [19182], [22702], [17336], [18376], [16464], [13455], [13688], [21675], [19768], [19155], [18768], [20258], [11531], [16040], [24818], [21480], [20848], [26034], [20019], [17563], [14920], [24205], [22839], [23773], [29170], [18662], [12135], [20071], [26007], [18863], [13044], [21535], [19123], [11479], [17413], [25966], [24539], [19658], [18970], [19727], [13920], [14975], [17690], [15995], [23601], [35458], [21101], [17223], [12364], [20306], [28182], [18210], [25067], [20810], [12430], [13351], [27967], [20794], [20730], [21864], [19048], [12158], [14167], [22306], [23275], [15608], [21879], [17048], [17075], [16628], [22552], [22854], [19939], [20883], [19767], [13191], [12413], [22229], [20108], [19330], [16936], [18255], [16149], [16935], [19751], [17792], [17252], [24888], [16396], [12536], [10243], [12064], [31206], [18191], [19520], [21517], [15300], [12972], [14708], [13008], [16048], [8495], [10003], [8159], [7284], [22778], [16619], [19951], [21011], [16764], [14972], [12000], [21094], [22623], [19339], [21764], [18835], [17891], [10284], [23039], [24612], [25562], [23467], [19551], [14180], [12763], [26414], [19761], [19476], [20890], [18844], [9522], [13194], [31668], [24174], [28255], [22120], [21743], [14007], [14064], [22691], [26539], [23873], [26586], [26421], [16079], [18054], [29881], [28220], [24300], [23887], [23174], [23722], [17420], [31007], [29575], [29642], [26842], [25023], [23323], [14251], [16703], [24666], [30198], [20928], [19095], [19154], [16827], [26019], [24474], [21002], [9660], [23667], [21745], [24906], [28216], [34761], [29797], [29564], [24802], [16702], [14920], [25639], [30511], [32427], [32423], [26158], [22484], [20917], [30671], [23759], [24983], [25499], [20883], [18891], [20191], [28686], [21686], [27718], [27357], [25257], [18257], [15839], [16560], [20296], [42634], [45722], [46103], [33222], [30156], [31095], [35344], [55160], [55011], [50339], [39475], [35940], [48570], [50280], [40716], [46305], [44045], [31529], [29978], [52205], [44472], [40054], [44165], [35820], [31798], [26509], [39411], [32789], [39457], [38569], [36303], [35835], [31605], [51578], [43646], [37973], [34709], [38225], [28890], [25242], [46797], [46058], [35508], [35670], [32814], [26083], [32169], [41443], [40247], [33516], [48520], [43150], [33939], [28822], [31219], [39357], [47971], [35182], [36190], [32864], [31383], [45448], [51196], [46079], [46008], [44038], [41283], [31688], [41032], [47227], [36300], [45511], [41439], [41940], [27503], [55858], [54990], [51330], [59728], [56832], [37378], [34823], [64566], [56107], [49039], [52903], [46580], [30985], [35945], [62108], [66470], [48825], [53501], [55883], [36994], [32059], [60762], [67164], [59965], [53101], [57638], [42111], [38146], [55845], [58546], [73199], [57230], [47549], [31618], [35713], [55623], [48597], [35354], [36639], [39461], [25954], [33283], [52372], [47833], [46510], [45643], [39374], [32638], [38726], [61990], [52659], [46885], [43596], [39941], [32370], [30248], [53904], [45074], [42801], [39512], [37576], [25215], [30370], [50338], [54413], [50079], [41300], [39986], [24642], [29652], [52526], [61743], [53992], [43122], [36431], [22647], [24128], [34655], [51899], [53595], [49256], [44270], [28182], [34659], [55007], [51020], [42182], [39807], [38355], [21062], [30691], [37410], [28980], [34723], [43978], [40811], [23403], [33623], [25266], [56898], [57351], [52718], [50358], [27627], [41505], [63722], [66050], [44668], [56734], [47491], [36558], [37020], [74803], [62445], [44763], [28129], [43565], [30655], [41584], [75874], [57130], [41512], [6384], [30533], [28564], [38595], [64405], [53678], [45789], [59737], [44287], [24831], [41343], [55271], [61169], [48216], [43149], [39836], [37402], [40078], [63041], [58060], [54618], [48278], [45581], [30505], [36076], [66053], [53272], [53671], [45656], [40082], [31325], [41623], [30573], [57594], [45994], [56861], [54768], [40930], [46250], [68043], [66930], [63857], [51967], [45085], [36645], [44611], [64132], [66636], [59150], [57218], [53675], [37970], [42074], [54713], [75581], [63332], [63920], [66129], [41329], [47918], [70708], [63506], [60691], [48861], [40619], [37411], [39334], [73429], [61372], [63578], [62032], [53825], [39322], [30376], [56915], [79463], [64893], [54484], [50720], [32744], [40764], [58720], [61692], [63511], [59574], [45517], [35078], [39575], [62276], [65270], [62084], [59349], [47202], [34499], [37990], [52372], [78618], [73998], [67853], [66135], [43692], [49939], [80542], [83320], [71503], [60571], [54473], [35405], [46260], [80701], [78359], [68276], [64329], [52877], [39917], [41869], [72947], [74181], [68463], [57497], [50199], [39764], [47030], [50057], [77471], [74278], [67665], [53094], [38081], [44150], [66734], [68027], [66585], [55665], [51080], [39251], [40298], [62328], [72518], [54219], [24830], [40902], [40376], [47355], [73700], [65739], [69940], [59154], [47365], [37011], [37311], [67472], [35651], [15568], [47698], [49006], [82734], [66899], [60287], [54062], [48874], [39503], [41879], [60605], [37651], [35450], [79586], [68933], [50096], [53825], [98639], [61656], [62181], [94697], [90488], [60499], [49984], [93698], [94550], [94011], [80258], [70743], [49415], [60475], [102373], [94837], [87734], [83466], [59238], [50955], [51905], [64517], [91506], [84729], [81008], [76895], [54044], [55580], [141154], [290227], [295276], [228854], [42526], [26618], [62466], [95184], [72031], [110787], [20450], [168611], [78346], [114065], [86970], [161005], [120978], [108350], [61098], [59404], [39476], [38582], [75277], [72574], [80178], [59370], [53741], [37790], [45319], [59258], [70393], [49956], [64426], [79743], [43696], [55576], [85991], [100988], [83020], [81052], [79053], [55878], [57790], [94452], [106908], [72495], [79871], [74971], [40808], [41858], [90633], [106888], [76695], [65464], [59533], [42122], [37338], [78157], [89829], [91173], [88023], [68816], [49351], [40172], [104721], [85046], [98967], [91950], [80018], [41184], [39048], [85047], [93430], [88683], [85907], [67782], [55916], [55228], [91192], [102740], [102388], [87317], [84068], [50423], [43581], [107339], [117303], [89998], [86978], [93474], [64483], [68069], [139755], [139920], [127292], [106601], [102823], [64606], [73141], [75393], [143882], [166187], [144878], [127710], [68503], [78470], [134207], [158796], [77039], [116193], [104885], [72342], [74564], [131485], [142762], [128050], [106398], [102604], [64553], [60782], [147837], [143436], [137802], [107873], [110394], [65207], [70776], [139372], [144211], [124683], [120239], [101083], [63379], [76836], [151315], [141676], [126774], [105047], [59473], [61682], [73698], [160784], [163749], [134366], [111839], [114114], [69520], [71828], [146566], [136730], [145956], [116522], [111562], [62841], [73787], [156576], [149439], [118716], [121185], [103263], [66553], [73607], [144478], [139210], [133848], [117359], [102148], [57200], [64569], [126580], [154483], [129605], [124173], [117917], [66817], [71106], [146964], [172099], [173454], [135073], [134105], [80699], [90069], [187879], [248439], [212880], [170996], [154853], [93496], [97597], [165344], [172027], [176173], [154485], [92541], [79399], [84855], [98551], [190703], [196138], [155834], [156640], [88225], [93707], [162100], [171491], [111664], [196736], [123314], [96957], [89624], [182849], [181762], [158813], [133485], [126307], [69423], [70588], [172530], [177779], [155486], [128494], [112682], [79178], [79589], [168503], [168971], [162176], [161491], [136307], [93770], [87031], [166214], [164382], [169552], [134198], [75657], [82017], [95381], [172358], [158560], [172527], [163873], [157868], [85210], [99798], [177259], [179971], [170243], [137022], [132650], [70487], [87973], [184381], [201152], [170210], [139375], [123618], [91261], [98735], [190440], [195314], [168277], [141301], [153033], [100397], [104381], [197730], [203090], [170223], [154564], [143208], [86578], [99521], [197574], [192863], [175873], [140599], [166982], [116060], [115388], [216216], [201809], [177692], [78029], [155483], [119379], [131027], [257760], [249703], [200184], [181287], [176289], [104871], [108798], [202983], [217544], [195042], [166629], [152226], [111137], [105376], [207338], [205458], [186845], [153607], [151502], [93709], [98645], [214893], [199809], [135610], [71495], [163048], [116304], [141813], [278428], [278013], [56397], [180041], [267479], [189997], [178058], [317700], [296755], [281188], [244723], [217042], [172546], [180760], [313284], [255223], [308363], [283514], [264514], [148568], [188661], [308248], [281563], [304670], [296247], [249365], [187433], [199822], [297239], [348440], [323147], [291338], [266141], [174682], [163101], [296726], [340082], [289082], [256452], [252918], [197442], [200361], [314869], [307042], [254351], [242144], [238960], [166060], [174597], [292428], [255513], [301751], [278079], [251254], [185183], [194228], [310054], [344268], [283636], [251830], [236146], [186726], [205820], [343299], [317033], [311577], [279040], [241100], [172470], [179131], [326740], [324696], [290985], [262453], [279339], [188566], [188800], [327779], [350308], [289179], [264302], [249569], [170865], [198065], [343238], [346753], [308083], [288506], [260546], [198135], [189809], [346389], [362864], [319770], [266717], [244815], [173522], [187929], [337739], [329803], [292964], [264326], [280843], [176231], [215067], [356365], [378599], [319267], [294547], [254282], [171886], [185317], [332785], [394976], [325638], [298920], [284550], [181800], [242085], [395687], [441057], [521050], [394916], [362061], [320928], [312810], [487896], [375852], [319718], [259668], [244708], [174618], [181080], [366865], [347788], [303021], [277135], [260209], [194794], [185248], [339472], [385023], [351990], [290517], [307661], [199838], [240391], [403360], [412232], [365164], [308069], [307940], [186734], [201620], [252414], [419389], [423375], [397193], [351091], [210632], [243825], [430878], [423196], [340619], [336299], [302632], [191504], [213577], [408625], [401950], [387428], [327424], [297840], [197890], [216315], [423288], [442584], [449923], [375593], [308529], [216885], [210085], [393952], [436071], [377539], [339243], [289040], [189882], [158321], [235845], [451151], [411214], [406315], [320860], [215208], [228832], [439303], [426447], [366746], [317981], [298978], [192891], [222528], [438177], [417345], [364077], [313845], [311748], [198712], [209711], [450422], [421487], [375726], [325404], [311388], [204520], [211705], [421672], [433347], [385701], [345420], [321366], [200861], [230080], [449318], [437066], [370348], [329817], [338537], [201004], [247051], [439687], [427358], [355266], [310161], [302030], [208915], [249703], [439764], [413346], [392777], [336987], [325976], [221784], [247857], [446338], [427141], [361703], [452478], [446458], [428792], [198962], [268689], [440731], [445842], [375911], [339358], [235665], [262652], [439880], [449269], [334446], [341342], [325148], [256433], [262415], [451374], [403066], [379915], [342449], [301927], [218236], [266221], [433697], [470449], [382030], [337454], [304721], [226924], [235377], [455915], [454242], [410227], [392266], [317490], [228362], [280339], [459684], [363274], [432626], [361132], [483766], [254889], [273299], [487649], [506170], [395267], [360644], [364118], [250184], [312936], [568117], [511768], [435214], [385732], [381865], [251768], [294777], [548884], [442683], [425665], [421243], [390056], [294681], [304148], [559931], [495880], [455430], [422909], [346977], [215700], [322613], [574432], [541940], [485302], [417346], [362531], [315664], [357035], [585829], [538200], [406962], [180874], [415385], [331790], [372109], [663849], [597697], [494786], [426469], [334884], [305640], [332403], [601660], [587829], [488758], [432385], [389865], [278762], [327189], [559169], [556994], [464299], [441065], [405324], [265044], [353755], [553128], [543090], [494948], [394877], [274677], [214860], [305863], [556056], [689522], [664036], [602432], [434462], [419335], [497848], [729430], [755906], [715756], [638366], [640995], [568204], [547194], [878563], [804916], [569725], [361576], [2950065], [846362], [213776], [301566], [559780], [869517], [884528], [769974], [718775], [635421], [506281], [557414], [850005], [839458], [738446], [644546], [355847], [417049], [452124], [712231], [752001], [626871], [582779], [493970], [408695], [484022], [663726], [623075], [577240], [613878], [572460], [406981], [441936], [691195], [620901], [668428], [694064], [605418], [446641], [563669], [717807], [744146], [733984], [594285], [552560], [403887], [444853], [770649], [750818], [619879], [593942], [547135], [386848], [435622], [738730], [746446], [636645], [543406], [543264], [437736], [467440], [789483], [744509], [691659], [581622], [510625], [369892], [418023], [785399], [485071], [171135], [537488], [418569], [447988], [726517], [686552], [1359145], [524147], [487171], [359322], [408627], [685822], [686828], [575061], [504171], [480717], [372208], [405759], [706039], [676786], [582707], [502408], [455906], [335068], [350236], [710653], [718039], [574088], [507978], [469950], [398789], [412787], [691027], [684189], [568697], [477813], [461589], [321648], [397475], [669845], [628770], [551804], [492262], [484414], [479373], [509441], [832977], [808257], [651880], [582769], [531821], [381121], [473567], [789375], [759648], [653829], [574722], [513605], [369183], [380462], [483672], [936178], [955794], [836842], [739205], [475777], [536056], [889849], [880297], [758368], [681928], [674046], [500143], [543591], [874743], [868401], [745088], [675718], [602523], [446654], [502648], [873834], [820984], [716001], [630906], [657047], [465808], [563764], [944671], [857539], [778430], [687580], [621226], [404792], [392484], [413501], [875650], [827402], [768879], [720097], [518282], [495929], [881628], [861996], [728362], [691652], [631569], [458688], [514852], [850126], [773864], [700132], [642488], [615238], [441020], [468411], [837269], [802855], [676109], [646652], [569780], [457256], [492758], [815719], [795746], [661304], [622578], [611949], [439494], [517961], [835421], [809702], [675275], [644288], [627798], [436181], [527868], [867379], [830980], [698919], [699038], [645208], [487016], [560162], [899288], [838756], [714097], [690938], [704558], [502983], [571045], [818879], [824779], [669601], [591094], [553074], [409699], [451229], [552429], [816721], [744451], [675522], [616767], [479767], [517701], [830645], [794847], [729182], [715804], [646519], [532011], [580838], [872897], [873416], [691925], [655345], [615690], [494040], [547492], [889584], [812273], [728641], [637038], [596001], [483312], [557389], [832413], [806070], [711848], [674142], [633781], [490967], [543123], [803790], [681602], [804575], [690723], [643579], [475958], [585813], [806580], [822554], [682853], [657690], [628767], [533989], [593626], [864690], [828909], [721807], [625121], [624127], [465930], [560439], [788968], [734994], [678758], [600293], [537781], [420869], [467698], [689208], [683344], [571859], [495388], [482298], [345973], [390744], [598824], [559497], [512113], [448745], [401191], [310626], [370665], [528477], [490126], [361726], [191956], [349577], [322779], [356296], [561566], [534003], [421531], [391407], [360309], [280316], [303739], [453126], [457382], [382050], [330532], [313666], [245010], [264772], [397494], [352273], [350540], [283367], [274886], [230331], [266524], [387598], [349316], [315747], [277421], [238170], [126443], [120114], [240338], [351151], [394617], [389223], [310330], [182632]]}],                        {\"template\": {\"data\": {\"bar\": [{\"error_x\": {\"color\": \"#2a3f5f\"}, \"error_y\": {\"color\": \"#2a3f5f\"}, \"marker\": {\"line\": {\"color\": \"#E5ECF6\", \"width\": 0.5}}, \"type\": \"bar\"}], \"barpolar\": [{\"marker\": {\"line\": {\"color\": \"#E5ECF6\", \"width\": 0.5}}, \"type\": \"barpolar\"}], \"carpet\": [{\"aaxis\": {\"endlinecolor\": \"#2a3f5f\", \"gridcolor\": \"white\", \"linecolor\": \"white\", \"minorgridcolor\": \"white\", \"startlinecolor\": \"#2a3f5f\"}, \"baxis\": {\"endlinecolor\": \"#2a3f5f\", \"gridcolor\": \"white\", \"linecolor\": \"white\", \"minorgridcolor\": \"white\", \"startlinecolor\": \"#2a3f5f\"}, \"type\": \"carpet\"}], \"choropleth\": [{\"colorbar\": {\"outlinewidth\": 0, \"ticks\": \"\"}, \"type\": \"choropleth\"}], \"contour\": [{\"colorbar\": {\"outlinewidth\": 0, \"ticks\": \"\"}, \"colorscale\": [[0.0, \"#0d0887\"], [0.1111111111111111, \"#46039f\"], [0.2222222222222222, \"#7201a8\"], [0.3333333333333333, \"#9c179e\"], [0.4444444444444444, \"#bd3786\"], [0.5555555555555556, \"#d8576b\"], [0.6666666666666666, \"#ed7953\"], [0.7777777777777778, \"#fb9f3a\"], [0.8888888888888888, \"#fdca26\"], [1.0, \"#f0f921\"]], \"type\": \"contour\"}], \"contourcarpet\": [{\"colorbar\": {\"outlinewidth\": 0, \"ticks\": \"\"}, \"type\": \"contourcarpet\"}], \"heatmap\": [{\"colorbar\": {\"outlinewidth\": 0, \"ticks\": \"\"}, \"colorscale\": [[0.0, \"#0d0887\"], [0.1111111111111111, \"#46039f\"], [0.2222222222222222, \"#7201a8\"], [0.3333333333333333, \"#9c179e\"], [0.4444444444444444, \"#bd3786\"], [0.5555555555555556, \"#d8576b\"], [0.6666666666666666, \"#ed7953\"], [0.7777777777777778, \"#fb9f3a\"], [0.8888888888888888, \"#fdca26\"], [1.0, \"#f0f921\"]], \"type\": \"heatmap\"}], \"heatmapgl\": [{\"colorbar\": {\"outlinewidth\": 0, \"ticks\": \"\"}, \"colorscale\": [[0.0, \"#0d0887\"], [0.1111111111111111, \"#46039f\"], [0.2222222222222222, \"#7201a8\"], [0.3333333333333333, \"#9c179e\"], [0.4444444444444444, \"#bd3786\"], [0.5555555555555556, \"#d8576b\"], [0.6666666666666666, \"#ed7953\"], [0.7777777777777778, \"#fb9f3a\"], [0.8888888888888888, \"#fdca26\"], [1.0, \"#f0f921\"]], \"type\": \"heatmapgl\"}], \"histogram\": [{\"marker\": {\"colorbar\": {\"outlinewidth\": 0, \"ticks\": \"\"}}, \"type\": \"histogram\"}], \"histogram2d\": [{\"colorbar\": {\"outlinewidth\": 0, \"ticks\": \"\"}, \"colorscale\": [[0.0, \"#0d0887\"], [0.1111111111111111, \"#46039f\"], [0.2222222222222222, \"#7201a8\"], [0.3333333333333333, \"#9c179e\"], [0.4444444444444444, \"#bd3786\"], [0.5555555555555556, \"#d8576b\"], [0.6666666666666666, \"#ed7953\"], [0.7777777777777778, \"#fb9f3a\"], [0.8888888888888888, \"#fdca26\"], [1.0, \"#f0f921\"]], \"type\": \"histogram2d\"}], \"histogram2dcontour\": [{\"colorbar\": {\"outlinewidth\": 0, \"ticks\": \"\"}, \"colorscale\": [[0.0, \"#0d0887\"], [0.1111111111111111, \"#46039f\"], [0.2222222222222222, \"#7201a8\"], [0.3333333333333333, \"#9c179e\"], [0.4444444444444444, \"#bd3786\"], [0.5555555555555556, \"#d8576b\"], [0.6666666666666666, \"#ed7953\"], [0.7777777777777778, \"#fb9f3a\"], [0.8888888888888888, \"#fdca26\"], [1.0, \"#f0f921\"]], \"type\": \"histogram2dcontour\"}], \"mesh3d\": [{\"colorbar\": {\"outlinewidth\": 0, \"ticks\": \"\"}, \"type\": \"mesh3d\"}], \"parcoords\": [{\"line\": {\"colorbar\": {\"outlinewidth\": 0, \"ticks\": \"\"}}, \"type\": \"parcoords\"}], \"pie\": [{\"automargin\": true, \"type\": \"pie\"}], \"scatter\": [{\"marker\": {\"colorbar\": {\"outlinewidth\": 0, \"ticks\": \"\"}}, \"type\": \"scatter\"}], \"scatter3d\": [{\"line\": {\"colorbar\": {\"outlinewidth\": 0, \"ticks\": \"\"}}, \"marker\": {\"colorbar\": {\"outlinewidth\": 0, \"ticks\": \"\"}}, \"type\": \"scatter3d\"}], \"scattercarpet\": [{\"marker\": {\"colorbar\": {\"outlinewidth\": 0, \"ticks\": \"\"}}, \"type\": \"scattercarpet\"}], \"scattergeo\": [{\"marker\": {\"colorbar\": {\"outlinewidth\": 0, \"ticks\": \"\"}}, \"type\": \"scattergeo\"}], \"scattergl\": [{\"marker\": {\"colorbar\": {\"outlinewidth\": 0, \"ticks\": \"\"}}, \"type\": \"scattergl\"}], \"scattermapbox\": [{\"marker\": {\"colorbar\": {\"outlinewidth\": 0, \"ticks\": \"\"}}, \"type\": \"scattermapbox\"}], \"scatterpolar\": [{\"marker\": {\"colorbar\": {\"outlinewidth\": 0, \"ticks\": \"\"}}, \"type\": \"scatterpolar\"}], \"scatterpolargl\": [{\"marker\": {\"colorbar\": {\"outlinewidth\": 0, \"ticks\": \"\"}}, \"type\": \"scatterpolargl\"}], \"scatterternary\": [{\"marker\": {\"colorbar\": {\"outlinewidth\": 0, \"ticks\": \"\"}}, \"type\": \"scatterternary\"}], \"surface\": [{\"colorbar\": {\"outlinewidth\": 0, \"ticks\": \"\"}, \"colorscale\": [[0.0, \"#0d0887\"], [0.1111111111111111, \"#46039f\"], [0.2222222222222222, \"#7201a8\"], [0.3333333333333333, \"#9c179e\"], [0.4444444444444444, \"#bd3786\"], [0.5555555555555556, \"#d8576b\"], [0.6666666666666666, \"#ed7953\"], [0.7777777777777778, \"#fb9f3a\"], [0.8888888888888888, \"#fdca26\"], [1.0, \"#f0f921\"]], \"type\": \"surface\"}], \"table\": [{\"cells\": {\"fill\": {\"color\": \"#EBF0F8\"}, \"line\": {\"color\": \"white\"}}, \"header\": {\"fill\": {\"color\": \"#C8D4E3\"}, \"line\": {\"color\": \"white\"}}, \"type\": \"table\"}]}, \"layout\": {\"annotationdefaults\": {\"arrowcolor\": \"#2a3f5f\", \"arrowhead\": 0, \"arrowwidth\": 1}, \"coloraxis\": {\"colorbar\": {\"outlinewidth\": 0, \"ticks\": \"\"}}, \"colorscale\": {\"diverging\": [[0, \"#8e0152\"], [0.1, \"#c51b7d\"], [0.2, \"#de77ae\"], [0.3, \"#f1b6da\"], [0.4, \"#fde0ef\"], [0.5, \"#f7f7f7\"], [0.6, \"#e6f5d0\"], [0.7, \"#b8e186\"], [0.8, \"#7fbc41\"], [0.9, \"#4d9221\"], [1, \"#276419\"]], \"sequential\": [[0.0, \"#0d0887\"], [0.1111111111111111, \"#46039f\"], [0.2222222222222222, \"#7201a8\"], [0.3333333333333333, \"#9c179e\"], [0.4444444444444444, \"#bd3786\"], [0.5555555555555556, \"#d8576b\"], [0.6666666666666666, \"#ed7953\"], [0.7777777777777778, \"#fb9f3a\"], [0.8888888888888888, \"#fdca26\"], [1.0, \"#f0f921\"]], \"sequentialminus\": [[0.0, \"#0d0887\"], [0.1111111111111111, \"#46039f\"], [0.2222222222222222, \"#7201a8\"], [0.3333333333333333, \"#9c179e\"], [0.4444444444444444, \"#bd3786\"], [0.5555555555555556, \"#d8576b\"], [0.6666666666666666, \"#ed7953\"], [0.7777777777777778, \"#fb9f3a\"], [0.8888888888888888, \"#fdca26\"], [1.0, \"#f0f921\"]]}, \"colorway\": [\"#636efa\", \"#EF553B\", \"#00cc96\", \"#ab63fa\", \"#FFA15A\", \"#19d3f3\", \"#FF6692\", \"#B6E880\", \"#FF97FF\", \"#FECB52\"], \"font\": {\"color\": \"#2a3f5f\"}, \"geo\": {\"bgcolor\": \"white\", \"lakecolor\": \"white\", \"landcolor\": \"#E5ECF6\", \"showlakes\": true, \"showland\": true, \"subunitcolor\": \"white\"}, \"hoverlabel\": {\"align\": \"left\"}, \"hovermode\": \"closest\", \"mapbox\": {\"style\": \"light\"}, \"paper_bgcolor\": \"white\", \"plot_bgcolor\": \"#E5ECF6\", \"polar\": {\"angularaxis\": {\"gridcolor\": \"white\", \"linecolor\": \"white\", \"ticks\": \"\"}, \"bgcolor\": \"#E5ECF6\", \"radialaxis\": {\"gridcolor\": \"white\", \"linecolor\": \"white\", \"ticks\": \"\"}}, \"scene\": {\"xaxis\": {\"backgroundcolor\": \"#E5ECF6\", \"gridcolor\": \"white\", \"gridwidth\": 2, \"linecolor\": \"white\", \"showbackground\": true, \"ticks\": \"\", \"zerolinecolor\": \"white\"}, \"yaxis\": {\"backgroundcolor\": \"#E5ECF6\", \"gridcolor\": \"white\", \"gridwidth\": 2, \"linecolor\": \"white\", \"showbackground\": true, \"ticks\": \"\", \"zerolinecolor\": \"white\"}, \"zaxis\": {\"backgroundcolor\": \"#E5ECF6\", \"gridcolor\": \"white\", \"gridwidth\": 2, \"linecolor\": \"white\", \"showbackground\": true, \"ticks\": \"\", \"zerolinecolor\": \"white\"}}, \"shapedefaults\": {\"line\": {\"color\": \"#2a3f5f\"}}, \"ternary\": {\"aaxis\": {\"gridcolor\": \"white\", \"linecolor\": \"white\", \"ticks\": \"\"}, \"baxis\": {\"gridcolor\": \"white\", \"linecolor\": \"white\", \"ticks\": \"\"}, \"bgcolor\": \"#E5ECF6\", \"caxis\": {\"gridcolor\": \"white\", \"linecolor\": \"white\", \"ticks\": \"\"}}, \"title\": {\"x\": 0.05}, \"xaxis\": {\"automargin\": true, \"gridcolor\": \"white\", \"linecolor\": \"white\", \"ticks\": \"\", \"title\": {\"standoff\": 15}, \"zerolinecolor\": \"white\", \"zerolinewidth\": 2}, \"yaxis\": {\"automargin\": true, \"gridcolor\": \"white\", \"linecolor\": \"white\", \"ticks\": \"\", \"title\": {\"standoff\": 15}, \"zerolinecolor\": \"white\", \"zerolinewidth\": 2}}}, \"title\": {\"text\": \"Movie-Ratings Grouped By Day\"}, \"xaxis\": {\"title\": {\"text\": \"Date\"}}, \"yaxis\": {\"title\": {\"text\": \"Ratings\"}}},                        {\"responsive\": true}                    ).then(function(){\n",
       "                            \n",
       "var gd = document.getElementById('8335b20e-1578-49c5-aef3-af02acf59a5e');\n",
       "var x = new MutationObserver(function (mutations, observer) {{\n",
       "        var display = window.getComputedStyle(gd).display;\n",
       "        if (!display || display === 'none') {{\n",
       "            console.log([gd, 'removed!']);\n",
       "            Plotly.purge(gd);\n",
       "            observer.disconnect();\n",
       "        }}\n",
       "}});\n",
       "\n",
       "// Listen for the removal of the full notebook cells\n",
       "var notebookContainer = gd.closest('#notebook-container');\n",
       "if (notebookContainer) {{\n",
       "    x.observe(notebookContainer, {childList: true});\n",
       "}}\n",
       "\n",
       "// Listen for the clearing of the current output cell\n",
       "var outputEl = gd.closest('.output');\n",
       "if (outputEl) {{\n",
       "    x.observe(outputEl, {childList: true});\n",
       "}}\n",
       "\n",
       "                        })                };                });            </script>        </div>"
      ]
     },
     "metadata": {},
     "output_type": "display_data"
    }
   ],
   "source": [
    "trace = go.Scatter(x = x,\n",
    "                  y= y,\n",
    "                  marker = dict(color = '#db0000'))\n",
    "\n",
    "#layout of the trace\n",
    "layout = dict(title = 'Movie-Ratings Grouped By Day',\n",
    "              xaxis = dict(title = 'Date'),\n",
    "              yaxis = dict(title = 'Ratings'))\n",
    "\n",
    "fig = go.Figure(data = [trace], layout= layout)\n",
    "iplot(fig)"
   ]
  },
  {
   "cell_type": "markdown",
   "metadata": {},
   "source": [
    "Now lets see how to preprocess the data for creating basic recommender systems. We will reduce dimensionality of the dataset by filter the rarely reviewed movies."
   ]
  },
  {
   "cell_type": "code",
   "execution_count": 119,
   "metadata": {},
   "outputs": [
    {
     "data": {
      "text/plain": [
       "13367     True\n",
       "4499      True\n",
       "17770     True\n",
       "9210      True\n",
       "5317      True\n",
       "15124     True\n",
       "14313     True\n",
       "15205     True\n",
       "1905      True\n",
       "6287      True\n",
       "11283     True\n",
       "16377     True\n",
       "16242     True\n",
       "12470     True\n",
       "15582     True\n",
       "9340      True\n",
       "6972      True\n",
       "12317     True\n",
       "2152      True\n",
       "3860      True\n",
       "15107     True\n",
       "6037      True\n",
       "4432      True\n",
       "5496      True\n",
       "571       True\n",
       "14538     True\n",
       "14367     True\n",
       "3938      True\n",
       "12232     True\n",
       "7624      True\n",
       "         ...  \n",
       "16542    False\n",
       "11500    False\n",
       "4338     False\n",
       "11838    False\n",
       "12107    False\n",
       "15587    False\n",
       "15571    False\n",
       "8858     False\n",
       "15197    False\n",
       "4362     False\n",
       "16155    False\n",
       "13064    False\n",
       "7717     False\n",
       "9507     False\n",
       "4614     False\n",
       "10581    False\n",
       "13405    False\n",
       "9124     False\n",
       "11936    False\n",
       "10597    False\n",
       "8964     False\n",
       "16875    False\n",
       "4711     False\n",
       "12418    False\n",
       "8146     False\n",
       "4806     False\n",
       "11344    False\n",
       "6256     False\n",
       "11148    False\n",
       "13755    False\n",
       "Name: Movie, Length: 17770, dtype: bool"
      ]
     },
     "execution_count": 119,
     "metadata": {},
     "output_type": "execute_result"
    }
   ],
   "source": [
    "minMovieRating = 20000\n",
    "\n",
    "filterMovie = (totalDF['Movie'].value_counts() > minMovieRating)\n",
    "filterMovie "
   ]
  },
  {
   "cell_type": "code",
   "execution_count": 120,
   "metadata": {},
   "outputs": [],
   "source": [
    "filterMovie = filterMovie[filterMovie].index.tolist()"
   ]
  },
  {
   "cell_type": "code",
   "execution_count": 121,
   "metadata": {},
   "outputs": [
    {
     "data": {
      "text/plain": [
       "1278"
      ]
     },
     "execution_count": 121,
     "metadata": {},
     "output_type": "execute_result"
    }
   ],
   "source": [
    "len(filterMovie)"
   ]
  },
  {
   "cell_type": "code",
   "execution_count": 122,
   "metadata": {},
   "outputs": [
    {
     "data": {
      "text/plain": [
       "324471"
      ]
     },
     "execution_count": 122,
     "metadata": {},
     "output_type": "execute_result"
    }
   ],
   "source": [
    "#Filter Sparse users\n",
    "minUser = 200\n",
    "\n",
    "filterUser = (totalDF['User'].value_counts() > minUser)\n",
    "filterUser = filterUser[filterUser].index.tolist()\n",
    "len(filterUser)"
   ]
  },
  {
   "cell_type": "code",
   "execution_count": 124,
   "metadata": {},
   "outputs": [
    {
     "data": {
      "text/plain": [
       "(354791701, 4)"
      ]
     },
     "execution_count": 124,
     "metadata": {},
     "output_type": "execute_result"
    }
   ],
   "source": [
    "#Create the dataframe after filtering\n",
    "\n",
    "filterDF = totalDF[(totalDF['Movie'].isin(filterMovie)) & (totalDF['User'].isin(filterUser))]\n",
    "filterDF.shape"
   ]
  },
  {
   "cell_type": "code",
   "execution_count": null,
   "metadata": {},
   "outputs": [],
   "source": []
  }
 ],
 "metadata": {
  "kernelspec": {
   "display_name": "venv-3.6.6-gpu",
   "language": "python",
   "name": "venv-3.6.6-gpu"
  },
  "language_info": {
   "codemirror_mode": {
    "name": "ipython",
    "version": 3
   },
   "file_extension": ".py",
   "mimetype": "text/x-python",
   "name": "python",
   "nbconvert_exporter": "python",
   "pygments_lexer": "ipython3",
   "version": "3.6.6"
  }
 },
 "nbformat": 4,
 "nbformat_minor": 4
}
